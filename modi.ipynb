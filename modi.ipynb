{
 "cells": [
  {
   "cell_type": "code",
   "execution_count": 46,
   "metadata": {},
   "outputs": [
    {
     "name": "stdout",
     "output_type": "stream",
     "text": [
      "  lito_clave tema_clave                                           solucion\n",
      "0     033872          A  TRRQRPRTRRQSTQTQPQQRQSQRQSSRTSTPQRTRPSTRRQQTRS...\n",
      "1     033871          B  TTPTRTPTSSSTPTTSPPSQRRTQPRPRSPTTRTQQPPSPP STRR...\n",
      "2     033874          C  PQQSQRQTTQRSRPPRPQTPRPPTSTPRSQQTTSPTSQTTTTRSQQ...\n",
      "3     033873          D  PTRPRTRSTSSTSPSTPTQSRSQQQSQRQSRPSQPPRTRPRRTPPS...\n",
      "4     033880          P  TPPRRTRSQSRQQSPRPRQRSQQTPTSSPTTPTTPRRQSSPQQSRQ...\n",
      "5     033877          Q  PTRQPTPTSRQQQQQPSQQRPSRQSQTPPSPQPTRRPPQTTQQRRP...\n",
      "6     033876          R  QPTSPSTSSTTQSTPQRSPSQTRPTRTPPSSQSRTTPPTTTPTTQS...\n",
      "7     033875          S  QTRTSQSPSRRPSPRPPTRRRPPRTTRQRPSSSPTPQRQPQSSPPS...\n"
     ]
    }
   ],
   "source": [
    "import numpy as np\n",
    "import pandas as pd\n",
    "\n",
    "try:\n",
    "    with open(\"claves.sdf\", \"r\") as archivo:\n",
    "        df_claves = pd.DataFrame(columns=['lito_clave', 'tema_clave', 'solucion'])\n",
    "        data_claves = archivo.readlines()\n",
    "        for line in data_claves:\n",
    "            lito = line[:6]\n",
    "            tema = line[6]\n",
    "            solucion = line[7:].replace('\\n', '')\n",
    "            df_claves = pd.concat([df_claves, pd.DataFrame({'lito_clave': [lito], 'tema_clave': [tema], 'solucion': [solucion]})], ignore_index=True)            \n",
    "    print(df_claves)\n",
    "except Exception as e:\n",
    "    print('Hubo un error: ', e)"
   ]
  },
  {
   "cell_type": "code",
   "execution_count": 49,
   "metadata": {},
   "outputs": [
    {
     "name": "stdout",
     "output_type": "stream",
     "text": [
      "[1, 2, 3, 4]\n",
      "['T', 'R', 'R', 'Q', 'R', 'P', 'R', 'T', 'R', 'R', 'Q', 'S', 'T', 'Q', 'T', 'Q', 'P', 'Q', 'Q', 'R', 'Q', 'S', 'Q', 'R', 'Q', 'S', 'S', 'R', 'T', 'S', 'T', 'P', 'Q', 'R', 'T', 'R', 'P', 'S', 'T', 'R', 'R', 'Q', 'Q', 'T', 'R', 'S', 'P', 'S', 'T', 'P', 'P', 'T', 'P', 'S', 'T', 'R', 'T', 'S', 'S', 'T', 'R', 'S', 'R', 'R', 'S', 'P', 'T', 'R', 'S', 'T', 'Q', 'Q', 'R', 'S', 'T', 'Q', 'Q', 'Q', 'T', 'R', 'S', 'T', 'Q', 'S', 'Q', 'Q', 'T', 'Q', 'Q', 'R', 'S', 'Q', 'T', 'P', 'R', 'S', 'S', 'Q', 'Q', 'R']\n",
      "[' ', ' ', ' ', ' ', 'R', 'P', 'R', 'T', 'R', 'R', 'Q', 'S', 'T', 'Q', 'T', 'Q', 'P', 'Q', 'Q', 'R', 'Q', 'S', 'Q', 'R', 'Q', 'S', 'S', 'R', 'T', 'S', 'T', 'P', 'Q', 'R', 'T', 'R', 'P', 'S', 'T', 'R', 'R', 'Q', 'Q', 'T', 'R', 'S', 'P', 'S', 'T', 'P', 'P', 'T', 'P', 'S', 'T', 'R', 'T', 'S', 'S', 'T', 'R', 'S', 'R', 'R', 'S', 'P', 'T', 'R', 'S', 'T', 'Q', 'Q', 'R', 'S', 'T', 'Q', 'Q', 'Q', 'T', 'R', 'S', 'T', 'Q', 'S', 'Q', 'Q', 'T', 'Q', 'Q', 'R', 'S', 'Q', 'T', 'P', 'R', 'S', 'S', 'Q', 'Q', 'R']\n"
     ]
    }
   ],
   "source": [
    "def mod_tema(tema, preguntas, df_claves):\n",
    "    list_preguntas = [int(i) for i in preguntas.split(',') if i != '']\n",
    "    print(list_preguntas)\n",
    "    arr_clave = df_claves.loc[df_claves['tema_clave'] == tema, 'solucion'].apply(list).tolist()\n",
    "    arr_clave = [char for solucion in arr_clave for char in solucion]\n",
    "    print(arr_clave)    \n",
    "    for pregunta in list_preguntas:\n",
    "        arr_clave[pregunta-1] = ' '\n",
    "\n",
    "    return arr_clave\n",
    "\n",
    "print(mod_tema('A', '1,2,3,4', df_claves))\n",
    "\n",
    "\n"
   ]
  }
 ],
 "metadata": {
  "kernelspec": {
   "display_name": "venv",
   "language": "python",
   "name": "python3"
  },
  "language_info": {
   "codemirror_mode": {
    "name": "ipython",
    "version": 3
   },
   "file_extension": ".py",
   "mimetype": "text/x-python",
   "name": "python",
   "nbconvert_exporter": "python",
   "pygments_lexer": "ipython3",
   "version": "3.10.6"
  },
  "orig_nbformat": 4
 },
 "nbformat": 4,
 "nbformat_minor": 2
}
