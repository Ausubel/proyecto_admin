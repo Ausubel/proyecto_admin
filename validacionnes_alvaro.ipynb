{
 "cells": [
  {
   "attachments": {},
   "cell_type": "markdown",
   "metadata": {},
   "source": [
    "### Validaciones"
   ]
  },
  {
   "cell_type": "code",
   "execution_count": 48,
   "metadata": {},
   "outputs": [],
   "source": [
    "import pandas as pd\n",
    "import re\n",
    "\n",
    "men = ''"
   ]
  },
  {
   "attachments": {},
   "cell_type": "markdown",
   "metadata": {},
   "source": [
    "Cargando datos"
   ]
  },
  {
   "cell_type": "code",
   "execution_count": 58,
   "metadata": {},
   "outputs": [
    {
     "name": "stdout",
     "output_type": "stream",
     "text": [
      "  lito_clave tema_clave                                           solucion\n",
      "0     033872          A  TRRQRPRTRRQSTQTQPQQRQSQRQSSRTSTPQRTRPSTRRQQTRS...\n",
      "1     033871          B  TTPTRTPTSSSTPTTSPPSQRRTQPRPRSPTTRTQQPPSPP STRR...\n",
      "2     033874          C  PQQSQRQTTQRSRPPRPQTPRPPTSTPRSQQTTSPTSQTTTTRSQQ...\n",
      "3     033873          D  PTRPRTRSTSSTSPSTPTQSRSQQQSQRQSRPSQPPRTRPRRTPPS...\n",
      "4     033880          P  TPPRRTRSQSRQQSPRPRQRSQQTPTSSPTTPTTPRRQSSPQQSRQ...\n",
      "5     033877          Q  PTRQPTPTSRQQQQQPSQQRPSRQSQTPPSPQPTRRPPQTTQQRRP...\n",
      "6     033876          R  QPTSPSTSSTTQSTPQRSPSQTRPTRTPPSSQSRTTPPTTTPTTQS...\n",
      "7     033875          S  QTRTSQSPSRRPSPRPPTRRRPPRTTRQRPSSSPTPQRQPQSSPPS...\n"
     ]
    }
   ],
   "source": [
    "try:\n",
    "    with open(\"claves.sdf\", \"r\") as archivo:\n",
    "        df_claves = pd.DataFrame(columns=['lito_clave', 'tema_clave', 'solucion'])\n",
    "        data_claves = archivo.readlines()\n",
    "        for line in data_claves:\n",
    "            lito = line[:6]\n",
    "            tema = line[6]\n",
    "            solucion = line[7:].replace('\\n', '')\n",
    "            df_claves = pd.concat([df_claves, pd.DataFrame({'lito_clave': [lito], 'tema_clave': [tema], 'solucion': [solucion]})], ignore_index=True)            \n",
    "    print(df_claves)\n",
    "except Exception as e:\n",
    "    print('Hubo un error: ', e)"
   ]
  },
  {
   "cell_type": "code",
   "execution_count": 59,
   "metadata": {},
   "outputs": [
    {
     "name": "stdout",
     "output_type": "stream",
     "text": [
      "     lito tema  codigo\n",
      "0  010486    C  350025\n",
      "1  010515    D  306126\n",
      "2  010484    P  326710\n",
      "3  010498    D  302174\n",
      "4  010512    B  320804\n",
      "5  010510    B  316323\n",
      "6  010487    S  318485\n",
      "7  010482    D  312488\n",
      "8  010483    Q  345033\n",
      "9  010519    Q  308296\n"
     ]
    }
   ],
   "source": [
    "try:\n",
    "    with open(\"identifi.sdf\", \"r\") as archivo:\n",
    "        df_identifi = pd.DataFrame(columns=['lito', 'tema', 'codigo'])\n",
    "        data_identifi = archivo.readlines()\n",
    "        for linea in data_identifi:\n",
    "            lito = linea[:6]\n",
    "            tema = linea[6]\n",
    "            codigo = linea[7:].replace('\\n', '')\n",
    "            df_identifi = pd.concat([df_identifi, pd.DataFrame({'lito': [lito], 'tema': [tema], 'codigo': [codigo]})], ignore_index=True)\n",
    "    print(df_identifi)\n",
    "except Exception as e:\n",
    "    print('Hubo un error: ', e)"
   ]
  },
  {
   "cell_type": "code",
   "execution_count": 60,
   "metadata": {},
   "outputs": [
    {
     "name": "stdout",
     "output_type": "stream",
     "text": [
      "     lito tema                                          respuesta\n",
      "0  010486    C  SR STQRRST R  P QSTQRPPTRTP RPQPTS SSTQSR R  Q...\n",
      "1  010515    D  PQQPRQSPTSRSQRQRPTQPTTQPQTRRQ RPSPPPST P R QPQ...\n",
      "2  010484    P     R          Q          TSSPTTPT PSRQSSRQTSRQ...\n",
      "3  010498    D  PTR QPRSTSSTS STSQQS RQQQTQRQ RPSQ  RT PRR Q T...\n",
      "4  010512    B  QTSQSQRTTPQRSRTQSRTQRSPQTPSQTPPRQTRTSRPTQTSPRP...\n",
      "5  010510    B  Q TSPS S TTQS QQRS SQT PT   T SQ RTTP QT  PSQS...\n",
      "6  010487    S     Q T T    Q     Q  SSPSQTPPRR PT RPPQTT PR P...\n",
      "7  010482    D  T RP    R   TQ           SSSQ R TQSRR S QS SRS...\n",
      "8  010483    Q  RTRQ              RS     PTRP T  RPQS SS QQSRQ...\n",
      "9  010519    Q   PTQPSTSSTTQRTPQRSQSQTTSTPR TSTPT T P TPT   S ...\n"
     ]
    }
   ],
   "source": [
    "try:\n",
    "    with open(\"respuestas.sdf\", \"r\") as archivo:\n",
    "        df_respuestas = pd.DataFrame(columns=['lito', 'tema', 'respuesta'])\n",
    "        data_respuestas = archivo.readlines()\n",
    "        for linea in data_respuestas:\n",
    "            lito = linea[:6]\n",
    "            tema = linea[6]\n",
    "            respuesta = linea[7:].replace('\\n', '')\n",
    "            df_respuestas = pd.concat([df_respuestas, pd.DataFrame({'lito': [lito], 'tema': [tema], 'respuesta': [respuesta]})], ignore_index=True)\n",
    "    print(df_respuestas)\n",
    "except Exception as e:\n",
    "    print('Hubo un error: ', e)"
   ]
  },
  {
   "cell_type": "code",
   "execution_count": 36,
   "metadata": {},
   "outputs": [],
   "source": [
    "#TEMAS = 'FGHIJKLMNOPRSTUVXYZ'\n",
    "tema = 'ABCDPQRS'\n",
    "#patron = r'^[TRQS ]+$'"
   ]
  },
  {
   "attachments": {},
   "cell_type": "markdown",
   "metadata": {},
   "source": [
    "#### 1- Estructura: click en boton y muestre la fila que no cumple la condicion\n",
    "CLAVES\n"
   ]
  },
  {
   "cell_type": "code",
   "execution_count": 37,
   "metadata": {},
   "outputs": [],
   "source": [
    "# Verificando lito\n",
    "lito_clave_esnum = pd.to_numeric(df_claves['lito_clave'], errors='coerce').notnull()\n",
    "invalid_rows = df_claves[~lito_clave_esnum]\n",
    "if invalid_rows.empty:\n",
    "    men += 'Hecho\\n'\n",
    "else:\n",
    "    men += 'Error en lito\\n' + invalid_rows['lito_clave'].to_string(header=False) + '\\n'"
   ]
  },
  {
   "cell_type": "code",
   "execution_count": 38,
   "metadata": {},
   "outputs": [],
   "source": [
    "# Verificando tema\n",
    "valid_tema = df_identifi['tema'].isin([i for i in tema])\n",
    "invalid_rows = df_identifi[~valid_tema]\n",
    "if invalid_rows.empty:\n",
    "    men += 'Hecho\\n'\n",
    "else:\n",
    "    men += 'Error en lito\\n' + invalid_rows['tema'].to_string(header=False) + '\\n'"
   ]
  },
  {
   "cell_type": "code",
   "execution_count": 39,
   "metadata": {},
   "outputs": [],
   "source": [
    "# Verificando solucion\n",
    "patronsito = 'TRQSP'\n",
    "patron = r'^['+patronsito+' ]*$'\n",
    "\n",
    "def validar_solucion_respuesta(solucion):\n",
    "    if len(solucion) != 100:\n",
    "        return False\n",
    "    if re.match(r'^['+patronsito+' ]*$', str(solucion)) is None:\n",
    "        return False\n",
    "    return True\n",
    "\n",
    "valid_rows = df_claves['solucion'].apply(validar_solucion_respuesta)\n",
    "invalid_rows = df_claves[~valid_rows]\n",
    "\n",
    "if invalid_rows.empty:\n",
    "    men += 'Hecho\\n'\n",
    "else:\n",
    "    men += 'Error en solucion\\n' + invalid_rows['solucion'].to_string(header=False) + '\\n'"
   ]
  },
  {
   "attachments": {},
   "cell_type": "markdown",
   "metadata": {},
   "source": [
    "IDENTIFI"
   ]
  },
  {
   "cell_type": "code",
   "execution_count": 40,
   "metadata": {},
   "outputs": [],
   "source": [
    "# Verificando lito\n",
    "valid_lito_identifi = pd.to_numeric(df_identifi['lito'], errors='coerce').notnull()\n",
    "invalid_rows_lito_identifi = df_identifi[~valid_lito_identifi]\n",
    "if invalid_rows_lito_identifi.empty:\n",
    "    men += 'Hecho\\n'\n",
    "else:\n",
    "    men += 'Error en lito\\n' + invalid_rows_lito_identifi['lito'].to_string(header=False) + '\\n'"
   ]
  },
  {
   "cell_type": "code",
   "execution_count": 41,
   "metadata": {},
   "outputs": [],
   "source": [
    "# Verificando tema\n",
    "valid_tema_identifi = df_identifi['tema'].isin([i for i in tema])\n",
    "invalid_rows_tema_identifi = df_identifi[~valid_tema_identifi]\n",
    "if invalid_rows_tema_identifi.empty:\n",
    "    men += 'Hecho\\n'\n",
    "else:\n",
    "    men += 'Error en tema\\n' + invalid_rows_tema_identifi['tema'].to_string(header=False) + '\\n'"
   ]
  },
  {
   "cell_type": "code",
   "execution_count": 42,
   "metadata": {},
   "outputs": [],
   "source": [
    "# Verificando codigo\n",
    "valid_codigo_identifi = pd.to_numeric(df_identifi['codigo'], errors='coerce').notnull()\n",
    "valid_codigo_identifi_len = df_identifi['codigo'].apply(lambda x: len(x) == 6)\n",
    "invalid_codigo_identifi = df_identifi[~valid_codigo_identifi]\n",
    "invalid_codigo_identifi_len  = df_identifi[~valid_codigo_identifi_len]\n",
    "invalid_rows_codigo_identifi = df_identifi[~(valid_codigo_identifi & valid_codigo_identifi_len)]\n",
    "if invalid_rows_codigo_identifi.empty:\n",
    "    men += 'Hecho\\n'\n",
    "else:\n",
    "    men += 'Error en tema\\n' + invalid_rows_codigo_identifi['codigo'].to_string(header=False) + '\\n'\n"
   ]
  },
  {
   "attachments": {},
   "cell_type": "markdown",
   "metadata": {},
   "source": [
    "Respuestas"
   ]
  },
  {
   "cell_type": "code",
   "execution_count": 43,
   "metadata": {},
   "outputs": [],
   "source": [
    "valid_lito_respuestas = pd.to_numeric(df_respuestas['lito'], errors='coerce').notnull()\n",
    "valid_codigo_identifi_len = df_identifi['lito'].apply(lambda x: len(x) == 6)\n",
    "invalid_lito_respuesta = df_respuestas[~valid_lito_respuestas]\n",
    "if invalid_lito_respuesta.empty:\n",
    "    men += 'Hecho\\n'\n",
    "else:\n",
    "    men += 'Error en tema\\n' + invalid_lito_respuesta['lito'].to_string(header=False) + '\\n'"
   ]
  },
  {
   "cell_type": "code",
   "execution_count": 44,
   "metadata": {},
   "outputs": [],
   "source": [
    "valid_tema_respuestas = df_respuestas['tema'].isin([i for i in tema])\n",
    "invalid_rows_tema_respuestas = df_respuestas[~valid_tema_respuestas]\n",
    "if invalid_rows_codigo_identifi.empty:\n",
    "    men += 'Hecho\\n'\n",
    "else:\n",
    "    men += 'Error en tema\\n' + invalid_rows_codigo_identifi['tema'].to_string(header=False) + '\\n'"
   ]
  },
  {
   "cell_type": "code",
   "execution_count": 45,
   "metadata": {},
   "outputs": [
    {
     "name": "stdout",
     "output_type": "stream",
     "text": [
      "Hecho\n",
      "Hecho\n",
      "Hecho\n",
      "Hecho\n",
      "Hecho\n",
      "Hecho\n",
      "Hecho\n",
      "Hecho\n",
      "Error en solucion\n",
      "86      SQRRQTRTPTS* R SRQTTRPPPQTPPS QTRS TS QTRPRPQQ...\n",
      "173     RTPT SQQSQRS PQP SQ T QRPR Q SS* Q  SRTSPQ T S...\n",
      "195     QTQPRQPSRQTRSQPQTRTRRTSQTPSTPRPRSRQTPRTTQPQQSR...\n",
      "233     STRSRRTQSQRSSPR PRRRQQPR  RQS RS QQP TSRQ STSQ...\n",
      "236     TPPPPPQQQ*QTPRQSPRQSRPTQQRPRSRSQPQQQTTQT RQRTP...\n",
      "323     TQQTTSPTRQQTRQPQSSQTSQQPPTSSRSPPSSTSSRTRTPRRQT...\n",
      "380     PQSQPS QSQPQPPPSSSQTRTQPPSQS* QRQS T PQ R    Q...\n",
      "492     SQRSTRPSPSQRTSPS   RQRQ QTPRTQTQT*RRSSPRP TRQT...\n",
      "572     S SRRR       PRPTRPRT QSPT*RQTTTSRRRPQ  SR Q  ...\n",
      "578     STRQSRSPSRSPSSP PRRTRSPQPRQQRQ QRRTQ QS QQ QSQ...\n",
      "579     QQTQP*PQQRRPPRQRRSRTQTTTPTPPPTPPQQQQQSSSSSTRRT...\n",
      "604     RSTRPSTS RTSSTPTRSPSQTRSTSSSSSSSSS*SSSSSSSSSSS...\n",
      "624     SRPQTPTRPTTRQPRSRQQRSQSTPRQPRSRTTQSTSQPQRRTPQR...\n",
      "701     TPS QQT QT  RTRPS QPTR T QRPTS  SP    STSR QSS...\n",
      "1009    SQSQSTQRTPPQPRPSQRTRRQP TP  SRQPSPPTSQSTQPRTPT...\n",
      "1030    TTRQSQTPSRTQTP  PSS* T QS  R      Q  SS   TPS ...\n",
      "1082    S      Q     RR        R QSPPSP RTQ PTTQ*PT PS...\n",
      "1125     P P       RPQP T Q   Q  Q SSR  QPQQQQSRR TSRQ...\n",
      "1226    TR SSQSQS SPSPTQPTRR TRR QSR Q RTSQSQSP P STSP...\n",
      "1308    SSQS RT   QTQR  PRRTQR T        Q  R RT     S ...\n",
      "1383      PQ   R  QQPTQ R RSQT  T R *  T    Q    R   Q...\n",
      "1400    QQTRPQPPQQPQPPPPPQRTSQPPQQPQSQQPPRQTSRTQSQTPRQ...\n",
      "1430    TT PPPRPPTSRSPSTPPQSSSQTQTPRQSRPPPPPSTQPRSPPPP...\n",
      "1472    TPRTPTRSQQRPSSSSQRTRQRTSTQQQQSQSQSPRPTTTTTQPTR...\n",
      "1507    QSTPTS SSQRQSPTRSS SQ RSS R S RSS S Q S Q QRT ...\n",
      "1568    PRQQPSRSQSRS QSRS QSTS STQSRP SPPQ PSQ PRQ  RT...\n",
      "1582    QSQQPRQTQSQSTPPRQSSRR*PRPQPPQPRTSSSRTQRRSSRTTR...\n",
      "1616    PQSRQPPTTRPQR RRP RRRPPTSTP S QTTS SSTT S RT Q...\n",
      "1632    PQQPSRTPSRTTQSQTQRPRPTQRQRSTPQTQPQPSPRTTTTPRTP...\n",
      "1660    TRQSRTS RQ SPRPSPSRQTRQQ TSRPSPPQRPPQQSQQQRPTP...\n",
      "1773     PTS STS T  SPQ RS SQT PT  PPP QSPRRPTTQQQTRTR...\n",
      "1785    TTP     TR Q    P   Q  Q PQPPP*    TTTTT      ...\n",
      "1799    TQQPQSPTTRRRTQPRPSPTQRRRTQPTSTQSTPPPPQSQPQRTRQ...\n",
      "1805    RRTQR PTSQQPRSPRQSPTSPTQRSQ SPPTTRPTS QQRTP  Q...\n",
      "1835    RPQQTQT   Q   RT        SSRRPSPPPR*RP Q P  PT ...\n",
      "1842    PSQPPRRSTQPQRQPSPSPSRPP RSPPRTQTTT  RQTQRQSPTQ...\n",
      "1949      RQ P  P PSQQ PQQQTTT  PRSSSRRQQRTPQRTSQQQSPQ...\n",
      "1984    TPQR RP SPTR*SQSPQRRPQSPRTSS TQTPQPPQ S  Q SRQ...\n",
      "1986      RQQRTTSRRR Q RSSQ PPRRSRTRPRRTPRTRQPRSTSQRRT...\n",
      "1992    SRRPRQSPQSRSSPQSPRSQTQQSQSSRQPQSSS RRS SRSQTQQ...\n",
      "2045    RRS Q Q R  S   PSQ P  Q  QQP RR*  S  TT QRQ R ...\n",
      "2060    R RTTPQPRPP P S TTQ S SP RTQPRPQPTTRPPQSQQPRQT...\n",
      "2105    PSTSRTSQRQPPTTQSTSQTQSRSPRPRRPRTQQQPTTSPQQQSTQ...\n",
      "2138    SRRT*SQTPRQPQRRRPTTRSRQRRPQQSQQTQRQRQTPSSPTQSQ...\n",
      "2175    RSRTPRRTTTRPRRQPR R*RRPRQRPQSPTPTTPT TTTSTRQQT...\n",
      "2198    RSQS PPTT  QRPSQTSSRRPRTQSSQRQQTST RTPP T TP R...\n",
      "2215    R RPRSPS R S   QTQT      SSSP TSSQSQSQSP QQSSQ...\n",
      "2218    PQRQRQRPTSRTQPS*SQQSPSQQRSRSPQRPPQ  RS PRT PSQ...\n",
      "2276    QQQSSPSSTTSRTQPQQRSRTSQQRSSS TPPPPPQQQS PQQSRQ...\n",
      "2329    RQQSQ  TTP    PR PTR RPR SQ   QTTR TSRTTSQRQQT...\n",
      "2440    PTRRPTTTSRQQQQQPSQQRPSRTSQTPPSPQPTRRPPQTTQPRRP...\n",
      "2475    QQPQPSPSQTSQPQPQPQPTRRRQPPSTPSQSPPPRQTSSTPQSSR...\n",
      "2490    PQQTQTQSTQPPRRPRSPTPRRPTSSQSSQQPPSPTSQTTT RSPQ...\n",
      "2618    SSSRPQRSSQQRRQRPPSPPQQRPPSRSSSQQPTRSPRRTRTSRPP...\n",
      "2664    STTPSQQSQQQTSP  PTTTTPQRPPQ  SQS PRSQRS P P TR...\n",
      "2683    RSPQRPSRTQSPQRQPSPTRTSQQRRQPPSPSTQRPSRSRPQQSQS...\n",
      "2687    TQQRTT TTQQPQQQPPQSRQ SQPQQSPSTSTPPTRRSTQQQSRS...\n",
      "2705     QRS  R      Q           PP*RS  TPPRR    Q P  ...\n",
      "2714    R      SRS   P TRTPRQPSRQPQPQRTQSTR S TQSPRQ Q...\n",
      "2718    PQQRSQQTSQ*  RPRRP PRPPTQRQ STQTTS TSPT STR   ...\n",
      "2731    QSR S SPSRPPSP  PRRTTQ R   R         SS     * ...\n",
      "2740    P*RQQQPP RRPSPP PRRRRPPQRS RT R     S  Q  SPQ ...\n",
      "2800    QPSQR* QSQPRSS*PRRQTPRQSQTPRSPTPSQRSRRSQPRQPTR...\n",
      "\n"
     ]
    }
   ],
   "source": [
    "valid_rows_respuestas = df_respuestas['respuesta'].apply(validar_solucion_respuesta)\n",
    "invalid_rows_respuestas = df_respuestas[~valid_rows_respuestas]\n",
    "\n",
    "if invalid_rows_respuestas.empty:\n",
    "    men += 'Hecho\\n'\n",
    "else:\n",
    "    men += 'Error en respuesta\\n' + invalid_rows_respuestas['respuesta'].to_string(header=False) + '\\n'\n",
    "print(men)"
   ]
  },
  {
   "attachments": {},
   "cell_type": "markdown",
   "metadata": {},
   "source": [
    "## VALIDAR DUPLICADOS CODIGOS POSTULANTES"
   ]
  },
  {
   "cell_type": "code",
   "execution_count": 46,
   "metadata": {},
   "outputs": [],
   "source": [
    "try:\n",
    "    with open(\"identifi.sdf\", \"r\") as archivo:\n",
    "        df_identifi = pd.DataFrame(columns=['lito', 'tema', 'codigo'])\n",
    "        data_identifi = archivo.readlines()\n",
    "        for linea in data_identifi:\n",
    "            lito = linea[:6]\n",
    "            tema = linea[6]\n",
    "            codigo = linea[7:13]\n",
    "            df_identifi = pd.concat([df_identifi, pd.DataFrame({'lito': [lito], 'tema': [tema], 'codigo': [codigo]})], ignore_index=True)\n",
    "except Exception as e:\n",
    "    print('Hubo un error: ', e)"
   ]
  },
  {
   "cell_type": "code",
   "execution_count": 47,
   "metadata": {},
   "outputs": [
    {
     "name": "stdout",
     "output_type": "stream",
     "text": [
      "        lito tema  codigo\n",
      "0     010486    A  350025\n",
      "1     010515    R  306126\n",
      "2     010484    C  326710\n",
      "3     010498    S  302174\n",
      "4     010512    B  320804\n",
      "...      ...  ...     ...\n",
      "2790  010476    S  302513\n",
      "2791  010450    P  315200\n",
      "2792  010477    Q  313809\n",
      "2793  010449    R  305953\n",
      "2794  010474    S  304378\n",
      "\n",
      "[2795 rows x 3 columns]\n"
     ]
    }
   ],
   "source": [
    "print(df_identifi)"
   ]
  },
  {
   "cell_type": "code",
   "execution_count": 48,
   "metadata": {},
   "outputs": [
    {
     "name": "stdout",
     "output_type": "stream",
     "text": [
      "No hay duplicados en la columna 'codigo'\n"
     ]
    }
   ],
   "source": [
    "duplicados = df_identifi.duplicated(subset=['codigo'])\n",
    "if duplicados.any():\n",
    "    print(\"Hay duplicados en la columna 'codigo'\")\n",
    "else:\n",
    "    print(\"No hay duplicados en la columna 'codigo'\")"
   ]
  },
  {
   "cell_type": "code",
   "execution_count": 49,
   "metadata": {},
   "outputs": [
    {
     "name": "stdout",
     "output_type": "stream",
     "text": [
      "No se encontraron duplicados en la columna 'codigo'\n"
     ]
    }
   ],
   "source": [
    "duplicados = df_identifi.duplicated(subset=['codigo'], keep=False)\n",
    "\n",
    "if duplicados.any():\n",
    "    print(\"Se encontraron duplicados en la columna 'codigo':\\n\")\n",
    "    for codigo in df_identifi[duplicados]['codigo'].unique():\n",
    "        df_duplicados = df_identifi[df_identifi['codigo'] == codigo]\n",
    "        if len(df_duplicados) > 1:\n",
    "            print(df_duplicados)\n",
    "else:\n",
    "    print(\"No se encontraron duplicados en la columna 'codigo'\")"
   ]
  },
  {
   "cell_type": "code",
   "execution_count": 50,
   "metadata": {},
   "outputs": [
    {
     "name": "stdout",
     "output_type": "stream",
     "text": [
      "No se encontraron duplicados en la columna 'codigo'\n"
     ]
    }
   ],
   "source": [
    "duplicados = df_identifi.duplicated(subset=['codigo'], keep=False)\n",
    "\n",
    "if duplicados.any():\n",
    "    print(\"Se encontraron duplicados en la columna 'codigo':\\n\")\n",
    "    datos_duplicados = {}\n",
    "    for codigo, df_codigo in df_identifi[duplicados].groupby('codigo'):\n",
    "        if len(df_codigo) > 1:\n",
    "            datos_duplicados[codigo] = {'lito': [], 'tema': [], 'indices': []}\n",
    "            for idx, fila in enumerate(df_codigo.itertuples(), start=1):\n",
    "                datos_duplicados[codigo]['lito'].append(fila.lito)\n",
    "                datos_duplicados[codigo]['tema'].append(fila.tema)\n",
    "                datos_duplicados[codigo]['indices'].append(fila.Index)\n",
    "            print(pd.DataFrame({'lito': datos_duplicados[codigo]['lito'], 'tema': datos_duplicados[codigo]['tema'], 'codigo': [codigo]*len(df_codigo), 'fila': datos_duplicados[codigo]['indices']}))\n",
    "else:\n",
    "    print(\"No se encontraron duplicados en la columna 'codigo'\")"
   ]
  },
  {
   "cell_type": "code",
   "execution_count": 51,
   "metadata": {},
   "outputs": [
    {
     "name": "stdout",
     "output_type": "stream",
     "text": [
      "No se encontraron duplicados en la columna 'codigo'\n"
     ]
    }
   ],
   "source": [
    "duplicados = df_identifi.duplicated(subset=['codigo'], keep=False)\n",
    "\n",
    "if duplicados.any():\n",
    "    print(\"Se encontraron duplicados en la columna 'codigo':\\n\")\n",
    "    datos_duplicados = {}\n",
    "    for codigo, df_codigo in df_identifi[duplicados].groupby('codigo'):\n",
    "        if len(df_codigo) > 1:\n",
    "            datos_duplicados[codigo] = {'lito': [], 'tema': [], 'indices': []}\n",
    "            for idx, fila in enumerate(df_codigo.itertuples(), start=1):\n",
    "                datos_duplicados[codigo]['lito'].append(fila.lito)\n",
    "                datos_duplicados[codigo]['tema'].append(fila.tema)\n",
    "                datos_duplicados[codigo]['indices'].append(fila.Index)\n",
    "            df_duplicados = pd.DataFrame({'lito': datos_duplicados[codigo]['lito'], 'tema': datos_duplicados[codigo]['tema'], 'codigo': [codigo]*len(df_codigo)})\n",
    "            print(df_duplicados[['lito', 'tema', 'codigo']])     \n",
    "else:\n",
    "    print(\"No se encontraron duplicados en la columna 'codigo'\")\n"
   ]
  },
  {
   "cell_type": "code",
   "execution_count": 52,
   "metadata": {},
   "outputs": [
    {
     "name": "stdout",
     "output_type": "stream",
     "text": [
      "No se encontraron duplicados en la columna 'codigo'\n"
     ]
    }
   ],
   "source": [
    "duplicados = df_identifi.duplicated(subset=['codigo'], keep=False)\n",
    "\n",
    "if duplicados.any():\n",
    "    print(\"Se encontraron duplicados en la columna 'codigo':\\n\")\n",
    "    datos_duplicados = {}\n",
    "    for codigo, df_codigo in df_identifi[duplicados].groupby('codigo'):\n",
    "        if len(df_codigo) > 1:\n",
    "            datos_duplicados[codigo] = {'lito': [], 'tema': [], 'indices': []}\n",
    "            for idx, fila in enumerate(df_codigo.itertuples(), start=1):\n",
    "                datos_duplicados[codigo]['lito'].append(fila.lito)\n",
    "                datos_duplicados[codigo]['tema'].append(fila.tema)\n",
    "                datos_duplicados[codigo]['indices'].append(fila.Index)\n",
    "            df_duplicados = pd.DataFrame({'lito': datos_duplicados[codigo]['lito'], 'tema': datos_duplicados[codigo]['tema'], 'codigo': [codigo]*len(df_codigo), 'fila': datos_duplicados[codigo]['indices']})\n",
    "            df_duplicados = df_duplicados[['lito', 'tema', 'codigo', 'fila']]\n",
    "            print(df_duplicados)\n",
    "else:\n",
    "    print(\"No se encontraron duplicados en la columna 'codigo'\")"
   ]
  },
  {
   "attachments": {},
   "cell_type": "markdown",
   "metadata": {},
   "source": [
    "## VALIDAR DUPLICADOS DE LITOS"
   ]
  },
  {
   "cell_type": "code",
   "execution_count": 53,
   "metadata": {},
   "outputs": [
    {
     "name": "stdout",
     "output_type": "stream",
     "text": [
      "        lito tema  codigo\n",
      "0     010486    A  350025\n",
      "1     010515    R  306126\n",
      "2     010484    C  326710\n",
      "3     010498    S  302174\n",
      "4     010512    B  320804\n",
      "...      ...  ...     ...\n",
      "2790  010476    S  302513\n",
      "2791  010450    P  315200\n",
      "2792  010477    Q  313809\n",
      "2793  010449    R  305953\n",
      "2794  010474    S  304378\n",
      "\n",
      "[2795 rows x 3 columns]\n",
      "        lito tema                                          respuesta\n",
      "0     033916    C  SR STQRRST R  P QSTQRPPTRTP RPQPTS SSTQSR R  Q...\n",
      "1     033884    D  PQQPRQSPTSRSQRQRPTQPTTQPQTRRQ RPSPPPST P R QPQ...\n",
      "2     033919    P     R          Q          TSSPTTPT PSRQSSRQTSRQ...\n",
      "3     033910    D  PTR QPRSTSSTS STSQQS RQQQTQRQ RPSQ  RT PRR Q T...\n",
      "4     033892    C  QTSQSQRTTPQRSRTQSRTQRSPQTPSQTPPRQTRTSRPTQTSPRP...\n",
      "...      ...  ...                                                ...\n",
      "2796  011846    P  TSR  T  Q  RQPQ TRTP  P  TSRTP P QPQR S Q QSR ...\n",
      "2797  011844    B  Q              P        SQ STPS RQS   S RQ R  ...\n",
      "2798  011845    C    QTPPQTR P   QRPP RSPPTTTP S QTTS  TTQ Q R  Q...\n",
      "2799  011843    D  PSQQRQSP SRTQTQPSRQSSQ QSTSRP RPTQPPRT PRR PTR...\n",
      "2800  011842    A  QPSQR* QSQPRSS*PRRQTPRQSQTPRSPTPSQRSRRSQPRQPTR...\n",
      "\n",
      "[2801 rows x 3 columns]\n"
     ]
    }
   ],
   "source": [
    "print(df_identifi)\n",
    "print(df_respuestas)"
   ]
  },
  {
   "attachments": {},
   "cell_type": "markdown",
   "metadata": {},
   "source": [
    "### Validacion duplicado lito identifi"
   ]
  },
  {
   "cell_type": "code",
   "execution_count": 54,
   "metadata": {},
   "outputs": [
    {
     "name": "stdout",
     "output_type": "stream",
     "text": [
      "Se encontraron duplicados en la columna 'lito':\n",
      "\n",
      "     lito tema  codigo  fila\n",
      "0  010510    B  316323     5\n",
      "1  010510    B  314369    48\n"
     ]
    }
   ],
   "source": [
    "duplicados = df_identifi.duplicated(subset=['lito'], keep=False)\n",
    "\n",
    "if duplicados.any():\n",
    "    print(\"Se encontraron duplicados en la columna 'lito':\\n\")\n",
    "    datos_duplicados = {}\n",
    "    for lito, df_lito in df_identifi[duplicados].groupby('lito'):\n",
    "        if len(df_lito) > 1:\n",
    "            datos_duplicados[lito] = {'codigo': [], 'tema': [], 'indices': []}\n",
    "            for idx, fila in enumerate(df_lito.itertuples(), start=1):\n",
    "                datos_duplicados[lito]['codigo'].append(fila.codigo)\n",
    "                datos_duplicados[lito]['tema'].append(fila.tema)\n",
    "                datos_duplicados[lito]['indices'].append(fila.Index)\n",
    "            df_duplicados = pd.DataFrame({'codigo': datos_duplicados[lito]['codigo'], 'tema': datos_duplicados[lito]['tema'], 'lito': [lito]*len(df_lito), 'fila': datos_duplicados[lito]['indices']})\n",
    "            df_duplicados = df_duplicados[['lito', 'tema', 'codigo', 'fila']]\n",
    "            print(df_duplicados)\n",
    "else:\n",
    "    print(\"No se encontraron duplicados en la columna 'lito'\")"
   ]
  },
  {
   "attachments": {},
   "cell_type": "markdown",
   "metadata": {},
   "source": [
    "### Validación duplicado lito respuesta"
   ]
  },
  {
   "cell_type": "code",
   "execution_count": 55,
   "metadata": {},
   "outputs": [
    {
     "name": "stdout",
     "output_type": "stream",
     "text": [
      "0       False\n",
      "1       False\n",
      "2       False\n",
      "3       False\n",
      "4       False\n",
      "        ...  \n",
      "2796    False\n",
      "2797    False\n",
      "2798    False\n",
      "2799    False\n",
      "2800    False\n",
      "Length: 2801, dtype: bool\n",
      "False\n",
      "No se encontraron duplicados en la columna 'lito'\n"
     ]
    }
   ],
   "source": [
    "duplicados = df_respuestas.duplicated(subset=['lito'], keep=False)\n",
    "print(duplicados)\n",
    "print(duplicados.any())\n",
    "if duplicados.any():\n",
    "    print(\"Se encontraron duplicados en la columna 'lito':\\n\")\n",
    "    datos_duplicados = {}\n",
    "    for lito, df_lito in df_respuestas[duplicados].groupby('lito'):\n",
    "        if len(df_lito) > 1:\n",
    "            datos_duplicados[lito] = {'tema': [], 'respuestas': [], 'indices': []}\n",
    "            for idx, fila in enumerate(df_lito.itertuples(), start=1):\n",
    "                datos_duplicados[lito]['tema'].append(fila.tema)\n",
    "                datos_duplicados[lito]['respuestas'].append(fila.respuesta)\n",
    "                datos_duplicados[lito]['indices'].append(fila.Index)\n",
    "            df_duplicados = pd.DataFrame({'lito': [lito]*len(df_lito), 'tema': datos_duplicados[lito]['tema'], 'respuestas': datos_duplicados[lito]['respuestas'], 'fila': datos_duplicados[lito]['indices']})\n",
    "            df_duplicados = df_duplicados[['lito', 'tema', 'respuestas', 'fila']]\n",
    "            print(df_duplicados)\n",
    "else:\n",
    "    print(\"No se encontraron duplicados en la columna 'lito'\")"
   ]
  },
  {
   "cell_type": "code",
   "execution_count": 61,
   "metadata": {},
   "outputs": [
    {
     "data": {
      "text/html": [
       "<div>\n",
       "<style scoped>\n",
       "    .dataframe tbody tr th:only-of-type {\n",
       "        vertical-align: middle;\n",
       "    }\n",
       "\n",
       "    .dataframe tbody tr th {\n",
       "        vertical-align: top;\n",
       "    }\n",
       "\n",
       "    .dataframe thead th {\n",
       "        text-align: right;\n",
       "    }\n",
       "</style>\n",
       "<table border=\"1\" class=\"dataframe\">\n",
       "  <thead>\n",
       "    <tr style=\"text-align: right;\">\n",
       "      <th></th>\n",
       "      <th>lito_clave</th>\n",
       "      <th>tema_clave</th>\n",
       "      <th>solucion</th>\n",
       "    </tr>\n",
       "  </thead>\n",
       "  <tbody>\n",
       "    <tr>\n",
       "      <th>0</th>\n",
       "      <td>033872</td>\n",
       "      <td>A</td>\n",
       "      <td>TRRQRPRTRRQSTQTQPQQRQSQRQSSRTSTPQRTRPSTRRQQTRS...</td>\n",
       "    </tr>\n",
       "    <tr>\n",
       "      <th>1</th>\n",
       "      <td>033871</td>\n",
       "      <td>B</td>\n",
       "      <td>TTPTRTPTSSSTPTTSPPSQRRTQPRPRSPTTRTQQPPSPP STRR...</td>\n",
       "    </tr>\n",
       "    <tr>\n",
       "      <th>2</th>\n",
       "      <td>033874</td>\n",
       "      <td>C</td>\n",
       "      <td>PQQSQRQTTQRSRPPRPQTPRPPTSTPRSQQTTSPTSQTTTTRSQQ...</td>\n",
       "    </tr>\n",
       "    <tr>\n",
       "      <th>3</th>\n",
       "      <td>033873</td>\n",
       "      <td>D</td>\n",
       "      <td>PTRPRTRSTSSTSPSTPTQSRSQQQSQRQSRPSQPPRTRPRRTPPS...</td>\n",
       "    </tr>\n",
       "    <tr>\n",
       "      <th>4</th>\n",
       "      <td>033880</td>\n",
       "      <td>P</td>\n",
       "      <td>TPPRRTRSQSRQQSPRPRQRSQQTPTSSPTTPTTPRRQSSPQQSRQ...</td>\n",
       "    </tr>\n",
       "    <tr>\n",
       "      <th>5</th>\n",
       "      <td>033877</td>\n",
       "      <td>Q</td>\n",
       "      <td>PTRQPTPTSRQQQQQPSQQRPSRQSQTPPSPQPTRRPPQTTQQRRP...</td>\n",
       "    </tr>\n",
       "    <tr>\n",
       "      <th>6</th>\n",
       "      <td>033876</td>\n",
       "      <td>R</td>\n",
       "      <td>QPTSPSTSSTTQSTPQRSPSQTRPTRTPPSSQSRTTPPTTTPTTQS...</td>\n",
       "    </tr>\n",
       "    <tr>\n",
       "      <th>7</th>\n",
       "      <td>033875</td>\n",
       "      <td>S</td>\n",
       "      <td>QTRTSQSPSRRPSPRPPTRRRPPRTTRQRPSSSPTPQRQPQSSPPS...</td>\n",
       "    </tr>\n",
       "  </tbody>\n",
       "</table>\n",
       "</div>"
      ],
      "text/plain": [
       "  lito_clave tema_clave                                           solucion\n",
       "0     033872          A  TRRQRPRTRRQSTQTQPQQRQSQRQSSRTSTPQRTRPSTRRQQTRS...\n",
       "1     033871          B  TTPTRTPTSSSTPTTSPPSQRRTQPRPRSPTTRTQQPPSPP STRR...\n",
       "2     033874          C  PQQSQRQTTQRSRPPRPQTPRPPTSTPRSQQTTSPTSQTTTTRSQQ...\n",
       "3     033873          D  PTRPRTRSTSSTSPSTPTQSRSQQQSQRQSRPSQPPRTRPRRTPPS...\n",
       "4     033880          P  TPPRRTRSQSRQQSPRPRQRSQQTPTSSPTTPTTPRRQSSPQQSRQ...\n",
       "5     033877          Q  PTRQPTPTSRQQQQQPSQQRPSRQSQTPPSPQPTRRPPQTTQQRRP...\n",
       "6     033876          R  QPTSPSTSSTTQSTPQRSPSQTRPTRTPPSSQSRTTPPTTTPTTQS...\n",
       "7     033875          S  QTRTSQSPSRRPSPRPPTRRRPPRTTRQRPSSSPTPQRQPQSSPPS..."
      ]
     },
     "execution_count": 61,
     "metadata": {},
     "output_type": "execute_result"
    }
   ],
   "source": [
    "df_claves"
   ]
  },
  {
   "cell_type": "code",
   "execution_count": 62,
   "metadata": {},
   "outputs": [
    {
     "data": {
      "text/html": [
       "<div>\n",
       "<style scoped>\n",
       "    .dataframe tbody tr th:only-of-type {\n",
       "        vertical-align: middle;\n",
       "    }\n",
       "\n",
       "    .dataframe tbody tr th {\n",
       "        vertical-align: top;\n",
       "    }\n",
       "\n",
       "    .dataframe thead th {\n",
       "        text-align: right;\n",
       "    }\n",
       "</style>\n",
       "<table border=\"1\" class=\"dataframe\">\n",
       "  <thead>\n",
       "    <tr style=\"text-align: right;\">\n",
       "      <th></th>\n",
       "      <th>lito</th>\n",
       "      <th>tema</th>\n",
       "      <th>codigo</th>\n",
       "    </tr>\n",
       "  </thead>\n",
       "  <tbody>\n",
       "    <tr>\n",
       "      <th>0</th>\n",
       "      <td>010486</td>\n",
       "      <td>C</td>\n",
       "      <td>350025</td>\n",
       "    </tr>\n",
       "    <tr>\n",
       "      <th>1</th>\n",
       "      <td>010515</td>\n",
       "      <td>D</td>\n",
       "      <td>306126</td>\n",
       "    </tr>\n",
       "    <tr>\n",
       "      <th>2</th>\n",
       "      <td>010484</td>\n",
       "      <td>P</td>\n",
       "      <td>326710</td>\n",
       "    </tr>\n",
       "    <tr>\n",
       "      <th>3</th>\n",
       "      <td>010498</td>\n",
       "      <td>D</td>\n",
       "      <td>302174</td>\n",
       "    </tr>\n",
       "    <tr>\n",
       "      <th>4</th>\n",
       "      <td>010512</td>\n",
       "      <td>B</td>\n",
       "      <td>320804</td>\n",
       "    </tr>\n",
       "    <tr>\n",
       "      <th>5</th>\n",
       "      <td>010510</td>\n",
       "      <td>B</td>\n",
       "      <td>316323</td>\n",
       "    </tr>\n",
       "    <tr>\n",
       "      <th>6</th>\n",
       "      <td>010487</td>\n",
       "      <td>S</td>\n",
       "      <td>318485</td>\n",
       "    </tr>\n",
       "    <tr>\n",
       "      <th>7</th>\n",
       "      <td>010482</td>\n",
       "      <td>D</td>\n",
       "      <td>312488</td>\n",
       "    </tr>\n",
       "    <tr>\n",
       "      <th>8</th>\n",
       "      <td>010483</td>\n",
       "      <td>Q</td>\n",
       "      <td>345033</td>\n",
       "    </tr>\n",
       "    <tr>\n",
       "      <th>9</th>\n",
       "      <td>010519</td>\n",
       "      <td>Q</td>\n",
       "      <td>308296</td>\n",
       "    </tr>\n",
       "  </tbody>\n",
       "</table>\n",
       "</div>"
      ],
      "text/plain": [
       "     lito tema  codigo\n",
       "0  010486    C  350025\n",
       "1  010515    D  306126\n",
       "2  010484    P  326710\n",
       "3  010498    D  302174\n",
       "4  010512    B  320804\n",
       "5  010510    B  316323\n",
       "6  010487    S  318485\n",
       "7  010482    D  312488\n",
       "8  010483    Q  345033\n",
       "9  010519    Q  308296"
      ]
     },
     "execution_count": 62,
     "metadata": {},
     "output_type": "execute_result"
    }
   ],
   "source": [
    "df_identifi"
   ]
  },
  {
   "cell_type": "code",
   "execution_count": 63,
   "metadata": {},
   "outputs": [
    {
     "data": {
      "text/html": [
       "<div>\n",
       "<style scoped>\n",
       "    .dataframe tbody tr th:only-of-type {\n",
       "        vertical-align: middle;\n",
       "    }\n",
       "\n",
       "    .dataframe tbody tr th {\n",
       "        vertical-align: top;\n",
       "    }\n",
       "\n",
       "    .dataframe thead th {\n",
       "        text-align: right;\n",
       "    }\n",
       "</style>\n",
       "<table border=\"1\" class=\"dataframe\">\n",
       "  <thead>\n",
       "    <tr style=\"text-align: right;\">\n",
       "      <th></th>\n",
       "      <th>lito</th>\n",
       "      <th>tema</th>\n",
       "      <th>respuesta</th>\n",
       "    </tr>\n",
       "  </thead>\n",
       "  <tbody>\n",
       "    <tr>\n",
       "      <th>0</th>\n",
       "      <td>010486</td>\n",
       "      <td>C</td>\n",
       "      <td>SR STQRRST R  P QSTQRPPTRTP RPQPTS SSTQSR R  Q...</td>\n",
       "    </tr>\n",
       "    <tr>\n",
       "      <th>1</th>\n",
       "      <td>010515</td>\n",
       "      <td>D</td>\n",
       "      <td>PQQPRQSPTSRSQRQRPTQPTTQPQTRRQ RPSPPPST P R QPQ...</td>\n",
       "    </tr>\n",
       "    <tr>\n",
       "      <th>2</th>\n",
       "      <td>010484</td>\n",
       "      <td>P</td>\n",
       "      <td>R          Q          TSSPTTPT PSRQSSRQTSRQ...</td>\n",
       "    </tr>\n",
       "    <tr>\n",
       "      <th>3</th>\n",
       "      <td>010498</td>\n",
       "      <td>D</td>\n",
       "      <td>PTR QPRSTSSTS STSQQS RQQQTQRQ RPSQ  RT PRR Q T...</td>\n",
       "    </tr>\n",
       "    <tr>\n",
       "      <th>4</th>\n",
       "      <td>010512</td>\n",
       "      <td>B</td>\n",
       "      <td>QTSQSQRTTPQRSRTQSRTQRSPQTPSQTPPRQTRTSRPTQTSPRP...</td>\n",
       "    </tr>\n",
       "    <tr>\n",
       "      <th>5</th>\n",
       "      <td>010510</td>\n",
       "      <td>B</td>\n",
       "      <td>Q TSPS S TTQS QQRS SQT PT   T SQ RTTP QT  PSQS...</td>\n",
       "    </tr>\n",
       "    <tr>\n",
       "      <th>6</th>\n",
       "      <td>010487</td>\n",
       "      <td>S</td>\n",
       "      <td>Q T T    Q     Q  SSPSQTPPRR PT RPPQTT PR P...</td>\n",
       "    </tr>\n",
       "    <tr>\n",
       "      <th>7</th>\n",
       "      <td>010482</td>\n",
       "      <td>D</td>\n",
       "      <td>T RP    R   TQ           SSSQ R TQSRR S QS SRS...</td>\n",
       "    </tr>\n",
       "    <tr>\n",
       "      <th>8</th>\n",
       "      <td>010483</td>\n",
       "      <td>Q</td>\n",
       "      <td>RTRQ              RS     PTRP T  RPQS SS QQSRQ...</td>\n",
       "    </tr>\n",
       "    <tr>\n",
       "      <th>9</th>\n",
       "      <td>010519</td>\n",
       "      <td>Q</td>\n",
       "      <td>PTQPSTSSTTQRTPQRSQSQTTSTPR TSTPT T P TPT   S ...</td>\n",
       "    </tr>\n",
       "  </tbody>\n",
       "</table>\n",
       "</div>"
      ],
      "text/plain": [
       "     lito tema                                          respuesta\n",
       "0  010486    C  SR STQRRST R  P QSTQRPPTRTP RPQPTS SSTQSR R  Q...\n",
       "1  010515    D  PQQPRQSPTSRSQRQRPTQPTTQPQTRRQ RPSPPPST P R QPQ...\n",
       "2  010484    P     R          Q          TSSPTTPT PSRQSSRQTSRQ...\n",
       "3  010498    D  PTR QPRSTSSTS STSQQS RQQQTQRQ RPSQ  RT PRR Q T...\n",
       "4  010512    B  QTSQSQRTTPQRSRTQSRTQRSPQTPSQTPPRQTRTSRPTQTSPRP...\n",
       "5  010510    B  Q TSPS S TTQS QQRS SQT PT   T SQ RTTP QT  PSQS...\n",
       "6  010487    S     Q T T    Q     Q  SSPSQTPPRR PT RPPQTT PR P...\n",
       "7  010482    D  T RP    R   TQ           SSSQ R TQSRR S QS SRS...\n",
       "8  010483    Q  RTRQ              RS     PTRP T  RPQS SS QQSRQ...\n",
       "9  010519    Q   PTQPSTSSTTQRTPQRSQSQTTSTPR TSTPT T P TPT   S ..."
      ]
     },
     "execution_count": 63,
     "metadata": {},
     "output_type": "execute_result"
    }
   ],
   "source": [
    "df_respuestas"
   ]
  },
  {
   "attachments": {},
   "cell_type": "markdown",
   "metadata": {},
   "source": [
    "# CALIFICAR"
   ]
  },
  {
   "cell_type": "code",
   "execution_count": 75,
   "metadata": {},
   "outputs": [
    {
     "name": "stdout",
     "output_type": "stream",
     "text": [
      "     lito tema  codigo puntaje correctas incorrectas vacias\n",
      "3  010498    D  302174   880.0        45          16     39\n",
      "2  010484    P  326710  823.75        42          13     45\n",
      "1  010515    D  306126  583.75        32          45     23\n",
      "0  010486    C  350025  333.75        19          37     44\n",
      "9  010519    Q  308296   297.5        19          66     15\n",
      "4  010512    B  320804  278.75        18          81      0\n",
      "8  010483    Q  345033   235.0        14          36     50\n",
      "7  010482    D  312488  233.75        14          37     49\n",
      "5  010510    B  316323   137.5        10          66     23\n",
      "6  010487    S  318485   107.5         8          42     50\n"
     ]
    }
   ],
   "source": [
    "correcta = 20\n",
    "incorrecta = 1.250\n",
    "nula = 0\n",
    "puntaje = 0\n",
    "\n",
    "# DataFrame con los resultados\n",
    "df_result = pd.DataFrame(columns=['lito', 'tema', 'puntaje', 'correctas', 'incorrectas', 'vacias'], index=range(len(df_respuestas)))\n",
    "\n",
    "for i in range(len(df_respuestas)):\n",
    "    var_respuesta = df_respuestas.iloc[i, 2]\n",
    "    puntaje = 0\n",
    "    \n",
    "    # Contadores de correctas, incorrectas, nulas\n",
    "    num_cor = 0\n",
    "    num_inc = 0\n",
    "    num_bla = 0\n",
    "\n",
    "    # Un bucle para comparar las respuestas con las claves\n",
    "    for j in range(len(df_claves)):\n",
    "        var_claves = df_claves.iloc[j, 2]\n",
    "        if df_respuestas.iloc[i,1] == df_claves.iloc[j,1]:\n",
    "            for k in range(len(var_respuesta)):\n",
    "                if var_claves[k] == \" \":\n",
    "                    puntaje += correcta\n",
    "                elif var_respuesta[k] == var_claves[k]: \n",
    "                    puntaje += correcta\n",
    "                    num_cor += 1\n",
    "                elif var_respuesta[k] == \" \":\n",
    "                    puntaje += nula\n",
    "                    num_bla += 1\n",
    "                else:\n",
    "                    puntaje -= incorrecta\n",
    "                    num_inc += 1\n",
    "    df_result.iloc[i] = [df_respuestas.iloc[i,0], df_respuestas.iloc[i,1], puntaje, num_cor, num_inc, num_bla]\n",
    "\n",
    "# Se hace un merge de DataFrames -> identifi & result\n",
    "df_final = pd.merge(df_identifi, df_result, on=['lito', 'tema'])\n",
    "\n",
    "# Se cambia el orden a descendente -> puntaje\n",
    "df_final = df_final.sort_values('puntaje', ascending=False)\n",
    "\n",
    "print(df_final)\n",
    "# # Se crean grupos de DataFrames\n",
    "# groups = df_final.groupby(df_final.tema)\n",
    "# df_final.to_csv('General.csv', index=False, sep=\",\")\n"
   ]
  },
  {
   "attachments": {},
   "cell_type": "markdown",
   "metadata": {},
   "source": [
    "### conexion"
   ]
  },
  {
   "cell_type": "code",
   "execution_count": 76,
   "metadata": {},
   "outputs": [],
   "source": [
    "import pyodbc"
   ]
  },
  {
   "cell_type": "code",
   "execution_count": 77,
   "metadata": {},
   "outputs": [],
   "source": [
    "cnxn_str = (\"Driver={SQL Server Native Client 11.0};\"\n",
    "            \"Server=LAPTOP-8LNIGLG0;\"\n",
    "            \"Database=Admission;\"\n",
    "            \"Trusted_Connection=yes;\")\n",
    "cnxn = pyodbc.connect(cnxn_str)"
   ]
  },
  {
   "cell_type": "code",
   "execution_count": 78,
   "metadata": {},
   "outputs": [
    {
     "name": "stderr",
     "output_type": "stream",
     "text": [
      "C:\\Users\\estilos\\AppData\\Local\\Temp\\ipykernel_11428\\1506118687.py:5: UserWarning: pandas only supports SQLAlchemy connectable (engine/connection) or database string URI or sqlite3 DBAPI2 connection. Other DBAPI2 objects are not tested. Please consider using SQLAlchemy.\n",
      "  df_sql = pd.read_sql(sql, cnxn)\n"
     ]
    }
   ],
   "source": [
    "# consulta SQL para obtener la tabla\n",
    "sql = \"SELECT Id, Nombre, codigo, escuela FROM Alumnos\"\n",
    "\n",
    "# leer la tabla en un dataframe de Pandas\n",
    "df_sql = pd.read_sql(sql, cnxn)\n",
    "\n",
    "# cerrar la conexión con la base de datos\n",
    "cnxn.close()"
   ]
  },
  {
   "cell_type": "code",
   "execution_count": 79,
   "metadata": {},
   "outputs": [
    {
     "data": {
      "text/html": [
       "<div>\n",
       "<style scoped>\n",
       "    .dataframe tbody tr th:only-of-type {\n",
       "        vertical-align: middle;\n",
       "    }\n",
       "\n",
       "    .dataframe tbody tr th {\n",
       "        vertical-align: top;\n",
       "    }\n",
       "\n",
       "    .dataframe thead th {\n",
       "        text-align: right;\n",
       "    }\n",
       "</style>\n",
       "<table border=\"1\" class=\"dataframe\">\n",
       "  <thead>\n",
       "    <tr style=\"text-align: right;\">\n",
       "      <th></th>\n",
       "      <th>Id</th>\n",
       "      <th>Nombre</th>\n",
       "      <th>codigo</th>\n",
       "      <th>escuela</th>\n",
       "    </tr>\n",
       "  </thead>\n",
       "  <tbody>\n",
       "    <tr>\n",
       "      <th>0</th>\n",
       "      <td>11</td>\n",
       "      <td>alvaro</td>\n",
       "      <td>318485</td>\n",
       "      <td>sistemas</td>\n",
       "    </tr>\n",
       "    <tr>\n",
       "      <th>1</th>\n",
       "      <td>12</td>\n",
       "      <td>alvaro1</td>\n",
       "      <td>302174</td>\n",
       "      <td>sistemas</td>\n",
       "    </tr>\n",
       "    <tr>\n",
       "      <th>2</th>\n",
       "      <td>13</td>\n",
       "      <td>alvaro2</td>\n",
       "      <td>326710</td>\n",
       "      <td>conta</td>\n",
       "    </tr>\n",
       "    <tr>\n",
       "      <th>3</th>\n",
       "      <td>14</td>\n",
       "      <td>alvaro3</td>\n",
       "      <td>306126</td>\n",
       "      <td>dere</td>\n",
       "    </tr>\n",
       "    <tr>\n",
       "      <th>4</th>\n",
       "      <td>15</td>\n",
       "      <td>alvaro4</td>\n",
       "      <td>350025</td>\n",
       "      <td>algo</td>\n",
       "    </tr>\n",
       "    <tr>\n",
       "      <th>5</th>\n",
       "      <td>16</td>\n",
       "      <td>alvaro5</td>\n",
       "      <td>308296</td>\n",
       "      <td>sistem</td>\n",
       "    </tr>\n",
       "    <tr>\n",
       "      <th>6</th>\n",
       "      <td>17</td>\n",
       "      <td>alvaro6</td>\n",
       "      <td>320804</td>\n",
       "      <td>sistem2</td>\n",
       "    </tr>\n",
       "    <tr>\n",
       "      <th>7</th>\n",
       "      <td>18</td>\n",
       "      <td>alvaro7</td>\n",
       "      <td>345033</td>\n",
       "      <td>sistem3</td>\n",
       "    </tr>\n",
       "    <tr>\n",
       "      <th>8</th>\n",
       "      <td>19</td>\n",
       "      <td>alvaro8</td>\n",
       "      <td>312488</td>\n",
       "      <td>sistem4</td>\n",
       "    </tr>\n",
       "    <tr>\n",
       "      <th>9</th>\n",
       "      <td>20</td>\n",
       "      <td>alvaro9</td>\n",
       "      <td>316323</td>\n",
       "      <td>sistem6</td>\n",
       "    </tr>\n",
       "  </tbody>\n",
       "</table>\n",
       "</div>"
      ],
      "text/plain": [
       "   Id   Nombre  codigo   escuela\n",
       "0  11   alvaro  318485  sistemas\n",
       "1  12  alvaro1  302174  sistemas\n",
       "2  13  alvaro2  326710     conta\n",
       "3  14  alvaro3  306126      dere\n",
       "4  15  alvaro4  350025      algo\n",
       "5  16  alvaro5  308296    sistem\n",
       "6  17  alvaro6  320804   sistem2\n",
       "7  18  alvaro7  345033   sistem3\n",
       "8  19  alvaro8  312488   sistem4\n",
       "9  20  alvaro9  316323   sistem6"
      ]
     },
     "execution_count": 79,
     "metadata": {},
     "output_type": "execute_result"
    }
   ],
   "source": [
    "df_sql"
   ]
  },
  {
   "cell_type": "code",
   "execution_count": 83,
   "metadata": {},
   "outputs": [],
   "source": [
    "# unir los dataframes utilizando la columna \"codigo\" como clave de unión\n",
    "df_merged = pd.merge(df_final, df_sql[['Nombre','codigo', 'escuela']], on='codigo', how='left')"
   ]
  },
  {
   "cell_type": "code",
   "execution_count": 84,
   "metadata": {},
   "outputs": [
    {
     "data": {
      "text/html": [
       "<div>\n",
       "<style scoped>\n",
       "    .dataframe tbody tr th:only-of-type {\n",
       "        vertical-align: middle;\n",
       "    }\n",
       "\n",
       "    .dataframe tbody tr th {\n",
       "        vertical-align: top;\n",
       "    }\n",
       "\n",
       "    .dataframe thead th {\n",
       "        text-align: right;\n",
       "    }\n",
       "</style>\n",
       "<table border=\"1\" class=\"dataframe\">\n",
       "  <thead>\n",
       "    <tr style=\"text-align: right;\">\n",
       "      <th></th>\n",
       "      <th>lito</th>\n",
       "      <th>tema</th>\n",
       "      <th>codigo</th>\n",
       "      <th>puntaje</th>\n",
       "      <th>correctas</th>\n",
       "      <th>incorrectas</th>\n",
       "      <th>vacias</th>\n",
       "      <th>Nombre</th>\n",
       "      <th>escuela</th>\n",
       "    </tr>\n",
       "  </thead>\n",
       "  <tbody>\n",
       "    <tr>\n",
       "      <th>0</th>\n",
       "      <td>010498</td>\n",
       "      <td>D</td>\n",
       "      <td>302174</td>\n",
       "      <td>880.0</td>\n",
       "      <td>45</td>\n",
       "      <td>16</td>\n",
       "      <td>39</td>\n",
       "      <td>alvaro1</td>\n",
       "      <td>sistemas</td>\n",
       "    </tr>\n",
       "    <tr>\n",
       "      <th>1</th>\n",
       "      <td>010484</td>\n",
       "      <td>P</td>\n",
       "      <td>326710</td>\n",
       "      <td>823.75</td>\n",
       "      <td>42</td>\n",
       "      <td>13</td>\n",
       "      <td>45</td>\n",
       "      <td>alvaro2</td>\n",
       "      <td>conta</td>\n",
       "    </tr>\n",
       "    <tr>\n",
       "      <th>2</th>\n",
       "      <td>010515</td>\n",
       "      <td>D</td>\n",
       "      <td>306126</td>\n",
       "      <td>583.75</td>\n",
       "      <td>32</td>\n",
       "      <td>45</td>\n",
       "      <td>23</td>\n",
       "      <td>alvaro3</td>\n",
       "      <td>dere</td>\n",
       "    </tr>\n",
       "    <tr>\n",
       "      <th>3</th>\n",
       "      <td>010486</td>\n",
       "      <td>C</td>\n",
       "      <td>350025</td>\n",
       "      <td>333.75</td>\n",
       "      <td>19</td>\n",
       "      <td>37</td>\n",
       "      <td>44</td>\n",
       "      <td>alvaro4</td>\n",
       "      <td>algo</td>\n",
       "    </tr>\n",
       "    <tr>\n",
       "      <th>4</th>\n",
       "      <td>010519</td>\n",
       "      <td>Q</td>\n",
       "      <td>308296</td>\n",
       "      <td>297.5</td>\n",
       "      <td>19</td>\n",
       "      <td>66</td>\n",
       "      <td>15</td>\n",
       "      <td>alvaro5</td>\n",
       "      <td>sistem</td>\n",
       "    </tr>\n",
       "    <tr>\n",
       "      <th>5</th>\n",
       "      <td>010512</td>\n",
       "      <td>B</td>\n",
       "      <td>320804</td>\n",
       "      <td>278.75</td>\n",
       "      <td>18</td>\n",
       "      <td>81</td>\n",
       "      <td>0</td>\n",
       "      <td>alvaro6</td>\n",
       "      <td>sistem2</td>\n",
       "    </tr>\n",
       "    <tr>\n",
       "      <th>6</th>\n",
       "      <td>010483</td>\n",
       "      <td>Q</td>\n",
       "      <td>345033</td>\n",
       "      <td>235.0</td>\n",
       "      <td>14</td>\n",
       "      <td>36</td>\n",
       "      <td>50</td>\n",
       "      <td>alvaro7</td>\n",
       "      <td>sistem3</td>\n",
       "    </tr>\n",
       "    <tr>\n",
       "      <th>7</th>\n",
       "      <td>010482</td>\n",
       "      <td>D</td>\n",
       "      <td>312488</td>\n",
       "      <td>233.75</td>\n",
       "      <td>14</td>\n",
       "      <td>37</td>\n",
       "      <td>49</td>\n",
       "      <td>alvaro8</td>\n",
       "      <td>sistem4</td>\n",
       "    </tr>\n",
       "    <tr>\n",
       "      <th>8</th>\n",
       "      <td>010510</td>\n",
       "      <td>B</td>\n",
       "      <td>316323</td>\n",
       "      <td>137.5</td>\n",
       "      <td>10</td>\n",
       "      <td>66</td>\n",
       "      <td>23</td>\n",
       "      <td>alvaro9</td>\n",
       "      <td>sistem6</td>\n",
       "    </tr>\n",
       "    <tr>\n",
       "      <th>9</th>\n",
       "      <td>010487</td>\n",
       "      <td>S</td>\n",
       "      <td>318485</td>\n",
       "      <td>107.5</td>\n",
       "      <td>8</td>\n",
       "      <td>42</td>\n",
       "      <td>50</td>\n",
       "      <td>alvaro</td>\n",
       "      <td>sistemas</td>\n",
       "    </tr>\n",
       "  </tbody>\n",
       "</table>\n",
       "</div>"
      ],
      "text/plain": [
       "     lito tema  codigo puntaje correctas incorrectas vacias   Nombre   escuela\n",
       "0  010498    D  302174   880.0        45          16     39  alvaro1  sistemas\n",
       "1  010484    P  326710  823.75        42          13     45  alvaro2     conta\n",
       "2  010515    D  306126  583.75        32          45     23  alvaro3      dere\n",
       "3  010486    C  350025  333.75        19          37     44  alvaro4      algo\n",
       "4  010519    Q  308296   297.5        19          66     15  alvaro5    sistem\n",
       "5  010512    B  320804  278.75        18          81      0  alvaro6   sistem2\n",
       "6  010483    Q  345033   235.0        14          36     50  alvaro7   sistem3\n",
       "7  010482    D  312488  233.75        14          37     49  alvaro8   sistem4\n",
       "8  010510    B  316323   137.5        10          66     23  alvaro9   sistem6\n",
       "9  010487    S  318485   107.5         8          42     50   alvaro  sistemas"
      ]
     },
     "execution_count": 84,
     "metadata": {},
     "output_type": "execute_result"
    }
   ],
   "source": [
    "df_merged"
   ]
  },
  {
   "cell_type": "code",
   "execution_count": 101,
   "metadata": {},
   "outputs": [],
   "source": [
    "####\n",
    "df = df_merged.loc[:, ['codigo', 'Nombre', 'escuela','puntaje']]\n",
    "####\n",
    "\n",
    "\n",
    "\n",
    "\n",
    "groups = df.groupby(df.escuela)\n",
    "s_sistemas = groups.get_group(\"sistemas\")\n",
    "s_sistemas.insert(0, 'orden', range(1, len(s_sistemas)+1))\n",
    "s_sistemas.to_csv('s_sistemas.csv', index=False, sep=\",\")"
   ]
  },
  {
   "cell_type": "code",
   "execution_count": 102,
   "metadata": {},
   "outputs": [
    {
     "data": {
      "text/html": [
       "<div>\n",
       "<style scoped>\n",
       "    .dataframe tbody tr th:only-of-type {\n",
       "        vertical-align: middle;\n",
       "    }\n",
       "\n",
       "    .dataframe tbody tr th {\n",
       "        vertical-align: top;\n",
       "    }\n",
       "\n",
       "    .dataframe thead th {\n",
       "        text-align: right;\n",
       "    }\n",
       "</style>\n",
       "<table border=\"1\" class=\"dataframe\">\n",
       "  <thead>\n",
       "    <tr style=\"text-align: right;\">\n",
       "      <th></th>\n",
       "      <th>orden</th>\n",
       "      <th>codigo</th>\n",
       "      <th>Nombre</th>\n",
       "      <th>escuela</th>\n",
       "      <th>puntaje</th>\n",
       "    </tr>\n",
       "  </thead>\n",
       "  <tbody>\n",
       "    <tr>\n",
       "      <th>0</th>\n",
       "      <td>1</td>\n",
       "      <td>302174</td>\n",
       "      <td>alvaro1</td>\n",
       "      <td>sistemas</td>\n",
       "      <td>880.0</td>\n",
       "    </tr>\n",
       "    <tr>\n",
       "      <th>9</th>\n",
       "      <td>2</td>\n",
       "      <td>318485</td>\n",
       "      <td>alvaro</td>\n",
       "      <td>sistemas</td>\n",
       "      <td>107.5</td>\n",
       "    </tr>\n",
       "  </tbody>\n",
       "</table>\n",
       "</div>"
      ],
      "text/plain": [
       "   orden  codigo   Nombre   escuela puntaje\n",
       "0      1  302174  alvaro1  sistemas   880.0\n",
       "9      2  318485   alvaro  sistemas   107.5"
      ]
     },
     "execution_count": 102,
     "metadata": {},
     "output_type": "execute_result"
    }
   ],
   "source": [
    "s_sistemas"
   ]
  },
  {
   "cell_type": "code",
   "execution_count": 86,
   "metadata": {},
   "outputs": [
    {
     "data": {
      "text/html": [
       "<div>\n",
       "<style scoped>\n",
       "    .dataframe tbody tr th:only-of-type {\n",
       "        vertical-align: middle;\n",
       "    }\n",
       "\n",
       "    .dataframe tbody tr th {\n",
       "        vertical-align: top;\n",
       "    }\n",
       "\n",
       "    .dataframe thead th {\n",
       "        text-align: right;\n",
       "    }\n",
       "</style>\n",
       "<table border=\"1\" class=\"dataframe\">\n",
       "  <thead>\n",
       "    <tr style=\"text-align: right;\">\n",
       "      <th></th>\n",
       "      <th>lito</th>\n",
       "      <th>tema</th>\n",
       "      <th>codigo</th>\n",
       "      <th>puntaje</th>\n",
       "      <th>correctas</th>\n",
       "      <th>incorrectas</th>\n",
       "      <th>vacias</th>\n",
       "      <th>Nombre</th>\n",
       "      <th>escuela</th>\n",
       "    </tr>\n",
       "  </thead>\n",
       "  <tbody>\n",
       "    <tr>\n",
       "      <th>0</th>\n",
       "      <td>010498</td>\n",
       "      <td>D</td>\n",
       "      <td>302174</td>\n",
       "      <td>880.0</td>\n",
       "      <td>45</td>\n",
       "      <td>16</td>\n",
       "      <td>39</td>\n",
       "      <td>alvaro1</td>\n",
       "      <td>sistemas</td>\n",
       "    </tr>\n",
       "    <tr>\n",
       "      <th>9</th>\n",
       "      <td>010487</td>\n",
       "      <td>S</td>\n",
       "      <td>318485</td>\n",
       "      <td>107.5</td>\n",
       "      <td>8</td>\n",
       "      <td>42</td>\n",
       "      <td>50</td>\n",
       "      <td>alvaro</td>\n",
       "      <td>sistemas</td>\n",
       "    </tr>\n",
       "  </tbody>\n",
       "</table>\n",
       "</div>"
      ],
      "text/plain": [
       "     lito tema  codigo puntaje correctas incorrectas vacias   Nombre   escuela\n",
       "0  010498    D  302174   880.0        45          16     39  alvaro1  sistemas\n",
       "9  010487    S  318485   107.5         8          42     50   alvaro  sistemas"
      ]
     },
     "execution_count": 86,
     "metadata": {},
     "output_type": "execute_result"
    }
   ],
   "source": [
    "s_sistemas"
   ]
  }
 ],
 "metadata": {
  "kernelspec": {
   "display_name": "venv",
   "language": "python",
   "name": "python3"
  },
  "language_info": {
   "codemirror_mode": {
    "name": "ipython",
    "version": 3
   },
   "file_extension": ".py",
   "mimetype": "text/x-python",
   "name": "python",
   "nbconvert_exporter": "python",
   "pygments_lexer": "ipython3",
   "version": "3.11.1"
  },
  "orig_nbformat": 4
 },
 "nbformat": 4,
 "nbformat_minor": 2
}
