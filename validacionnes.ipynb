{
 "cells": [
  {
   "attachments": {},
   "cell_type": "markdown",
   "metadata": {},
   "source": [
    "### Validaciones"
   ]
  },
  {
   "cell_type": "code",
   "execution_count": 532,
   "metadata": {},
   "outputs": [],
   "source": [
    "import pandas as pd"
   ]
  },
  {
   "attachments": {},
   "cell_type": "markdown",
   "metadata": {},
   "source": [
    "Cargando datos"
   ]
  },
  {
   "cell_type": "code",
   "execution_count": 533,
   "metadata": {},
   "outputs": [
    {
     "name": "stdout",
     "output_type": "stream",
     "text": [
      "  lito_clave tema_clave                                           solucion\n",
      "0     033872          A  TRRQRPRTRRQSTQTQPQQRQSQRQSSRTSTPQRTRPSTRRQQTRS...\n",
      "1     033871          B  TTPTRTPTSSSTPTTSPPSQRRTQPRPRSPTTRTQQPPSPP STRR...\n",
      "2     033874          C  PQQSQRQTTQRSRPPRPQTPRPPTSTPRSQQTTSPTSQTTTTRSQQ...\n",
      "3     033873          D  PTRPRTRSTSSTSPSTPTQSRSQQQSQRQSRPSQPPRTRPRRTPPS...\n",
      "4     033880          P  TPPRRTRSQSRQQSPRPRQRSQQTPTSSPTTPTTPRRQSSPQQSRQ...\n",
      "5     033877          Q  PTRQPTPTSRQQQQQPSQQRPSRQSQTPPSPQPTRRPPQTTQQRRP...\n",
      "6     033876          R  QPTSPSTSSTTQSTPQRSPSQTRPTRTPPSSQSRTTPPTTTPTTQS...\n",
      "7     033875          S  QTRTSQSPSRRPSPRPPTRRRPPRTTRQRPSSSPTPQRQPQSSPPS...\n"
     ]
    }
   ],
   "source": [
    "try:\n",
    "    with open(\"claves.sdf\", \"r\") as archivo:\n",
    "        DF_CLAVES = pd.DataFrame(columns=['lito_clave', 'tema_clave', 'solucion'])    \n",
    "        data_claves = archivo.readlines()\n",
    "        for line in data_claves:\n",
    "            lito = line[:6]\n",
    "            tema = line[6]\n",
    "            solucion = line[7:107]\n",
    "            DF_CLAVES = pd.concat([DF_CLAVES, pd.DataFrame({'lito_clave': [lito], 'tema_clave': [tema], 'solucion': [solucion]})], ignore_index=True)            \n",
    "    print(DF_CLAVES)\n",
    "except Exception as e:\n",
    "    print('Hubo un error: ', e)"
   ]
  },
  {
   "cell_type": "code",
   "execution_count": 534,
   "metadata": {},
   "outputs": [
    {
     "name": "stdout",
     "output_type": "stream",
     "text": [
      "        lito tema  codigo\n",
      "0     010500    S  320804\n",
      "1     010486    A  350025\n",
      "2     010518    D  326454\n",
      "3     010488    A  317651\n",
      "4     010515    R  306126\n",
      "...      ...  ...     ...\n",
      "2800  010477    Q  313809\n",
      "2801  010449    R  305953\n",
      "2802  010474    S  304378\n",
      "2803  010472    A  315051\n",
      "2804  010465    R  321554\n",
      "\n",
      "[2805 rows x 3 columns]\n"
     ]
    }
   ],
   "source": [
    "try:\n",
    "    with open(\"identifi.sdf\", \"r\") as archivo:\n",
    "        DF_IDENTIFI = pd.DataFrame(columns=['lito', 'tema', 'codigo'])\n",
    "        data_identifi = archivo.readlines()\n",
    "        for linea in data_identifi:\n",
    "            lito = linea[:6]\n",
    "            tema = linea[6]\n",
    "            codigo = linea[7:13]\n",
    "            DF_IDENTIFI = pd.concat([DF_IDENTIFI, pd.DataFrame({'lito': [lito], 'tema': [tema], 'codigo': [codigo]})], ignore_index=True)\n",
    "    print(DF_IDENTIFI)\n",
    "except Exception as e:\n",
    "    print('Hubo un error: ', e)"
   ]
  },
  {
   "cell_type": "code",
   "execution_count": 535,
   "metadata": {},
   "outputs": [
    {
     "name": "stdout",
     "output_type": "stream",
     "text": [
      "        lito tema                                          respuesta\n",
      "0     033916    C  SR STQRRST R  P QSTQRPPTRTP RPQPTS SSTQSR R  Q...\n",
      "1     033884    D  PQQPRQSPTSRSQRQRPTQPTTQPQTRRQ RPSPPPST P R QPQ...\n",
      "2     033898    P  TPSPSTTQTQRPPRQ S SRS QP QSSPRPSSRSPRQSQTQQSSP...\n",
      "3     033919    P     R          Q          TSSPTTPT PSRQSSRQTSRQ...\n",
      "4     033910    D  PTR QPRSTSSTS STSQQS RQQQTQRQ RPSQ  RT PRR Q T...\n",
      "...      ...  ...                                                ...\n",
      "2798  011846    P  TSR  T  Q  RQPQ TRTP  P  TSRTP P QPQR S Q QSR ...\n",
      "2799  011844    B  Q              P        SQ STPS RQS   S RQ R  ...\n",
      "2800  011845    C    QTPPQTR P   QRPP RSPPTTTP S QTTS  TTQ Q R  Q...\n",
      "2801  011843    D  PSQQRQSP SRTQTQPSRQSSQ QSTSRP RPTQPPRT PRR PTR...\n",
      "2802  011842    A  QPSQR* QSQPRSS*PRRQTPRQSQTPRSPTPSQRSRRSQPRQPTR...\n",
      "\n",
      "[2803 rows x 3 columns]\n"
     ]
    }
   ],
   "source": [
    "try:\n",
    "    with open(\"respuestas.sdf\", \"r\") as archivo:\n",
    "        DF_RESPUESTAS = pd.DataFrame(columns=['lito', 'tema', 'respuesta'])\n",
    "        data_respuestas = archivo.readlines()\n",
    "        for linea in data_respuestas:\n",
    "            lito = linea[:6]\n",
    "            tema = linea[6]\n",
    "            respuesta = linea[7:107]\n",
    "            DF_RESPUESTAS = pd.concat([DF_RESPUESTAS, pd.DataFrame({'lito': [lito], 'tema': [tema], 'respuesta': [respuesta]})], ignore_index=True)\n",
    "    print(DF_RESPUESTAS)\n",
    "except Exception as e:\n",
    "    print('Hubo un error: ', e)"
   ]
  },
  {
   "cell_type": "code",
   "execution_count": 536,
   "metadata": {},
   "outputs": [],
   "source": [
    "#TEMAS = 'FGHIJKLMNOPRSTUVXYZ'\n",
    "TEMAS = 'ABCDPQRS'"
   ]
  },
  {
   "attachments": {},
   "cell_type": "markdown",
   "metadata": {},
   "source": [
    "#### 1- Estructura: click en boton y muestre la fila que no cumple la condicion\n",
    "CLAVES\n"
   ]
  },
  {
   "cell_type": "code",
   "execution_count": 537,
   "metadata": {},
   "outputs": [
    {
     "name": "stdout",
     "output_type": "stream",
     "text": [
      "No hay datos invalidos\n"
     ]
    }
   ],
   "source": [
    "lito_clave_esnum = pd.to_numeric(DF_CLAVES['lito_clave'], errors='coerce').notnull()\n",
    "invalid_rows = DF_CLAVES[~lito_clave_esnum]\n",
    "if invalid_rows.empty:\n",
    "    print('No hay datos invalidos')\n",
    "else:\n",
    "    print(invalid_rows)"
   ]
  },
  {
   "cell_type": "code",
   "execution_count": 538,
   "metadata": {},
   "outputs": [
    {
     "name": "stdout",
     "output_type": "stream",
     "text": [
      "No hay datos invalidos\n"
     ]
    }
   ],
   "source": [
    "valid_tema = DF_CLAVES['tema_clave'].isin(['A', 'B', 'C', 'D', 'P', 'Q', 'R', 'S'])\n",
    "invalid_rows = DF_CLAVES[~valid_tema]\n",
    "if invalid_rows.empty:\n",
    "    print('No hay datos invalidos')\n",
    "else:\n",
    "    print(invalid_rows)"
   ]
  },
  {
   "cell_type": "code",
   "execution_count": 549,
   "metadata": {},
   "outputs": [
    {
     "name": "stdout",
     "output_type": "stream",
     "text": [
      "No hay datos invalidos\n"
     ]
    }
   ],
   "source": [
    "valid_codigo= DF_CLAVES['solucion'].apply(lambda x: len(x) == 100 and x[99] != \"\\n\")\n",
    "invalid_rows = DF_CLAVES[~valid_codigo]\n",
    "invalid_len_rows = DF_CLAVES.loc[~valid_codigo, ['solucion']]\n",
    "\n",
    "if invalid_rows.empty and invalid_len_rows.empty:\n",
    "    print('No hay datos invalidos')\n",
    "else:\n",
    "    if not invalid_rows.empty:\n",
    "        print(invalid_rows)\n",
    "    if not invalid_len_rows.empty:\n",
    "        print(invalid_len_rows)\n"
   ]
  },
  {
   "attachments": {},
   "cell_type": "markdown",
   "metadata": {},
   "source": [
    "IDENTIFI"
   ]
  },
  {
   "cell_type": "code",
   "execution_count": 540,
   "metadata": {},
   "outputs": [
    {
     "name": "stdout",
     "output_type": "stream",
     "text": [
      "No hay datos invalidos\n"
     ]
    }
   ],
   "source": [
    "valid_lito_esnum = pd.to_numeric(DF_IDENTIFI['lito'], errors='coerce').notnull()\n",
    "invalid_rows = DF_IDENTIFI[~valid_lito_esnum]\n",
    "if invalid_rows.empty:\n",
    "    print('No hay datos invalidos')\n",
    "else:\n",
    "    print(invalid_rows)\n"
   ]
  },
  {
   "cell_type": "code",
   "execution_count": 541,
   "metadata": {},
   "outputs": [
    {
     "name": "stdout",
     "output_type": "stream",
     "text": [
      "        lito tema  codigo\n",
      "889   011426       314963\n",
      "1314  011871             \n"
     ]
    }
   ],
   "source": [
    "valid_tema = DF_IDENTIFI['tema'].isin([i for i in 'ABCDPQRS'])\n",
    "invalid_rows = DF_IDENTIFI[~valid_tema]\n",
    "if invalid_rows.empty:\n",
    "    print('No hay datos invalidos')\n",
    "else:\n",
    "    print(invalid_rows)\n",
    "\n"
   ]
  },
  {
   "cell_type": "code",
   "execution_count": 542,
   "metadata": {},
   "outputs": [
    {
     "name": "stdout",
     "output_type": "stream",
     "text": [
      "Filas con códigos inválidos:\n",
      "        lito tema  codigo\n",
      "859   011376    A  3204 3\n",
      "1314  011871             \n",
      "1451  009016    Q  3174 3\n",
      "2648  010288    C  3 4824\n",
      "Filas con longitud de código inválida:\n",
      "        lito tema  codigo\n",
      "859   011376    A  3204 3\n",
      "1314  011871             \n",
      "1451  009016    Q  3174 3\n",
      "2648  010288    C  3 4824\n"
     ]
    }
   ],
   "source": [
    "valid_codigo= pd.to_numeric(DF_IDENTIFI['codigo'], errors='coerce').notnull()\n",
    "valid_codigo_len = DF_IDENTIFI['codigo'].apply(lambda x: len(x) == 6 and x[5] != \"\\n\")\n",
    "invalid_rows = DF_IDENTIFI[~valid_codigo]\n",
    "invalid_len_and_num_rows = DF_IDENTIFI[~(valid_codigo & valid_codigo_len)]\n",
    "\n",
    "if invalid_rows.empty and invalid_len_and_num_rows.empty:\n",
    "    print('No hay datos invalidos')\n",
    "else:\n",
    "    if not invalid_rows.empty:\n",
    "        print('Filas con códigos inválidos:')\n",
    "        print(invalid_rows)\n",
    "    if not invalid_len_and_num_rows.empty:\n",
    "        print('Filas con longitud de código inválida:')\n",
    "        print(invalid_len_and_num_rows)\n"
   ]
  },
  {
   "attachments": {},
   "cell_type": "markdown",
   "metadata": {},
   "source": [
    "RESPUESTAS"
   ]
  },
  {
   "cell_type": "code",
   "execution_count": 543,
   "metadata": {},
   "outputs": [
    {
     "name": "stdout",
     "output_type": "stream",
     "text": [
      "No hay datos invalidos\n"
     ]
    }
   ],
   "source": [
    "valid_lito= pd.to_numeric(DF_RESPUESTAS['lito'], errors='coerce').notnull()\n",
    "invalid_rows = DF_RESPUESTAS[~valid_lito]\n",
    "if invalid_rows.empty:\n",
    "    print('No hay datos invalidos')\n",
    "else:\n",
    "    print(invalid_rows)"
   ]
  },
  {
   "cell_type": "code",
   "execution_count": 544,
   "metadata": {},
   "outputs": [
    {
     "name": "stdout",
     "output_type": "stream",
     "text": [
      "No hay datos invalidos\n"
     ]
    }
   ],
   "source": [
    "valid_tema = DF_RESPUESTAS['tema'].isin([i for i in 'ABCDPQRS'])\n",
    "invalid_rows = DF_RESPUESTAS[~valid_tema]\n",
    "if invalid_rows.empty:\n",
    "    print('No hay datos invalidos')\n",
    "else:\n",
    "    print(invalid_rows)"
   ]
  },
  {
   "cell_type": "code",
   "execution_count": 547,
   "metadata": {},
   "outputs": [
    {
     "name": "stdout",
     "output_type": "stream",
     "text": [
      "No hay datos invalidos\n"
     ]
    }
   ],
   "source": [
    "valid_codigo= DF_RESPUESTAS['respuesta'].apply(lambda x: len(x) == 100 and x[99] != \"\\n\")\n",
    "invalid_rows = DF_RESPUESTAS[~valid_codigo]\n",
    "invalid_len_rows = DF_RESPUESTAS.loc[~valid_codigo, ['respuesta']]\n",
    "\n",
    "if invalid_rows.empty and invalid_len_rows.empty:\n",
    "    print('No hay datos invalidos')\n",
    "else:\n",
    "    if not invalid_rows.empty:\n",
    "        print(invalid_rows)\n",
    "    if not invalid_len_rows.empty:\n",
    "        print(invalid_len_rows)\n",
    "\n"
   ]
  },
  {
   "cell_type": "code",
   "execution_count": 546,
   "metadata": {},
   "outputs": [
    {
     "name": "stdout",
     "output_type": "stream",
     "text": [
      "No se encontraron duplicados en la columna 'codigo'\n"
     ]
    }
   ],
   "source": [
    "duplicados = DF_IDENTIFI.duplicated(subset=['codigo'], keep=False)\n",
    "\n",
    "if duplicados.any():\n",
    "    print(\"Se encontraron duplicados en la columna 'codigo':\\n\")\n",
    "    datos_duplicados = {}\n",
    "    for codigo, df_codigo in DF_IDENTIFI[duplicados].groupby('codigo'):\n",
    "        if len(df_codigo) > 1:\n",
    "            datos_duplicados[codigo] = {'lito': [], 'tema': [], 'indices': []}\n",
    "            for idx, fila in enumerate(df_codigo.itertuples(), start=1):\n",
    "                datos_duplicados[codigo]['lito'].append(fila.lito)\n",
    "                datos_duplicados[codigo]['tema'].append(fila.tema)\n",
    "                datos_duplicados[codigo]['indices'].append(fila.Index)\n",
    "            df_duplicados = pd.DataFrame({'lito': datos_duplicados[codigo]['lito'], 'tema': datos_duplicados[codigo]['tema'], 'codigo': [codigo]*len(df_codigo), 'fila': datos_duplicados[codigo]['indices']})\n",
    "            df_duplicados = df_duplicados[['lito', 'tema', 'codigo', 'fila']]\n",
    "            print(df_duplicados)\n",
    "else:\n",
    "    print(\"No se encontraron duplicados en la columna 'codigo'\")"
   ]
  }
 ],
 "metadata": {
  "kernelspec": {
   "display_name": "venv",
   "language": "python",
   "name": "python3"
  },
  "language_info": {
   "codemirror_mode": {
    "name": "ipython",
    "version": 3
   },
   "file_extension": ".py",
   "mimetype": "text/x-python",
   "name": "python",
   "nbconvert_exporter": "python",
   "pygments_lexer": "ipython3",
   "version": "3.11.2"
  },
  "orig_nbformat": 4
 },
 "nbformat": 4,
 "nbformat_minor": 2
}
