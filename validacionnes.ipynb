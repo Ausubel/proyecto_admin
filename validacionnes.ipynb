{
 "cells": [
  {
   "attachments": {},
   "cell_type": "markdown",
   "metadata": {},
   "source": [
    "### Validaciones"
   ]
  },
  {
   "cell_type": "code",
   "execution_count": 14,
   "metadata": {},
   "outputs": [],
   "source": [
    "import pandas as pd"
   ]
  },
  {
   "attachments": {},
   "cell_type": "markdown",
   "metadata": {},
   "source": [
    "Cargando datos"
   ]
  },
  {
   "cell_type": "code",
   "execution_count": 74,
   "metadata": {},
   "outputs": [
    {
     "name": "stdout",
     "output_type": "stream",
     "text": [
      "  lito_clave tema_clave                                           solucion\n",
      "0     033872          A  TRRQRPRTRRQSTQTQPQQRQSQRQSSRTSTPQRTRPSTRRQQTRS...\n",
      "1     033871          B  TTPTRTPTSSSTPTTSPPSQRRTQPRPRSPTTRTQQPPSPP STRR...\n",
      "2     033874          C  PQQSQRQTTQRSRPPRPQTPRPPTSTPRSQQTTSPTSQTTTTRSQQ...\n",
      "3     033873          D  PTRPRTRSTSSTSPSTPTQSRSQQQSQRQSRPSQPPRTRPRRTPPS...\n",
      "4     033880          P  TPPRRTRSQSRQQSPRPRQRSQQTPTSSPTTPTTPRRQSSPQQSRQ...\n",
      "5     033877          Q  PTRQPTPTSRQQQQQPSQQRPSRQSQTPPSPQPTRRPPQTTQQRRP...\n",
      "6     033876          R  QPTSPSTSSTTQSTPQRSPSQTRPTRTPPSSQSRTTPPTTTPTTQS...\n",
      "7     033875          S  QTRTSQSPSRRPSPRPPTRRRPPRTTRQRPSSSPTPQRQPQSSPPS...\n"
     ]
    }
   ],
   "source": [
    "try:\n",
    "    with open(\"claves.sdf\", \"r\") as archivo:\n",
    "        df_claves = pd.DataFrame(columns=['lito_clave', 'tema_clave', 'solucion'])    \n",
    "        data_claves = archivo.readlines()\n",
    "        for line in data_claves:\n",
    "            lito = line[:6]\n",
    "            tema = line[6]\n",
    "            solucion = line[7:107]\n",
    "            df_claves = pd.concat([df_claves, pd.DataFrame({'lito_clave': [lito], 'tema_clave': [tema], 'solucion': [solucion]})], ignore_index=True)            \n",
    "    print(df_claves)\n",
    "except Exception as e:\n",
    "    print('Hubo un error: ', e)"
   ]
  },
  {
   "cell_type": "code",
   "execution_count": 75,
   "metadata": {},
   "outputs": [
    {
     "name": "stdout",
     "output_type": "stream",
     "text": [
      "        lito tema  codigo\n",
      "0     010500    S  320804\n",
      "1     010486    A  350025\n",
      "2     010500    D  320804\n",
      "3     010488    D  350025\n",
      "4     010515    R  306126\n",
      "...      ...  ...     ...\n",
      "2798  010476    S  302513\n",
      "2799  010450    P  315200\n",
      "2800  010477    Q  313809\n",
      "2801  010449    R  305953\n",
      "2802  010474    S  304378\n",
      "\n",
      "[2803 rows x 3 columns]\n"
     ]
    }
   ],
   "source": [
    "try:\n",
    "    with open(\"identifi.sdf\", \"r\") as archivo:\n",
    "        df_identifi = pd.DataFrame(columns=['lito', 'tema', 'codigo'])\n",
    "        data_identifi = archivo.readlines()\n",
    "        for linea in data_identifi:\n",
    "            lito = linea[:6]\n",
    "            tema = linea[6]\n",
    "            codigo = linea[7:13]\n",
    "            df_identifi = pd.concat([df_identifi, pd.DataFrame({'lito': [lito], 'tema': [tema], 'codigo': [codigo]})], ignore_index=True)\n",
    "    print(df_identifi)\n",
    "except Exception as e:\n",
    "    print('Hubo un error: ', e)"
   ]
  },
  {
   "cell_type": "code",
   "execution_count": 76,
   "metadata": {},
   "outputs": [
    {
     "name": "stdout",
     "output_type": "stream",
     "text": [
      "        lito tema                                          respuesta\n",
      "0     033916    C  SR STQRRST R  P QSTQRPPTRTP RPQPTS SSTQSR R  Q...\n",
      "1     033884    D  PQQPRQSPTSRSQRQRPTQPTTQPQTRRQ RPSPPPST P R QPQ...\n",
      "2     033884    P  TPSPSTTQTQRPPRQ S SRS QP QSSPRPSSRSPRQSQTQQSSP...\n",
      "3     033919    P     R          Q          TSSPTTPT PSRQSSRQTSRQ...\n",
      "4     033910    D  PTR QPRSTSSTS STSQQS RQQQTQRQ RPSQ  RT PRR Q T...\n",
      "...      ...  ...                                                ...\n",
      "2798  011846    P  TSR  T  Q  RQPQ TRTP  P  TSRTP P QPQR S Q QSR ...\n",
      "2799  011844    B  Q              P        SQ STPS RQS   S RQ R  ...\n",
      "2800  011845    C    QTPPQTR P   QRPP RSPPTTTP S QTTS  TTQ Q R  Q...\n",
      "2801  011843    D  PSQQRQSP SRTQTQPSRQSSQ QSTSRP RPTQPPRT PRR PTR...\n",
      "2802  011842    A  QPSQR* QSQPRSS*PRRQTPRQSQTPRSPTPSQRSRRSQPRQPTR...\n",
      "\n",
      "[2803 rows x 3 columns]\n"
     ]
    }
   ],
   "source": [
    "try:\n",
    "    with open(\"respuestas.sdf\", \"r\") as archivo:\n",
    "        df_respuestas = pd.DataFrame(columns=['lito', 'tema', 'respuesta'])\n",
    "        data_respuestas = archivo.readlines()\n",
    "        for linea in data_respuestas:\n",
    "            lito = linea[:6]\n",
    "            tema = linea[6]\n",
    "            respuesta = linea[7:107]\n",
    "            df_respuestas = pd.concat([df_respuestas, pd.DataFrame({'lito': [lito], 'tema': [tema], 'respuesta': [respuesta]})], ignore_index=True)\n",
    "    print(df_respuestas)\n",
    "except Exception as e:\n",
    "    print('Hubo un error: ', e)"
   ]
  },
  {
   "cell_type": "code",
   "execution_count": null,
   "metadata": {},
   "outputs": [],
   "source": [
    "#TEMAS = 'FGHIJKLMNOPRSTUVXYZ'\n",
    "TEMAS = 'ABCDPQRS'"
   ]
  },
  {
   "attachments": {},
   "cell_type": "markdown",
   "metadata": {},
   "source": [
    "#### 1- Estructura: click en boton y muestre la fila que no cumple la condicion\n",
    "CLAVES\n"
   ]
  },
  {
   "cell_type": "code",
   "execution_count": null,
   "metadata": {},
   "outputs": [
    {
     "name": "stdout",
     "output_type": "stream",
     "text": [
      "True\n"
     ]
    }
   ],
   "source": [
    "lito_clave_esnum = pd.to_numeric(df_claves['lito_clave'], errors='coerce').notnull().all()\n",
    "print(lito_clave_esnum)"
   ]
  },
  {
   "cell_type": "code",
   "execution_count": null,
   "metadata": {},
   "outputs": [
    {
     "name": "stdout",
     "output_type": "stream",
     "text": [
      "True\n"
     ]
    }
   ],
   "source": [
    "valid_tema = df_claves['tema_clave'].isin(['A', 'B', 'C', 'D', 'P', 'Q', 'R', 'S']).all()\n",
    "print(valid_tema)"
   ]
  },
  {
   "cell_type": "code",
   "execution_count": null,
   "metadata": {},
   "outputs": [
    {
     "name": "stdout",
     "output_type": "stream",
     "text": [
      "True\n"
     ]
    }
   ],
   "source": [
    "valid_solucion = df_claves['solucion'].apply(lambda x: len(x) == 100).all()\n",
    "print(valid_solucion)"
   ]
  },
  {
   "attachments": {},
   "cell_type": "markdown",
   "metadata": {},
   "source": [
    "## VALIDAR DUPLICADOS CODIGOS POSTULANTES"
   ]
  },
  {
   "cell_type": "code",
   "execution_count": 30,
   "metadata": {},
   "outputs": [],
   "source": [
    "try:\n",
    "    with open(\"identifi.sdf\", \"r\") as archivo:\n",
    "        df_identifi = pd.DataFrame(columns=['lito', 'tema', 'codigo'])\n",
    "        data_identifi = archivo.readlines()\n",
    "        for linea in data_identifi:\n",
    "            lito = linea[:6]\n",
    "            tema = linea[6]\n",
    "            codigo = linea[7:13]\n",
    "            df_identifi = pd.concat([df_identifi, pd.DataFrame({'lito': [lito], 'tema': [tema], 'codigo': [codigo]})], ignore_index=True)\n",
    "except Exception as e:\n",
    "    print('Hubo un error: ', e)"
   ]
  },
  {
   "cell_type": "code",
   "execution_count": 68,
   "metadata": {},
   "outputs": [
    {
     "name": "stdout",
     "output_type": "stream",
     "text": [
      "        lito tema  codigo\n",
      "0     010500    S  320804\n",
      "1     010486    A  350025\n",
      "2     010500    D  320804\n",
      "3     010488    D  350025\n",
      "4     010515    R  306126\n",
      "...      ...  ...     ...\n",
      "2798  010476    S  302513\n",
      "2799  010450    P  315200\n",
      "2800  010477    Q  313809\n",
      "2801  010449    R  305953\n",
      "2802  010474    S  304378\n",
      "\n",
      "[2803 rows x 3 columns]\n"
     ]
    }
   ],
   "source": [
    "print(df_identifi)"
   ]
  },
  {
   "cell_type": "code",
   "execution_count": 28,
   "metadata": {},
   "outputs": [
    {
     "name": "stdout",
     "output_type": "stream",
     "text": [
      "Hay duplicados en la columna 'codigo'\n"
     ]
    }
   ],
   "source": [
    "duplicados = df_identifi.duplicated(subset=['codigo'])\n",
    "if duplicados.any():\n",
    "    print(\"Hay duplicados en la columna 'codigo'\")\n",
    "else:\n",
    "    print(\"No hay duplicados en la columna 'codigo'\")"
   ]
  },
  {
   "cell_type": "code",
   "execution_count": 31,
   "metadata": {},
   "outputs": [
    {
     "name": "stdout",
     "output_type": "stream",
     "text": [
      "Se encontraron duplicados en la columna 'codigo':\n",
      "\n",
      "     lito tema  codigo\n",
      "0  010500    S  320804\n",
      "7  010512    B  320804\n",
      "     lito tema  codigo\n",
      "1  010486    A  350025\n",
      "3  010488    D  350025\n"
     ]
    }
   ],
   "source": [
    "duplicados = df_identifi.duplicated(subset=['codigo'], keep=False)\n",
    "\n",
    "if duplicados.any():\n",
    "    print(\"Se encontraron duplicados en la columna 'codigo':\\n\")\n",
    "    for codigo in df_identifi[duplicados]['codigo'].unique():\n",
    "        df_duplicados = df_identifi[df_identifi['codigo'] == codigo]\n",
    "        if len(df_duplicados) > 1:\n",
    "            print(df_duplicados)\n",
    "else:\n",
    "    print(\"No se encontraron duplicados en la columna 'codigo'\")"
   ]
  },
  {
   "cell_type": "code",
   "execution_count": 43,
   "metadata": {},
   "outputs": [
    {
     "name": "stdout",
     "output_type": "stream",
     "text": [
      "Se encontraron duplicados en la columna 'codigo':\n",
      "\n",
      "     lito tema  codigo  fila\n",
      "0  010500    S  320804     0\n",
      "1  010512    B  320804     7\n",
      "     lito tema  codigo  fila\n",
      "0  010486    A  350025     1\n",
      "1  010488    D  350025     3\n"
     ]
    }
   ],
   "source": [
    "duplicados = df_identifi.duplicated(subset=['codigo'], keep=False)\n",
    "\n",
    "if duplicados.any():\n",
    "    print(\"Se encontraron duplicados en la columna 'codigo':\\n\")\n",
    "    datos_duplicados = {}\n",
    "    for codigo, df_codigo in df_identifi[duplicados].groupby('codigo'):\n",
    "        if len(df_codigo) > 1:\n",
    "            datos_duplicados[codigo] = {'lito': [], 'tema': [], 'indices': []}\n",
    "            for idx, fila in enumerate(df_codigo.itertuples(), start=1):\n",
    "                datos_duplicados[codigo]['lito'].append(fila.lito)\n",
    "                datos_duplicados[codigo]['tema'].append(fila.tema)\n",
    "                datos_duplicados[codigo]['indices'].append(fila.Index)\n",
    "            print(pd.DataFrame({'lito': datos_duplicados[codigo]['lito'], 'tema': datos_duplicados[codigo]['tema'], 'codigo': [codigo]*len(df_codigo), 'fila': datos_duplicados[codigo]['indices']}))\n",
    "else:\n",
    "    print(\"No se encontraron duplicados en la columna 'codigo'\")"
   ]
  },
  {
   "cell_type": "code",
   "execution_count": 34,
   "metadata": {},
   "outputs": [
    {
     "name": "stdout",
     "output_type": "stream",
     "text": [
      "Se encontraron duplicados en la columna 'codigo':\n",
      "\n",
      "     lito tema  codigo\n",
      "0  010500    S  320804\n",
      "1  010512    B  320804\n",
      "     lito tema  codigo\n",
      "0  010486    A  350025\n",
      "1  010488    D  350025\n"
     ]
    }
   ],
   "source": [
    "duplicados = df_identifi.duplicated(subset=['codigo'], keep=False)\n",
    "\n",
    "if duplicados.any():\n",
    "    print(\"Se encontraron duplicados en la columna 'codigo':\\n\")\n",
    "    datos_duplicados = {}\n",
    "    for codigo, df_codigo in df_identifi[duplicados].groupby('codigo'):\n",
    "        if len(df_codigo) > 1:\n",
    "            datos_duplicados[codigo] = {'lito': [], 'tema': [], 'indices': []}\n",
    "            for idx, fila in enumerate(df_codigo.itertuples(), start=1):\n",
    "                datos_duplicados[codigo]['lito'].append(fila.lito)\n",
    "                datos_duplicados[codigo]['tema'].append(fila.tema)\n",
    "                datos_duplicados[codigo]['indices'].append(fila.Index)\n",
    "            df_duplicados = pd.DataFrame({'lito': datos_duplicados[codigo]['lito'], 'tema': datos_duplicados[codigo]['tema'], 'codigo': [codigo]*len(df_codigo)})\n",
    "            print(df_duplicados[['lito', 'tema', 'codigo']])     \n",
    "else:\n",
    "    print(\"No se encontraron duplicados en la columna 'codigo'\")\n"
   ]
  },
  {
   "cell_type": "code",
   "execution_count": 35,
   "metadata": {},
   "outputs": [
    {
     "name": "stdout",
     "output_type": "stream",
     "text": [
      "Se encontraron duplicados en la columna 'codigo':\n",
      "\n",
      "     lito tema  codigo  fila\n",
      "0  010500    S  320804     0\n",
      "1  010512    B  320804     7\n",
      "     lito tema  codigo  fila\n",
      "0  010486    A  350025     1\n",
      "1  010488    D  350025     3\n"
     ]
    }
   ],
   "source": [
    "duplicados = df_identifi.duplicated(subset=['codigo'], keep=False)\n",
    "\n",
    "if duplicados.any():\n",
    "    print(\"Se encontraron duplicados en la columna 'codigo':\\n\")\n",
    "    datos_duplicados = {}\n",
    "    for codigo, df_codigo in df_identifi[duplicados].groupby('codigo'):\n",
    "        if len(df_codigo) > 1:\n",
    "            datos_duplicados[codigo] = {'lito': [], 'tema': [], 'indices': []}\n",
    "            for idx, fila in enumerate(df_codigo.itertuples(), start=1):\n",
    "                datos_duplicados[codigo]['lito'].append(fila.lito)\n",
    "                datos_duplicados[codigo]['tema'].append(fila.tema)\n",
    "                datos_duplicados[codigo]['indices'].append(fila.Index)\n",
    "            df_duplicados = pd.DataFrame({'lito': datos_duplicados[codigo]['lito'], 'tema': datos_duplicados[codigo]['tema'], 'codigo': [codigo]*len(df_codigo), 'fila': datos_duplicados[codigo]['indices']})\n",
    "            df_duplicados = df_duplicados[['lito', 'tema', 'codigo', 'fila']]\n",
    "            print(df_duplicados)\n",
    "else:\n",
    "    print(\"No se encontraron duplicados en la columna 'codigo'\")"
   ]
  },
  {
   "attachments": {},
   "cell_type": "markdown",
   "metadata": {},
   "source": [
    "## VALIDAR DUPLICADOS DE LITOS"
   ]
  },
  {
   "cell_type": "code",
   "execution_count": 66,
   "metadata": {},
   "outputs": [
    {
     "name": "stdout",
     "output_type": "stream",
     "text": [
      "        lito tema  codigo\n",
      "0     010500    S  320804\n",
      "1     010486    A  350025\n",
      "2     010518    D  320804\n",
      "3     010488    D  350025\n",
      "4     010515    R  306126\n",
      "...      ...  ...     ...\n",
      "2798  010476    S  302513\n",
      "2799  010450    P  315200\n",
      "2800  010477    Q  313809\n",
      "2801  010449    R  305953\n",
      "2802  010474    S  304378\n",
      "\n",
      "[2803 rows x 3 columns]\n",
      "        lito tema                                          respuesta\n",
      "0     033916    C  SR STQRRST R  P QSTQRPPTRTP RPQPTS SSTQSR R  Q...\n",
      "1     033884    D  PQQPRQSPTSRSQRQRPTQPTTQPQTRRQ RPSPPPST P R QPQ...\n",
      "2     033898    P  TPSPSTTQTQRPPRQ S SRS QP QSSPRPSSRSPRQSQTQQSSP...\n",
      "3     033919    P     R          Q          TSSPTTPT PSRQSSRQTSRQ...\n",
      "4     033910    D  PTR QPRSTSSTS STSQQS RQQQTQRQ RPSQ  RT PRR Q T...\n",
      "...      ...  ...                                                ...\n",
      "2798  011846    P  TSR  T  Q  RQPQ TRTP  P  TSRTP P QPQR S Q QSR ...\n",
      "2799  011844    B  Q              P        SQ STPS RQS   S RQ R  ...\n",
      "2800  011845    C    QTPPQTR P   QRPP RSPPTTTP S QTTS  TTQ Q R  Q...\n",
      "2801  011843    D  PSQQRQSP SRTQTQPSRQSSQ QSTSRP RPTQPPRT PRR PTR...\n",
      "2802  011842    A  QPSQR* QSQPRSS*PRRQTPRQSQTPRSPTPSQRSRRSQPRQPTR...\n",
      "\n",
      "[2803 rows x 3 columns]\n"
     ]
    }
   ],
   "source": [
    "print(df_identifi)\n",
    "print(df_respuestas)"
   ]
  },
  {
   "attachments": {},
   "cell_type": "markdown",
   "metadata": {},
   "source": [
    "### Validacion duplicado lito identifi"
   ]
  },
  {
   "cell_type": "code",
   "execution_count": 71,
   "metadata": {},
   "outputs": [
    {
     "name": "stdout",
     "output_type": "stream",
     "text": [
      "Se encontraron duplicados en la columna 'lito':\n",
      "\n",
      "     lito tema  codigo  fila\n",
      "0  010500    S  320804     0\n",
      "1  010500    D  320804     2\n",
      "     lito tema  codigo  fila\n",
      "0  010510    B  316323     8\n",
      "1  010510    B  314369    51\n"
     ]
    }
   ],
   "source": [
    "duplicados = df_identifi.duplicated(subset=['lito'], keep=False)\n",
    "\n",
    "if duplicados.any():\n",
    "    print(\"Se encontraron duplicados en la columna 'lito':\\n\")\n",
    "    datos_duplicados = {}\n",
    "    for lito, df_lito in df_identifi[duplicados].groupby('lito'):\n",
    "        if len(df_lito) > 1:\n",
    "            datos_duplicados[lito] = {'codigo': [], 'tema': [], 'indices': []}\n",
    "            for idx, fila in enumerate(df_lito.itertuples(), start=1):\n",
    "                datos_duplicados[lito]['codigo'].append(fila.codigo)\n",
    "                datos_duplicados[lito]['tema'].append(fila.tema)\n",
    "                datos_duplicados[lito]['indices'].append(fila.Index)\n",
    "            df_duplicados = pd.DataFrame({'codigo': datos_duplicados[lito]['codigo'], 'tema': datos_duplicados[lito]['tema'], 'lito': [lito]*len(df_lito), 'fila': datos_duplicados[lito]['indices']})\n",
    "            df_duplicados = df_duplicados[['lito', 'tema', 'codigo', 'fila']]\n",
    "            print(df_duplicados)\n",
    "else:\n",
    "    print(\"No se encontraron duplicados en la columna 'lito'\")"
   ]
  },
  {
   "attachments": {},
   "cell_type": "markdown",
   "metadata": {},
   "source": [
    "### Validación duplicado lito respuesta"
   ]
  },
  {
   "cell_type": "code",
   "execution_count": 80,
   "metadata": {},
   "outputs": [
    {
     "name": "stdout",
     "output_type": "stream",
     "text": [
      "0        True\n",
      "1        True\n",
      "2        True\n",
      "3       False\n",
      "4       False\n",
      "        ...  \n",
      "2798    False\n",
      "2799    False\n",
      "2800    False\n",
      "2801    False\n",
      "2802    False\n",
      "Length: 2803, dtype: bool\n",
      "True\n",
      "Se encontraron duplicados en la columna 'lito':\n",
      "\n",
      "     lito tema                                         respuestas  fila\n",
      "0  033884    D  PQQPRQSPTSRSQRQRPTQPTTQPQTRRQ RPSPPPST P R QPQ...     1\n",
      "1  033884    P  TPSPSTTQTQRPPRQ S SRS QP QSSPRPSSRSPRQSQTQQSSP...     2\n",
      "     lito tema                                         respuestas  fila\n",
      "0  033916    C  SR STQRRST R  P QSTQRPPTRTP RPQPTS SSTQSR R  Q...     0\n",
      "1  033916    Q  R P  TQPPR  R   SQS SS Q R RPSPTPTSRP QQT Q   ...     5\n"
     ]
    }
   ],
   "source": [
    "duplicados = df_respuestas.duplicated(subset=['lito'], keep=False)\n",
    "print(duplicados)\n",
    "print(duplicados.any())\n",
    "if duplicados.any():\n",
    "    print(\"Se encontraron duplicados en la columna 'lito':\\n\")\n",
    "    datos_duplicados = {}\n",
    "    for lito, df_lito in df_respuestas[duplicados].groupby('lito'):\n",
    "        if len(df_lito) > 1:\n",
    "            datos_duplicados[lito] = {'tema': [], 'respuestas': [], 'indices': []}\n",
    "            for idx, fila in enumerate(df_lito.itertuples(), start=1):\n",
    "                datos_duplicados[lito]['tema'].append(fila.tema)\n",
    "                datos_duplicados[lito]['respuestas'].append(fila.respuesta)\n",
    "                datos_duplicados[lito]['indices'].append(fila.Index)\n",
    "            df_duplicados = pd.DataFrame({'lito': [lito]*len(df_lito), 'tema': datos_duplicados[lito]['tema'], 'respuestas': datos_duplicados[lito]['respuestas'], 'fila': datos_duplicados[lito]['indices']})\n",
    "            df_duplicados = df_duplicados[['lito', 'tema', 'respuestas', 'fila']]\n",
    "            print(df_duplicados)\n",
    "else:\n",
    "    print(\"No se encontraron duplicados en la columna 'lito'\")"
   ]
  }
 ],
 "metadata": {
  "kernelspec": {
   "display_name": "venv",
   "language": "python",
   "name": "python3"
  },
  "language_info": {
   "codemirror_mode": {
    "name": "ipython",
    "version": 3
   },
   "file_extension": ".py",
   "mimetype": "text/x-python",
   "name": "python",
   "nbconvert_exporter": "python",
   "pygments_lexer": "ipython3",
   "version": "3.11.2"
  },
  "orig_nbformat": 4
 },
 "nbformat": 4,
 "nbformat_minor": 2
}
