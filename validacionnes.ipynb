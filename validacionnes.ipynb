{
 "cells": [
  {
   "attachments": {},
   "cell_type": "markdown",
   "metadata": {},
   "source": [
    "### Validaciones"
   ]
  },
  {
   "cell_type": "code",
   "execution_count": 32,
   "metadata": {},
   "outputs": [],
   "source": [
    "import pandas as pd\n",
    "import re\n",
    "\n",
    "men = ''"
   ]
  },
  {
   "attachments": {},
   "cell_type": "markdown",
   "metadata": {},
   "source": [
    "Cargando datos"
   ]
  },
  {
   "cell_type": "code",
   "execution_count": 33,
   "metadata": {},
   "outputs": [
    {
     "name": "stdout",
     "output_type": "stream",
     "text": [
      "  lito_clave tema_clave                                           solucion\n",
      "0     033872          A  TRRQRPRTRRQSTQTQPQQRQSQRQSSRTSTPQRTRPSTRRQQTRS...\n",
      "1     033871          B  TTPTRTPTSSSTPTTSPPSQRRTQPRPRSPTTRTQQPPSPP STRR...\n",
      "2     033874          C  PQQSQRQTTQRSRPPRPQTPRPPTSTPRSQQTTSPTSQTTTTRSQQ...\n",
      "3     033873          D  PTRPRTRSTSSTSPSTPTQSRSQQQSQRQSRPSQPPRTRPRRTPPS...\n",
      "4     033880          P  TPPRRTRSQSRQQSPRPRQRSQQTPTSSPTTPTTPRRQSSPQQSRQ...\n",
      "5     033877          Q  PTRQPTPTSRQQQQQPSQQRPSRQSQTPPSPQPTRRPPQTTQQRRP...\n",
      "6     033876          R  QPTSPSTSSTTQSTPQRSPSQTRPTRTPPSSQSRTTPPTTTPTTQS...\n",
      "7     033875          S  QTRTSQSPSRRPSPRPPTRRRPPRTTRQRPSSSPTPQRQPQSSPPS...\n"
     ]
    }
   ],
   "source": [
    "try:\n",
    "    with open(\"claves.sdf\", \"r\") as archivo:\n",
    "        df_claves = pd.DataFrame(columns=['lito_clave', 'tema_clave', 'solucion'])\n",
    "        data_claves = archivo.readlines()\n",
    "        for line in data_claves:\n",
    "            lito = line[:6]\n",
    "            tema = line[6]\n",
    "            solucion = line[7:].replace('\\n', '')\n",
    "            df_claves = pd.concat([df_claves, pd.DataFrame({'lito_clave': [lito], 'tema_clave': [tema], 'solucion': [solucion]})], ignore_index=True)            \n",
    "    print(df_claves)\n",
    "except Exception as e:\n",
    "    print('Hubo un error: ', e)"
   ]
  },
  {
   "cell_type": "code",
   "execution_count": 34,
   "metadata": {},
   "outputs": [
    {
     "name": "stdout",
     "output_type": "stream",
     "text": [
      "        lito tema  codigo\n",
      "0     010486    A  350025\n",
      "1     010515    R  306126\n",
      "2     010484    C  326710\n",
      "3     010498    S  302174\n",
      "4     010512    B  320804\n",
      "...      ...  ...     ...\n",
      "2790  010476    S  302513\n",
      "2791  010450    P  315200\n",
      "2792  010477    Q  313809\n",
      "2793  010449    R  305953\n",
      "2794  010474    S  304378\n",
      "\n",
      "[2795 rows x 3 columns]\n"
     ]
    }
   ],
   "source": [
    "try:\n",
    "    with open(\"identifi.sdf\", \"r\") as archivo:\n",
    "        df_identifi = pd.DataFrame(columns=['lito', 'tema', 'codigo'])\n",
    "        data_identifi = archivo.readlines()\n",
    "        for linea in data_identifi:\n",
    "            lito = linea[:6]\n",
    "            tema = linea[6]\n",
    "            codigo = linea[7:].replace('\\n', '')\n",
    "            df_identifi = pd.concat([df_identifi, pd.DataFrame({'lito': [lito], 'tema': [tema], 'codigo': [codigo]})], ignore_index=True)\n",
    "    print(df_identifi)\n",
    "except Exception as e:\n",
    "    print('Hubo un error: ', e)"
   ]
  },
  {
   "cell_type": "code",
   "execution_count": 35,
   "metadata": {},
   "outputs": [
    {
     "name": "stdout",
     "output_type": "stream",
     "text": [
      "        lito tema                                          respuesta\n",
      "0     033916    C  SR STQRRST R  P QSTQRPPTRTP RPQPTS SSTQSR R  Q...\n",
      "1     033884    D  PQQPRQSPTSRSQRQRPTQPTTQPQTRRQ RPSPPPST P R QPQ...\n",
      "2     033919    P     R          Q          TSSPTTPT PSRQSSRQTSRQ...\n",
      "3     033910    D  PTR QPRSTSSTS STSQQS RQQQTQRQ RPSQ  RT PRR Q T...\n",
      "4     033892    C  QTSQSQRTTPQRSRTQSRTQRSPQTPSQTPPRQTRTSRPTQTSPRP...\n",
      "...      ...  ...                                                ...\n",
      "2796  011846    P  TSR  T  Q  RQPQ TRTP  P  TSRTP P QPQR S Q QSR ...\n",
      "2797  011844    B  Q              P        SQ STPS RQS   S RQ R  ...\n",
      "2798  011845    C    QTPPQTR P   QRPP RSPPTTTP S QTTS  TTQ Q R  Q...\n",
      "2799  011843    D  PSQQRQSP SRTQTQPSRQSSQ QSTSRP RPTQPPRT PRR PTR...\n",
      "2800  011842    A  QPSQR* QSQPRSS*PRRQTPRQSQTPRSPTPSQRSRRSQPRQPTR...\n",
      "\n",
      "[2801 rows x 3 columns]\n"
     ]
    }
   ],
   "source": [
    "try:\n",
    "    with open(\"respuestas.sdf\", \"r\") as archivo:\n",
    "        df_respuestas = pd.DataFrame(columns=['lito', 'tema', 'respuesta'])\n",
    "        data_respuestas = archivo.readlines()\n",
    "        for linea in data_respuestas:\n",
    "            lito = linea[:6]\n",
    "            tema = linea[6]\n",
    "            respuesta = linea[7:].replace('\\n', '')\n",
    "            df_respuestas = pd.concat([df_respuestas, pd.DataFrame({'lito': [lito], 'tema': [tema], 'respuesta': [respuesta]})], ignore_index=True)\n",
    "    print(df_respuestas)\n",
    "except Exception as e:\n",
    "    print('Hubo un error: ', e)"
   ]
  },
  {
   "cell_type": "code",
   "execution_count": 36,
   "metadata": {},
   "outputs": [],
   "source": [
    "#TEMAS = 'FGHIJKLMNOPRSTUVXYZ'\n",
    "tema = 'ABCDPQRS'\n",
    "#patron = r'^[TRQS ]+$'"
   ]
  },
  {
   "attachments": {},
   "cell_type": "markdown",
   "metadata": {},
   "source": [
    "#### 1- Estructura: click en boton y muestre la fila que no cumple la condicion\n",
    "CLAVES\n"
   ]
  },
  {
   "cell_type": "code",
   "execution_count": 37,
   "metadata": {},
   "outputs": [],
   "source": [
    "# Verificando lito\n",
    "lito_clave_esnum = pd.to_numeric(df_claves['lito_clave'], errors='coerce').notnull()\n",
    "invalid_rows = df_claves[~lito_clave_esnum]\n",
    "if invalid_rows.empty:\n",
    "    men += 'Hecho\\n'\n",
    "else:\n",
    "    men += 'Error en lito\\n' + invalid_rows['lito_clave'].to_string(header=False) + '\\n'"
   ]
  },
  {
   "cell_type": "code",
   "execution_count": 38,
   "metadata": {},
   "outputs": [],
   "source": [
    "# Verificando tema\n",
    "valid_tema = df_identifi['tema'].isin([i for i in tema])\n",
    "invalid_rows = df_identifi[~valid_tema]\n",
    "if invalid_rows.empty:\n",
    "    men += 'Hecho\\n'\n",
    "else:\n",
    "    men += 'Error en lito\\n' + invalid_rows['tema'].to_string(header=False) + '\\n'"
   ]
  },
  {
   "cell_type": "code",
   "execution_count": 39,
   "metadata": {},
   "outputs": [],
   "source": [
    "# Verificando solucion\n",
    "patronsito = 'TRQSP'\n",
    "patron = r'^['+patronsito+' ]*$'\n",
    "\n",
    "def validar_solucion_respuesta(solucion):\n",
    "    if len(solucion) != 100:\n",
    "        return False\n",
    "    if re.match(r'^['+patronsito+' ]*$', str(solucion)) is None:\n",
    "        return False\n",
    "    return True\n",
    "\n",
    "valid_rows = df_claves['solucion'].apply(validar_solucion_respuesta)\n",
    "invalid_rows = df_claves[~valid_rows]\n",
    "\n",
    "if invalid_rows.empty:\n",
    "    men += 'Hecho\\n'\n",
    "else:\n",
    "    men += 'Error en solucion\\n' + invalid_rows['solucion'].to_string(header=False) + '\\n'"
   ]
  },
  {
   "attachments": {},
   "cell_type": "markdown",
   "metadata": {},
   "source": [
    "IDENTIFI"
   ]
  },
  {
   "cell_type": "code",
   "execution_count": 40,
   "metadata": {},
   "outputs": [],
   "source": [
    "# Verificando lito\n",
    "valid_lito_identifi = pd.to_numeric(df_identifi['lito'], errors='coerce').notnull()\n",
    "invalid_rows_lito_identifi = df_identifi[~valid_lito_identifi]\n",
    "if invalid_rows_lito_identifi.empty:\n",
    "    men += 'Hecho\\n'\n",
    "else:\n",
    "    men += 'Error en lito\\n' + invalid_rows_lito_identifi['lito'].to_string(header=False) + '\\n'"
   ]
  },
  {
   "cell_type": "code",
   "execution_count": 41,
   "metadata": {},
   "outputs": [],
   "source": [
    "# Verificando tema\n",
    "valid_tema_identifi = df_identifi['tema'].isin([i for i in tema])\n",
    "invalid_rows_tema_identifi = df_identifi[~valid_tema_identifi]\n",
    "if invalid_rows_tema_identifi.empty:\n",
    "    men += 'Hecho\\n'\n",
    "else:\n",
    "    men += 'Error en tema\\n' + invalid_rows_tema_identifi['tema'].to_string(header=False) + '\\n'"
   ]
  },
  {
   "cell_type": "code",
   "execution_count": 42,
   "metadata": {},
   "outputs": [],
   "source": [
    "# Verificando codigo\n",
    "valid_codigo_identifi = pd.to_numeric(df_identifi['codigo'], errors='coerce').notnull()\n",
    "valid_codigo_identifi_len = df_identifi['codigo'].apply(lambda x: len(x) == 6)\n",
    "invalid_codigo_identifi = df_identifi[~valid_codigo_identifi]\n",
    "invalid_codigo_identifi_len  = df_identifi[~valid_codigo_identifi_len]\n",
    "invalid_rows_codigo_identifi = df_identifi[~(valid_codigo_identifi & valid_codigo_identifi_len)]\n",
    "if invalid_rows_codigo_identifi.empty:\n",
    "    men += 'Hecho\\n'\n",
    "else:\n",
    "    men += 'Error en tema\\n' + invalid_rows_codigo_identifi['codigo'].to_string(header=False) + '\\n'\n"
   ]
  },
  {
   "attachments": {},
   "cell_type": "markdown",
   "metadata": {},
   "source": [
    "Respuestas"
   ]
  },
  {
   "cell_type": "code",
   "execution_count": 43,
   "metadata": {},
   "outputs": [],
   "source": [
    "valid_lito_respuestas = pd.to_numeric(df_respuestas['lito'], errors='coerce').notnull()\n",
    "valid_codigo_identifi_len = df_identifi['lito'].apply(lambda x: len(x) == 6)\n",
    "invalid_lito_respuesta = df_respuestas[~valid_lito_respuestas]\n",
    "if invalid_lito_respuesta.empty:\n",
    "    men += 'Hecho\\n'\n",
    "else:\n",
    "    men += 'Error en tema\\n' + invalid_lito_respuesta['lito'].to_string(header=False) + '\\n'"
   ]
  },
  {
   "cell_type": "code",
   "execution_count": 44,
   "metadata": {},
   "outputs": [],
   "source": [
    "valid_tema_respuestas = df_respuestas['tema'].isin([i for i in tema])\n",
    "invalid_rows_tema_respuestas = df_respuestas[~valid_tema_respuestas]\n",
    "if invalid_rows_codigo_identifi.empty:\n",
    "    men += 'Hecho\\n'\n",
    "else:\n",
    "    men += 'Error en tema\\n' + invalid_rows_codigo_identifi['tema'].to_string(header=False) + '\\n'"
   ]
  },
  {
   "cell_type": "code",
   "execution_count": 45,
   "metadata": {},
   "outputs": [
    {
     "name": "stdout",
     "output_type": "stream",
     "text": [
      "Hecho\n",
      "Hecho\n",
      "Hecho\n",
      "Hecho\n",
      "Hecho\n",
      "Hecho\n",
      "Hecho\n",
      "Hecho\n",
      "Error en solucion\n",
      "86      SQRRQTRTPTS* R SRQTTRPPPQTPPS QTRS TS QTRPRPQQ...\n",
      "173     RTPT SQQSQRS PQP SQ T QRPR Q SS* Q  SRTSPQ T S...\n",
      "195     QTQPRQPSRQTRSQPQTRTRRTSQTPSTPRPRSRQTPRTTQPQQSR...\n",
      "233     STRSRRTQSQRSSPR PRRRQQPR  RQS RS QQP TSRQ STSQ...\n",
      "236     TPPPPPQQQ*QTPRQSPRQSRPTQQRPRSRSQPQQQTTQT RQRTP...\n",
      "323     TQQTTSPTRQQTRQPQSSQTSQQPPTSSRSPPSSTSSRTRTPRRQT...\n",
      "380     PQSQPS QSQPQPPPSSSQTRTQPPSQS* QRQS T PQ R    Q...\n",
      "492     SQRSTRPSPSQRTSPS   RQRQ QTPRTQTQT*RRSSPRP TRQT...\n",
      "572     S SRRR       PRPTRPRT QSPT*RQTTTSRRRPQ  SR Q  ...\n",
      "578     STRQSRSPSRSPSSP PRRTRSPQPRQQRQ QRRTQ QS QQ QSQ...\n",
      "579     QQTQP*PQQRRPPRQRRSRTQTTTPTPPPTPPQQQQQSSSSSTRRT...\n",
      "604     RSTRPSTS RTSSTPTRSPSQTRSTSSSSSSSSS*SSSSSSSSSSS...\n",
      "624     SRPQTPTRPTTRQPRSRQQRSQSTPRQPRSRTTQSTSQPQRRTPQR...\n",
      "701     TPS QQT QT  RTRPS QPTR T QRPTS  SP    STSR QSS...\n",
      "1009    SQSQSTQRTPPQPRPSQRTRRQP TP  SRQPSPPTSQSTQPRTPT...\n",
      "1030    TTRQSQTPSRTQTP  PSS* T QS  R      Q  SS   TPS ...\n",
      "1082    S      Q     RR        R QSPPSP RTQ PTTQ*PT PS...\n",
      "1125     P P       RPQP T Q   Q  Q SSR  QPQQQQSRR TSRQ...\n",
      "1226    TR SSQSQS SPSPTQPTRR TRR QSR Q RTSQSQSP P STSP...\n",
      "1308    SSQS RT   QTQR  PRRTQR T        Q  R RT     S ...\n",
      "1383      PQ   R  QQPTQ R RSQT  T R *  T    Q    R   Q...\n",
      "1400    QQTRPQPPQQPQPPPPPQRTSQPPQQPQSQQPPRQTSRTQSQTPRQ...\n",
      "1430    TT PPPRPPTSRSPSTPPQSSSQTQTPRQSRPPPPPSTQPRSPPPP...\n",
      "1472    TPRTPTRSQQRPSSSSQRTRQRTSTQQQQSQSQSPRPTTTTTQPTR...\n",
      "1507    QSTPTS SSQRQSPTRSS SQ RSS R S RSS S Q S Q QRT ...\n",
      "1568    PRQQPSRSQSRS QSRS QSTS STQSRP SPPQ PSQ PRQ  RT...\n",
      "1582    QSQQPRQTQSQSTPPRQSSRR*PRPQPPQPRTSSSRTQRRSSRTTR...\n",
      "1616    PQSRQPPTTRPQR RRP RRRPPTSTP S QTTS SSTT S RT Q...\n",
      "1632    PQQPSRTPSRTTQSQTQRPRPTQRQRSTPQTQPQPSPRTTTTPRTP...\n",
      "1660    TRQSRTS RQ SPRPSPSRQTRQQ TSRPSPPQRPPQQSQQQRPTP...\n",
      "1773     PTS STS T  SPQ RS SQT PT  PPP QSPRRPTTQQQTRTR...\n",
      "1785    TTP     TR Q    P   Q  Q PQPPP*    TTTTT      ...\n",
      "1799    TQQPQSPTTRRRTQPRPSPTQRRRTQPTSTQSTPPPPQSQPQRTRQ...\n",
      "1805    RRTQR PTSQQPRSPRQSPTSPTQRSQ SPPTTRPTS QQRTP  Q...\n",
      "1835    RPQQTQT   Q   RT        SSRRPSPPPR*RP Q P  PT ...\n",
      "1842    PSQPPRRSTQPQRQPSPSPSRPP RSPPRTQTTT  RQTQRQSPTQ...\n",
      "1949      RQ P  P PSQQ PQQQTTT  PRSSSRRQQRTPQRTSQQQSPQ...\n",
      "1984    TPQR RP SPTR*SQSPQRRPQSPRTSS TQTPQPPQ S  Q SRQ...\n",
      "1986      RQQRTTSRRR Q RSSQ PPRRSRTRPRRTPRTRQPRSTSQRRT...\n",
      "1992    SRRPRQSPQSRSSPQSPRSQTQQSQSSRQPQSSS RRS SRSQTQQ...\n",
      "2045    RRS Q Q R  S   PSQ P  Q  QQP RR*  S  TT QRQ R ...\n",
      "2060    R RTTPQPRPP P S TTQ S SP RTQPRPQPTTRPPQSQQPRQT...\n",
      "2105    PSTSRTSQRQPPTTQSTSQTQSRSPRPRRPRTQQQPTTSPQQQSTQ...\n",
      "2138    SRRT*SQTPRQPQRRRPTTRSRQRRPQQSQQTQRQRQTPSSPTQSQ...\n",
      "2175    RSRTPRRTTTRPRRQPR R*RRPRQRPQSPTPTTPT TTTSTRQQT...\n",
      "2198    RSQS PPTT  QRPSQTSSRRPRTQSSQRQQTST RTPP T TP R...\n",
      "2215    R RPRSPS R S   QTQT      SSSP TSSQSQSQSP QQSSQ...\n",
      "2218    PQRQRQRPTSRTQPS*SQQSPSQQRSRSPQRPPQ  RS PRT PSQ...\n",
      "2276    QQQSSPSSTTSRTQPQQRSRTSQQRSSS TPPPPPQQQS PQQSRQ...\n",
      "2329    RQQSQ  TTP    PR PTR RPR SQ   QTTR TSRTTSQRQQT...\n",
      "2440    PTRRPTTTSRQQQQQPSQQRPSRTSQTPPSPQPTRRPPQTTQPRRP...\n",
      "2475    QQPQPSPSQTSQPQPQPQPTRRRQPPSTPSQSPPPRQTSSTPQSSR...\n",
      "2490    PQQTQTQSTQPPRRPRSPTPRRPTSSQSSQQPPSPTSQTTT RSPQ...\n",
      "2618    SSSRPQRSSQQRRQRPPSPPQQRPPSRSSSQQPTRSPRRTRTSRPP...\n",
      "2664    STTPSQQSQQQTSP  PTTTTPQRPPQ  SQS PRSQRS P P TR...\n",
      "2683    RSPQRPSRTQSPQRQPSPTRTSQQRRQPPSPSTQRPSRSRPQQSQS...\n",
      "2687    TQQRTT TTQQPQQQPPQSRQ SQPQQSPSTSTPPTRRSTQQQSRS...\n",
      "2705     QRS  R      Q           PP*RS  TPPRR    Q P  ...\n",
      "2714    R      SRS   P TRTPRQPSRQPQPQRTQSTR S TQSPRQ Q...\n",
      "2718    PQQRSQQTSQ*  RPRRP PRPPTQRQ STQTTS TSPT STR   ...\n",
      "2731    QSR S SPSRPPSP  PRRTTQ R   R         SS     * ...\n",
      "2740    P*RQQQPP RRPSPP PRRRRPPQRS RT R     S  Q  SPQ ...\n",
      "2800    QPSQR* QSQPRSS*PRRQTPRQSQTPRSPTPSQRSRRSQPRQPTR...\n",
      "\n"
     ]
    }
   ],
   "source": [
    "valid_rows_respuestas = df_respuestas['respuesta'].apply(validar_solucion_respuesta)\n",
    "invalid_rows_respuestas = df_respuestas[~valid_rows_respuestas]\n",
    "\n",
    "if invalid_rows_respuestas.empty:\n",
    "    men += 'Hecho\\n'\n",
    "else:\n",
    "    men += 'Error en respuesta\\n' + invalid_rows_respuestas['respuesta'].to_string(header=False) + '\\n'\n",
    "print(men)"
   ]
  },
  {
   "attachments": {},
   "cell_type": "markdown",
   "metadata": {},
   "source": [
    "## VALIDAR DUPLICADOS CODIGOS POSTULANTES"
   ]
  },
  {
   "cell_type": "code",
   "execution_count": 46,
   "metadata": {},
   "outputs": [],
   "source": [
    "try:\n",
    "    with open(\"identifi.sdf\", \"r\") as archivo:\n",
    "        df_identifi = pd.DataFrame(columns=['lito', 'tema', 'codigo'])\n",
    "        data_identifi = archivo.readlines()\n",
    "        for linea in data_identifi:\n",
    "            lito = linea[:6]\n",
    "            tema = linea[6]\n",
    "            codigo = linea[7:13]\n",
    "            df_identifi = pd.concat([df_identifi, pd.DataFrame({'lito': [lito], 'tema': [tema], 'codigo': [codigo]})], ignore_index=True)\n",
    "except Exception as e:\n",
    "    print('Hubo un error: ', e)"
   ]
  },
  {
   "cell_type": "code",
   "execution_count": 47,
   "metadata": {},
   "outputs": [
    {
     "name": "stdout",
     "output_type": "stream",
     "text": [
      "        lito tema  codigo\n",
      "0     010486    A  350025\n",
      "1     010515    R  306126\n",
      "2     010484    C  326710\n",
      "3     010498    S  302174\n",
      "4     010512    B  320804\n",
      "...      ...  ...     ...\n",
      "2790  010476    S  302513\n",
      "2791  010450    P  315200\n",
      "2792  010477    Q  313809\n",
      "2793  010449    R  305953\n",
      "2794  010474    S  304378\n",
      "\n",
      "[2795 rows x 3 columns]\n"
     ]
    }
   ],
   "source": [
    "print(df_identifi)"
   ]
  },
  {
   "cell_type": "code",
   "execution_count": 48,
   "metadata": {},
   "outputs": [
    {
     "name": "stdout",
     "output_type": "stream",
     "text": [
      "No hay duplicados en la columna 'codigo'\n"
     ]
    }
   ],
   "source": [
    "duplicados = df_identifi.duplicated(subset=['codigo'])\n",
    "if duplicados.any():\n",
    "    print(\"Hay duplicados en la columna 'codigo'\")\n",
    "else:\n",
    "    print(\"No hay duplicados en la columna 'codigo'\")"
   ]
  },
  {
   "cell_type": "code",
   "execution_count": 49,
   "metadata": {},
   "outputs": [
    {
     "name": "stdout",
     "output_type": "stream",
     "text": [
      "No se encontraron duplicados en la columna 'codigo'\n"
     ]
    }
   ],
   "source": [
    "duplicados = df_identifi.duplicated(subset=['codigo'], keep=False)\n",
    "\n",
    "if duplicados.any():\n",
    "    print(\"Se encontraron duplicados en la columna 'codigo':\\n\")\n",
    "    for codigo in df_identifi[duplicados]['codigo'].unique():\n",
    "        df_duplicados = df_identifi[df_identifi['codigo'] == codigo]\n",
    "        if len(df_duplicados) > 1:\n",
    "            print(df_duplicados)\n",
    "else:\n",
    "    print(\"No se encontraron duplicados en la columna 'codigo'\")"
   ]
  },
  {
   "cell_type": "code",
   "execution_count": 50,
   "metadata": {},
   "outputs": [
    {
     "name": "stdout",
     "output_type": "stream",
     "text": [
      "No se encontraron duplicados en la columna 'codigo'\n"
     ]
    }
   ],
   "source": [
    "duplicados = df_identifi.duplicated(subset=['codigo'], keep=False)\n",
    "\n",
    "if duplicados.any():\n",
    "    print(\"Se encontraron duplicados en la columna 'codigo':\\n\")\n",
    "    datos_duplicados = {}\n",
    "    for codigo, df_codigo in df_identifi[duplicados].groupby('codigo'):\n",
    "        if len(df_codigo) > 1:\n",
    "            datos_duplicados[codigo] = {'lito': [], 'tema': [], 'indices': []}\n",
    "            for idx, fila in enumerate(df_codigo.itertuples(), start=1):\n",
    "                datos_duplicados[codigo]['lito'].append(fila.lito)\n",
    "                datos_duplicados[codigo]['tema'].append(fila.tema)\n",
    "                datos_duplicados[codigo]['indices'].append(fila.Index)\n",
    "            print(pd.DataFrame({'lito': datos_duplicados[codigo]['lito'], 'tema': datos_duplicados[codigo]['tema'], 'codigo': [codigo]*len(df_codigo), 'fila': datos_duplicados[codigo]['indices']}))\n",
    "else:\n",
    "    print(\"No se encontraron duplicados en la columna 'codigo'\")"
   ]
  },
  {
   "cell_type": "code",
   "execution_count": 51,
   "metadata": {},
   "outputs": [
    {
     "name": "stdout",
     "output_type": "stream",
     "text": [
      "No se encontraron duplicados en la columna 'codigo'\n"
     ]
    }
   ],
   "source": [
    "duplicados = df_identifi.duplicated(subset=['codigo'], keep=False)\n",
    "\n",
    "if duplicados.any():\n",
    "    print(\"Se encontraron duplicados en la columna 'codigo':\\n\")\n",
    "    datos_duplicados = {}\n",
    "    for codigo, df_codigo in df_identifi[duplicados].groupby('codigo'):\n",
    "        if len(df_codigo) > 1:\n",
    "            datos_duplicados[codigo] = {'lito': [], 'tema': [], 'indices': []}\n",
    "            for idx, fila in enumerate(df_codigo.itertuples(), start=1):\n",
    "                datos_duplicados[codigo]['lito'].append(fila.lito)\n",
    "                datos_duplicados[codigo]['tema'].append(fila.tema)\n",
    "                datos_duplicados[codigo]['indices'].append(fila.Index)\n",
    "            df_duplicados = pd.DataFrame({'lito': datos_duplicados[codigo]['lito'], 'tema': datos_duplicados[codigo]['tema'], 'codigo': [codigo]*len(df_codigo)})\n",
    "            print(df_duplicados[['lito', 'tema', 'codigo']])     \n",
    "else:\n",
    "    print(\"No se encontraron duplicados en la columna 'codigo'\")\n"
   ]
  },
  {
   "cell_type": "code",
   "execution_count": 52,
   "metadata": {},
   "outputs": [
    {
     "name": "stdout",
     "output_type": "stream",
     "text": [
      "No se encontraron duplicados en la columna 'codigo'\n"
     ]
    }
   ],
   "source": [
    "duplicados = df_identifi.duplicated(subset=['codigo'], keep=False)\n",
    "\n",
    "if duplicados.any():\n",
    "    print(\"Se encontraron duplicados en la columna 'codigo':\\n\")\n",
    "    datos_duplicados = {}\n",
    "    for codigo, df_codigo in df_identifi[duplicados].groupby('codigo'):\n",
    "        if len(df_codigo) > 1:\n",
    "            datos_duplicados[codigo] = {'lito': [], 'tema': [], 'indices': []}\n",
    "            for idx, fila in enumerate(df_codigo.itertuples(), start=1):\n",
    "                datos_duplicados[codigo]['lito'].append(fila.lito)\n",
    "                datos_duplicados[codigo]['tema'].append(fila.tema)\n",
    "                datos_duplicados[codigo]['indices'].append(fila.Index)\n",
    "            df_duplicados = pd.DataFrame({'lito': datos_duplicados[codigo]['lito'], 'tema': datos_duplicados[codigo]['tema'], 'codigo': [codigo]*len(df_codigo), 'fila': datos_duplicados[codigo]['indices']})\n",
    "            df_duplicados = df_duplicados[['lito', 'tema', 'codigo', 'fila']]\n",
    "            print(df_duplicados)\n",
    "else:\n",
    "    print(\"No se encontraron duplicados en la columna 'codigo'\")"
   ]
  },
  {
   "attachments": {},
   "cell_type": "markdown",
   "metadata": {},
   "source": [
    "## VALIDAR DUPLICADOS DE LITOS"
   ]
  },
  {
   "cell_type": "code",
   "execution_count": 53,
   "metadata": {},
   "outputs": [
    {
     "name": "stdout",
     "output_type": "stream",
     "text": [
      "        lito tema  codigo\n",
      "0     010486    A  350025\n",
      "1     010515    R  306126\n",
      "2     010484    C  326710\n",
      "3     010498    S  302174\n",
      "4     010512    B  320804\n",
      "...      ...  ...     ...\n",
      "2790  010476    S  302513\n",
      "2791  010450    P  315200\n",
      "2792  010477    Q  313809\n",
      "2793  010449    R  305953\n",
      "2794  010474    S  304378\n",
      "\n",
      "[2795 rows x 3 columns]\n",
      "        lito tema                                          respuesta\n",
      "0     033916    C  SR STQRRST R  P QSTQRPPTRTP RPQPTS SSTQSR R  Q...\n",
      "1     033884    D  PQQPRQSPTSRSQRQRPTQPTTQPQTRRQ RPSPPPST P R QPQ...\n",
      "2     033919    P     R          Q          TSSPTTPT PSRQSSRQTSRQ...\n",
      "3     033910    D  PTR QPRSTSSTS STSQQS RQQQTQRQ RPSQ  RT PRR Q T...\n",
      "4     033892    C  QTSQSQRTTPQRSRTQSRTQRSPQTPSQTPPRQTRTSRPTQTSPRP...\n",
      "...      ...  ...                                                ...\n",
      "2796  011846    P  TSR  T  Q  RQPQ TRTP  P  TSRTP P QPQR S Q QSR ...\n",
      "2797  011844    B  Q              P        SQ STPS RQS   S RQ R  ...\n",
      "2798  011845    C    QTPPQTR P   QRPP RSPPTTTP S QTTS  TTQ Q R  Q...\n",
      "2799  011843    D  PSQQRQSP SRTQTQPSRQSSQ QSTSRP RPTQPPRT PRR PTR...\n",
      "2800  011842    A  QPSQR* QSQPRSS*PRRQTPRQSQTPRSPTPSQRSRRSQPRQPTR...\n",
      "\n",
      "[2801 rows x 3 columns]\n"
     ]
    }
   ],
   "source": [
    "print(df_identifi)\n",
    "print(df_respuestas)"
   ]
  },
  {
   "attachments": {},
   "cell_type": "markdown",
   "metadata": {},
   "source": [
    "### Validacion duplicado lito identifi"
   ]
  },
  {
   "cell_type": "code",
   "execution_count": 54,
   "metadata": {},
   "outputs": [
    {
     "name": "stdout",
     "output_type": "stream",
     "text": [
      "Se encontraron duplicados en la columna 'lito':\n",
      "\n",
      "     lito tema  codigo  fila\n",
      "0  010510    B  316323     5\n",
      "1  010510    B  314369    48\n"
     ]
    }
   ],
   "source": [
    "duplicados = df_identifi.duplicated(subset=['lito'], keep=False)\n",
    "\n",
    "if duplicados.any():\n",
    "    print(\"Se encontraron duplicados en la columna 'lito':\\n\")\n",
    "    datos_duplicados = {}\n",
    "    for lito, df_lito in df_identifi[duplicados].groupby('lito'):\n",
    "        if len(df_lito) > 1:\n",
    "            datos_duplicados[lito] = {'codigo': [], 'tema': [], 'indices': []}\n",
    "            for idx, fila in enumerate(df_lito.itertuples(), start=1):\n",
    "                datos_duplicados[lito]['codigo'].append(fila.codigo)\n",
    "                datos_duplicados[lito]['tema'].append(fila.tema)\n",
    "                datos_duplicados[lito]['indices'].append(fila.Index)\n",
    "            df_duplicados = pd.DataFrame({'codigo': datos_duplicados[lito]['codigo'], 'tema': datos_duplicados[lito]['tema'], 'lito': [lito]*len(df_lito), 'fila': datos_duplicados[lito]['indices']})\n",
    "            df_duplicados = df_duplicados[['lito', 'tema', 'codigo', 'fila']]\n",
    "            print(df_duplicados)\n",
    "else:\n",
    "    print(\"No se encontraron duplicados en la columna 'lito'\")"
   ]
  },
  {
   "attachments": {},
   "cell_type": "markdown",
   "metadata": {},
   "source": [
    "### Validación duplicado lito respuesta"
   ]
  },
  {
   "cell_type": "code",
   "execution_count": 55,
   "metadata": {},
   "outputs": [
    {
     "name": "stdout",
     "output_type": "stream",
     "text": [
      "0       False\n",
      "1       False\n",
      "2       False\n",
      "3       False\n",
      "4       False\n",
      "        ...  \n",
      "2796    False\n",
      "2797    False\n",
      "2798    False\n",
      "2799    False\n",
      "2800    False\n",
      "Length: 2801, dtype: bool\n",
      "False\n",
      "No se encontraron duplicados en la columna 'lito'\n"
     ]
    }
   ],
   "source": [
    "duplicados = df_respuestas.duplicated(subset=['lito'], keep=False)\n",
    "print(duplicados)\n",
    "print(duplicados.any())\n",
    "if duplicados.any():\n",
    "    print(\"Se encontraron duplicados en la columna 'lito':\\n\")\n",
    "    datos_duplicados = {}\n",
    "    for lito, df_lito in df_respuestas[duplicados].groupby('lito'):\n",
    "        if len(df_lito) > 1:\n",
    "            datos_duplicados[lito] = {'tema': [], 'respuestas': [], 'indices': []}\n",
    "            for idx, fila in enumerate(df_lito.itertuples(), start=1):\n",
    "                datos_duplicados[lito]['tema'].append(fila.tema)\n",
    "                datos_duplicados[lito]['respuestas'].append(fila.respuesta)\n",
    "                datos_duplicados[lito]['indices'].append(fila.Index)\n",
    "            df_duplicados = pd.DataFrame({'lito': [lito]*len(df_lito), 'tema': datos_duplicados[lito]['tema'], 'respuestas': datos_duplicados[lito]['respuestas'], 'fila': datos_duplicados[lito]['indices']})\n",
    "            df_duplicados = df_duplicados[['lito', 'tema', 'respuestas', 'fila']]\n",
    "            print(df_duplicados)\n",
    "else:\n",
    "    print(\"No se encontraron duplicados en la columna 'lito'\")"
   ]
  }
 ],
 "metadata": {
  "kernelspec": {
   "display_name": "venv",
   "language": "python",
   "name": "python3"
  },
  "language_info": {
   "codemirror_mode": {
    "name": "ipython",
    "version": 3
   },
   "file_extension": ".py",
   "mimetype": "text/x-python",
   "name": "python",
   "nbconvert_exporter": "python",
   "pygments_lexer": "ipython3",
   "version": "3.11.1"
  },
  "orig_nbformat": 4
 },
 "nbformat": 4,
 "nbformat_minor": 2
}
