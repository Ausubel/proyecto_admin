{
 "cells": [
  {
   "cell_type": "code",
   "execution_count": 2,
   "metadata": {},
   "outputs": [],
   "source": [
    "import pandas as pd\n",
    "DF_CARRERAS = pd.read_excel('vaca.xlsx', names=['CARRERA_PROFESIONAL', 'VACANTES'])\n",
    "CARRERAS = DF_CARRERAS['CARRERA_PROFESIONAL'].to_list()\n",
    "VACANTES = DF_CARRERAS['VACANTES'].to_list()\n",
    "for i, carrera in enumerate(CARRERAS):\n",
    "    df = pd.read_csv(f'sdf/{carrera}.csv')\n",
    "    df = df.sort_values('puntaje', ascending=False)\n",
    "    df['Merito'] = df.index + 1\n",
    "    if len(df) > VACANTES[i]:\n",
    "        last_admitted_score = df.iloc[VACANTES[i]-1]['puntaje']\n",
    "        df['Condicion'] = df.apply(lambda row: 'INGRESO' if row['puntaje'] >= last_admitted_score else 'NO INGRESO', axis=1)\n",
    "    else:\n",
    "        df['Condicion'] = 'INGRESO'\n",
    "    df = df.rename(columns={'APELLIDO PATERNO': 'APELLIDO_PATERNO', 'APELLIDO MATERNO': 'APELLIDO_MATERNO', 'NOMBRES': 'NOMBRES_COMPLETOS', 'puntaje': 'PUNTAJE', 'Merito': 'MERITO','Condicion': 'CONDICION','codigo':'CODIGO'})\n",
    "    df = df[['CODIGO','APELLIDO_PATERNO', 'APELLIDO_MATERNO', 'NOMBRES_COMPLETOS', 'PUNTAJE','MERITO', 'CONDICION']]\n",
    "    df.to_csv(f'REPORTES/REPORTE_{carrera}.csv', index=False)"
   ]
  }
 ],
 "metadata": {
  "kernelspec": {
   "display_name": "venv",
   "language": "python",
   "name": "python3"
  },
  "language_info": {
   "codemirror_mode": {
    "name": "ipython",
    "version": 3
   },
   "file_extension": ".py",
   "mimetype": "text/x-python",
   "name": "python",
   "nbconvert_exporter": "python",
   "pygments_lexer": "ipython3",
   "version": "3.10.6"
  },
  "orig_nbformat": 4
 },
 "nbformat": 4,
 "nbformat_minor": 2
}
