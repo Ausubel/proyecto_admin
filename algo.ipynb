{
 "cells": [
  {
   "cell_type": "code",
   "execution_count": 52,
   "metadata": {},
   "outputs": [
    {
     "ename": "ValueError",
     "evalue": "The truth value of a Series is ambiguous. Use a.empty, a.bool(), a.item(), a.any() or a.all().",
     "output_type": "error",
     "traceback": [
      "\u001b[0;31m---------------------------------------------------------------------------\u001b[0m",
      "\u001b[0;31mValueError\u001b[0m                                Traceback (most recent call last)",
      "Cell \u001b[0;32mIn[52], line 20\u001b[0m\n\u001b[1;32m     17\u001b[0m \u001b[39mif\u001b[39;00m \u001b[39mlen\u001b[39m(df) \u001b[39m>\u001b[39m VACANTES[i]:\n\u001b[1;32m     18\u001b[0m     \u001b[39m# Not all students can be admitted, so select the last admitted student\u001b[39;00m\n\u001b[1;32m     19\u001b[0m     last_admitted_score \u001b[39m=\u001b[39m df\u001b[39m.\u001b[39miloc[VACANTES[i]\u001b[39m-\u001b[39m\u001b[39m1\u001b[39m][\u001b[39m'\u001b[39m\u001b[39mpuntaje\u001b[39m\u001b[39m'\u001b[39m]\n\u001b[0;32m---> 20\u001b[0m     df[\u001b[39m'\u001b[39m\u001b[39mCondicion\u001b[39m\u001b[39m'\u001b[39m] \u001b[39m=\u001b[39m \u001b[39m'\u001b[39m\u001b[39mINGRESO\u001b[39m\u001b[39m'\u001b[39m \u001b[39mif\u001b[39;00m df[\u001b[39m'\u001b[39m\u001b[39mpuntaje\u001b[39m\u001b[39m'\u001b[39m] \u001b[39m>\u001b[39m\u001b[39m=\u001b[39m last_admitted_score \u001b[39melse\u001b[39;00m \u001b[39m'\u001b[39m\u001b[39mNO INGRESO\u001b[39m\u001b[39m'\u001b[39m\n\u001b[1;32m     21\u001b[0m \u001b[39melse\u001b[39;00m:\n\u001b[1;32m     22\u001b[0m     \u001b[39m# All students can be admitted\u001b[39;00m\n\u001b[1;32m     23\u001b[0m     df[\u001b[39m'\u001b[39m\u001b[39mCondicion\u001b[39m\u001b[39m'\u001b[39m] \u001b[39m=\u001b[39m \u001b[39m'\u001b[39m\u001b[39mINGRESO\u001b[39m\u001b[39m'\u001b[39m\n",
      "File \u001b[0;32m~/dev/proyecto_admin/venv/lib/python3.10/site-packages/pandas/core/generic.py:1527\u001b[0m, in \u001b[0;36mNDFrame.__nonzero__\u001b[0;34m(self)\u001b[0m\n\u001b[1;32m   1525\u001b[0m \u001b[39m@final\u001b[39m\n\u001b[1;32m   1526\u001b[0m \u001b[39mdef\u001b[39;00m \u001b[39m__nonzero__\u001b[39m(\u001b[39mself\u001b[39m) \u001b[39m-\u001b[39m\u001b[39m>\u001b[39m NoReturn:\n\u001b[0;32m-> 1527\u001b[0m     \u001b[39mraise\u001b[39;00m \u001b[39mValueError\u001b[39;00m(\n\u001b[1;32m   1528\u001b[0m         \u001b[39mf\u001b[39m\u001b[39m\"\u001b[39m\u001b[39mThe truth value of a \u001b[39m\u001b[39m{\u001b[39;00m\u001b[39mtype\u001b[39m(\u001b[39mself\u001b[39m)\u001b[39m.\u001b[39m\u001b[39m__name__\u001b[39m\u001b[39m}\u001b[39;00m\u001b[39m is ambiguous. \u001b[39m\u001b[39m\"\u001b[39m\n\u001b[1;32m   1529\u001b[0m         \u001b[39m\"\u001b[39m\u001b[39mUse a.empty, a.bool(), a.item(), a.any() or a.all().\u001b[39m\u001b[39m\"\u001b[39m\n\u001b[1;32m   1530\u001b[0m     )\n",
      "\u001b[0;31mValueError\u001b[0m: The truth value of a Series is ambiguous. Use a.empty, a.bool(), a.item(), a.any() or a.all()."
     ]
    }
   ],
   "source": [
    "import pandas as pd\n",
    "\n",
    "# Read the number of available vacancies for each career from an Excel file\n",
    "DF_CARRERAS = pd.read_excel('vaca.xlsx', names=['CARRERA_PROFESIONAL', 'VACANTES'])\n",
    "CARRERAS = DF_CARRERAS['CARRERA_PROFESIONAL'].to_list()\n",
    "VACANTES = DF_CARRERAS['VACANTES'].to_list()\n",
    "\n",
    "for i, carrera in enumerate(CARRERAS):\n",
    "    # Read the data from the CSV file for the current career\n",
    "    df = pd.read_csv(f'sdf/{carrera}.csv')\n",
    "    \n",
    "    # Sort the data by score in descending order and assign a merit position to each student\n",
    "    df = df.sort_values('puntaje', ascending=False)\n",
    "    df['Merito'] = df.index + 1\n",
    "    \n",
    "    # Determine whether each student has been admitted or not\n",
    "    if len(df) > VACANTES[i]:\n",
    "        # Not all students can be admitted, so select the last admitted student\n",
    "        last_admitted_score = df.iloc[VACANTES[i]-1]['puntaje']\n",
    "        df['Condicion'] = df.apply(lambda row: 'INGRESO' if row['puntaje'] >= last_admitted_score else 'NO INGRESO', axis=1)\n",
    "\n",
    "    else:\n",
    "        # All students can be admitted\n",
    "        df['Condicion'] = 'INGRESO'\n",
    "    \n",
    "    # Rename the columns to remove spaces\n",
    "    df = df.rename(columns={'APELLIDO PATERNO': 'APELLIDO_PATERNO', 'APELLIDO MATERNO': 'APELLIDO_MATERNO', 'NOMBRES': 'NOMBRES_COMPLETOS'})\n",
    "    \n",
    "    # Select the columns to include in the output CSV file\n",
    "    df = df[['lito', 'tema', 'codigo', 'puntaje', 'correctas', 'incorrectas', 'vacias', 'APELLIDO_PATERNO', 'APELLIDO_MATERNO', 'NOMBRES_COMPLETOS', 'CARRERA', 'Merito', 'Condicion']]\n",
    "    \n",
    "    # Write the results to a new CSV file\n",
    "    df.to_csv(f'prueba_{carrera}.csv', index=False)\n",
    "\n",
    "\n"
   ]
  }
 ],
 "metadata": {
  "kernelspec": {
   "display_name": "venv",
   "language": "python",
   "name": "python3"
  },
  "language_info": {
   "codemirror_mode": {
    "name": "ipython",
    "version": 3
   },
   "file_extension": ".py",
   "mimetype": "text/x-python",
   "name": "python",
   "nbconvert_exporter": "python",
   "pygments_lexer": "ipython3",
   "version": "3.10.6"
  },
  "orig_nbformat": 4
 },
 "nbformat": 4,
 "nbformat_minor": 2
}
