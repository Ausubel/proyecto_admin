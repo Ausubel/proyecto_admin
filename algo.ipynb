{
 "cells": [
  {
   "cell_type": "code",
   "execution_count": 2,
   "metadata": {},
   "outputs": [
    {
     "data": {
      "text/plain": [
       "array(['CIENCIAS DE LA COMUNICACIÓN', 'FARMACIA Y BIOQUÍMICA',\n",
       "       'INGENIERÍA DE SISTEMAS',\n",
       "       'CIENCIAS DE LA EDUCACIÓN EN LENGUA Y LITERATURA', 'ENFERMERÍA',\n",
       "       'INGENIERÍA CIVIL', 'OBSTETRICIA', 'PSICOLOGÍA', 'BIOLOGÍA',\n",
       "       'CONTABILIDAD', 'DERECHO', 'AGRONOMÍA', 'ADMINISTRACIÓN',\n",
       "       'CIENCIAS DE LA EDUCACIÓN EN FILOSOFÍA, PSICOLOGÍA Y CIENCIAS SOCIALES',\n",
       "       'NEGOCIOS INTERNACIONALES', 'INGENIERÍA MECÁNICA ELÉCTRICA',\n",
       "       'INGENIERÍA PESQUERA', 'INGENIERÍA METALÚRGICA', 'ODONTOLOGÍA',\n",
       "       'INGENIERÍA ELECTRÓNICA', 'ARQUITECTURA',\n",
       "       'INGENIERÍA AMBIENTAL Y SANITARIA',\n",
       "       'MEDICINA VETERINARIA Y ZOOTECNIA', 'INGENIERÍA QUÍMICA',\n",
       "       'CIENCIAS DE LA EDUCACIÓN EN EDUCACIÓN FÍSICA',\n",
       "       'CIENCIAS DE LA EDUCACIÓN EN EDUCACIÓN INICIAL', 'ARQUEOLOGÍA',\n",
       "       'ECONOMÍA', 'TURISMO',\n",
       "       'CIENCIAS DE LA EDUCACIÓN EN EDUCACIÓN PRIMARIA', 'FÍSICA',\n",
       "       'CIENCIAS DE LA EDUCACIÓN EN EDUCACIÓN ARTÍSTICA',\n",
       "       'INGENIERÍA DE ALIMENTOS', 'INGENIERÍA DE MINAS', 'ESTADÍSTICA',\n",
       "       'CIENCIAS DE LA EDUCACIÓN EN MATEMÁTICA E INFORMÁTICA',\n",
       "       'MATEMÁTICA E INFORMÁTICA',\n",
       "       'CIENCIAS DE LA EDUCACIÓN EN HISTORIA Y GEOGRAFÍA'], dtype=object)"
      ]
     },
     "execution_count": 2,
     "metadata": {},
     "output_type": "execute_result"
    }
   ],
   "source": [
    "import pandas as pd\n",
    "df_postulantes = pd.read_excel('base.xlsx')\n",
    "carrera = df_postulantes['CARRERA'].unique()\n",
    "carrera"
   ]
  }
 ],
 "metadata": {
  "kernelspec": {
   "display_name": "venv",
   "language": "python",
   "name": "python3"
  },
  "language_info": {
   "codemirror_mode": {
    "name": "ipython",
    "version": 3
   },
   "file_extension": ".py",
   "mimetype": "text/x-python",
   "name": "python",
   "nbconvert_exporter": "python",
   "pygments_lexer": "ipython3",
   "version": "3.10.6"
  },
  "orig_nbformat": 4
 },
 "nbformat": 4,
 "nbformat_minor": 2
}
