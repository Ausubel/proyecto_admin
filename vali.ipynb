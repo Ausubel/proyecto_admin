{
 "cells": [
  {
   "cell_type": "code",
   "execution_count": 109,
   "metadata": {},
   "outputs": [
    {
     "name": "stdout",
     "output_type": "stream",
     "text": [
      "  lito_clave tema_clave                                           solucion\n",
      "0     033872          A  TRRQRPRTRRQSTQTQPQQRQSQRQSSRTSTPQRTRPSTRRQQTRS...\n",
      "1     033871          B  TTPTRTPTSSSTPTTSPPSQRRTQPRPRSPTTRTQQPPSPP STRR...\n",
      "2     033874          C  PQQSQRQTTQRSRPPRPQTPRPPTSTPRSQQTTSPTSQTTTTRSQQ...\n",
      "3     033873          D  PTRPRTRSTSSTSPSTPTQSRSQQQSQRQSRPSQPPRTRPRRTPPS...\n",
      "4     033880          P  TPPRRTRSQSRQQSPRPRQRSQQTPTSSPTTPTTPRRQSSPQQSRQ...\n",
      "5     033877          Q  PTRQPTPTSRQQQQQPSQQRPSRQSQTPPSPQPTRRPPQTTQQRRP...\n",
      "6     033876          R  QPTSPSTSSTTQSTPQRSPSQTRPTRTPPSSQSRTTPPTTTPTTQS...\n",
      "7     033875          S  QTRTSQSPSRRPSPRPPTRRRPPRTTRQRPSSSPTPQRQPQSSPPS...\n",
      "     lito tema  codigo\n",
      "0  010486    A  350025\n",
      "1  010515    R  306126\n",
      "2  010489    C  326710\n",
      "3  010498    S  320804\n",
      "4  010492    B  320802\n",
      "     lito tema                                          respuesta\n",
      "0  010486    A  SR STQRRST R  P QSTQRPPTRTP RPQPTS SSTQSR R  Q...\n",
      "1  010515    R  PQQPRQSPTSRSQRQRPTQPTTQPQTRRQ RPSPPPST P R QPQ...\n",
      "2  010484    C     R          Q          TSSPTTPT PSRQSSRQTSRQ...\n",
      "3  010498    S  PTR QPRSTSSTS STSQQS RQQQTQRQ RPSQ  RT PRR Q T...\n",
      "4  010512    B  QTSQSQRTTPQRSRTQSRTQRSPQTPSQTPPRQTRTSRPTQTSPRP...\n"
     ]
    }
   ],
   "source": [
    "import pandas as pd\n",
    "import re\n",
    "try:\n",
    "    with open(\"claves.sdf\", \"r\") as archivo:\n",
    "        df_claves = pd.DataFrame(columns=['lito_clave', 'tema_clave', 'solucion'])\n",
    "        data_claves = archivo.readlines()\n",
    "        for line in data_claves:\n",
    "            lito = line[:6]\n",
    "            tema = line[6]\n",
    "            solucion = line[7:].replace('\\n', '')\n",
    "            df_claves = pd.concat([df_claves, pd.DataFrame({'lito_clave': [lito], 'tema_clave': [tema], 'solucion': [solucion]})], ignore_index=True)            \n",
    "    print(df_claves)\n",
    "except Exception as e:\n",
    "    print('Hubo un error: ', e)\n",
    "try:\n",
    "    with open(\"i.sdf\", \"r\") as archivo:\n",
    "        df_identifi = pd.DataFrame(columns=['lito', 'tema', 'codigo'])\n",
    "        data_identifi = archivo.readlines()\n",
    "        for linea in data_identifi:\n",
    "            lito = linea[:6]\n",
    "            tema = linea[6]\n",
    "            codigo = linea[7:].replace('\\n', '')\n",
    "            df_identifi = pd.concat([df_identifi, pd.DataFrame({'lito': [lito], 'tema': [tema], 'codigo': [codigo]})], ignore_index=True)\n",
    "    print(df_identifi)\n",
    "except Exception as e:\n",
    "    print('Hubo un error: ', e)\n",
    "try:\n",
    "    with open(\"r.sdf\", \"r\") as archivo:\n",
    "        df_respuestas = pd.DataFrame(columns=['lito', 'tema', 'respuesta'])\n",
    "        data_respuestas = archivo.readlines()\n",
    "        for linea in data_respuestas:\n",
    "            lito = linea[:6]\n",
    "            tema = linea[6]\n",
    "            respuesta = linea[7:].replace('\\n', '')\n",
    "            df_respuestas = pd.concat([df_respuestas, pd.DataFrame({'lito': [lito], 'tema': [tema], 'respuesta': [respuesta]})], ignore_index=True)\n",
    "    print(df_respuestas)\n",
    "except Exception as e:\n",
    "    print('Hubo un error: ', e)"
   ]
  },
  {
   "attachments": {},
   "cell_type": "markdown",
   "metadata": {},
   "source": [
    "### Validar duplicado codigo"
   ]
  },
  {
   "cell_type": "code",
   "execution_count": 89,
   "metadata": {},
   "outputs": [
    {
     "name": "stdout",
     "output_type": "stream",
     "text": [
      "No se encontraron duplicados en la columna 'codigo'\n"
     ]
    }
   ],
   "source": [
    "def duplicated_code_solution(df_identifi):\n",
    "    res = \"\"\n",
    "\n",
    "    # cambia el indice\n",
    "    df_identifi = df_identifi.reset_index(drop=True)\n",
    "    df_identifi.index += 1\n",
    "\n",
    "    duplicados = df_identifi.duplicated(subset=['codigo'], keep=False)\n",
    "    if duplicados.any():\n",
    "        res += \"Se encontraron codigos duplicados:\\n\\n\"\n",
    "        datos_duplicados = {}\n",
    "        for codigo, df_codigo in df_identifi[duplicados].groupby('codigo'):\n",
    "            if len(df_codigo) > 1:\n",
    "                datos_duplicados[codigo] = {'lito': [], 'tema': [], 'indices': []}\n",
    "                for idx, fila in enumerate(df_codigo.itertuples(), start=1):\n",
    "                    datos_duplicados[codigo]['lito'].append(fila.lito)\n",
    "                    datos_duplicados[codigo]['tema'].append(fila.tema)\n",
    "                    datos_duplicados[codigo]['indices'].append(fila.Index)\n",
    "                df_duplicados = pd.DataFrame({'lito': datos_duplicados[codigo]['lito'], 'tema': datos_duplicados[codigo]['tema'], 'codigo': [codigo]*len(df_codigo), 'fila': datos_duplicados[codigo]['indices']})\n",
    "                df_duplicados = df_duplicados[['lito', 'tema', 'codigo', 'fila']]\n",
    "                res += f\"{str(df_duplicados)}\\n\"\n",
    "    else:\n",
    "        res += \"No se encontraron duplicados en la columna 'codigo'\"\n",
    "    return res\n",
    "\n",
    "sol = duplicated_code_solution(df_identifi)\n",
    "print(sol)"
   ]
  },
  {
   "attachments": {},
   "cell_type": "markdown",
   "metadata": {},
   "source": [
    "### VALIDAR DUPLICADO DE LITO DE DF_IDENTIFI Y DF_RESPUESTA "
   ]
  },
  {
   "cell_type": "code",
   "execution_count": 88,
   "metadata": {},
   "outputs": [
    {
     "name": "stdout",
     "output_type": "stream",
     "text": [
      "Duplicado litio identificador\n",
      "     lito tema  codigo\n",
      "4  010498    S  320804\n",
      "5  010498    B  320802\n",
      "\n",
      "Duplicado litio respuesta\n",
      "No hay duplicados\n",
      "\n"
     ]
    }
   ],
   "source": [
    "def duplicated_litio_identifi(df_identifi):\n",
    "    # cambia el indice\n",
    "    df_identifi = df_identifi.reset_index(drop=True)\n",
    "    df_identifi.index += 1\n",
    "\n",
    "    # Verifica si hay duplicados en la columna 'lito'\n",
    "    duplicados = df_identifi.duplicated(subset=['lito'], keep=False)\n",
    "\n",
    "    # Filtra las filas que contienen duplicados\n",
    "    filas_con_duplicados = df_identifi.where(duplicados).dropna()\n",
    "    \n",
    "\n",
    "    if filas_con_duplicados.empty:\n",
    "        return \"No hay duplicados\"\n",
    "    else:\n",
    "        return filas_con_duplicados\n",
    "def duplicated_litio_solution(df_respuestas):\n",
    "    # cambia el indice\n",
    "    df_respuestas = df_respuestas.reset_index(drop=True)\n",
    "    df_respuestas.index += 1\n",
    "\n",
    "    # Verifica si hay duplicados en la columna 'lito'\n",
    "    duplicados = df_respuestas.duplicated(subset=['lito'], keep=False)\n",
    "\n",
    "    # Filtra las filas que contienen duplicados\n",
    "    filas_con_duplicados = df_respuestas.where(duplicados).dropna()\n",
    "    \n",
    "\n",
    "    if filas_con_duplicados.empty:\n",
    "        return \"No hay duplicados\"\n",
    "    else:\n",
    "        return filas_con_duplicados\n",
    "\n",
    "print(f\"Duplicado litio identificador\\n{duplicated_litio_identifi(df_identifi)}\\n\")\n",
    "print(f\"Duplicado litio respuesta\\n{duplicated_litio_solution(df_respuestas)}\\n\")"
   ]
  },
  {
   "attachments": {},
   "cell_type": "markdown",
   "metadata": {},
   "source": [
    "### VALIDAR LITO NO LOCALIZADO"
   ]
  },
  {
   "cell_type": "code",
   "execution_count": 82,
   "metadata": {},
   "outputs": [],
   "source": [
    "# def sin_pareja(df_id, df_resp):\n",
    "#     ser_lit_id = pd.Series(df_id['lito'], index=range(len(df_id['lito'])))\n",
    "#     ser_lit_re = pd.Series(df_resp['lito'], index=range(len(df_resp['lito'])))\n",
    "#     ser_merge = ser_lit_id.isin(ser_lit_re)\n",
    "#     no_pareja = 'orden | litho  | tema | codigo \\n'\n",
    "#     for i in range(len(df_id)):\n",
    "#         if not ser_merge[i]:\n",
    "#             no_pareja += f'{i+1}  | {df_id.iloc[i,0]} |  {df_id.iloc[i,1]}   | {df_id.iloc[i,2]} \\n'\n",
    "#         else:\n",
    "#             no_pareja = 'Todos los litos estan localizados'\n",
    "#     return no_pareja\n",
    "# print(sin_pareja(df_identifi, df_respuestas))"
   ]
  },
  {
   "cell_type": "code",
   "execution_count": 95,
   "metadata": {},
   "outputs": [
    {
     "name": "stdout",
     "output_type": "stream",
     "text": [
      "Dataframe no localizado\n",
      "     lito tema  codigo respuesta     _merge\n",
      "2  010489    C  326710       NaN  left_only\n",
      "4  010498    B  320802       NaN  left_only\n"
     ]
    }
   ],
   "source": [
    "# Unir los dataframes y filtrar las filas no localizadas\n",
    "merged = pd.merge(df_identifi, df_respuestas, on=['lito', 'tema'], how='outer', indicator=True)\n",
    "no_localizados = merged[merged['_merge'] == 'left_only']\n",
    "\n",
    "# Mostrar los resultados\n",
    "print('Dataframe no localizado')\n",
    "print(no_localizados)"
   ]
  },
  {
   "cell_type": "code",
   "execution_count": 116,
   "metadata": {},
   "outputs": [
    {
     "name": "stdout",
     "output_type": "stream",
     "text": [
      "Dataframe no localizado\n",
      "     lito\n",
      "5  010484\n",
      "6  010512\n"
     ]
    }
   ],
   "source": [
    "# Unir los dataframes y filtrar las filas no localizadas\n",
    "merged = pd.merge(df_identifi, df_respuestas, on=['lito', 'tema'], how='outer', indicator=True)\n",
    "no_localizados = merged.query(\"_merge == 'right_only'\").loc[:, ['lito']]\n",
    "\n",
    "# Mostrar los resultados\n",
    "print('Dataframe no localizado')\n",
    "print(pd.DataFrame({'lito': no_localizados['lito']}))"
   ]
  },
  {
   "cell_type": "code",
   "execution_count": 113,
   "metadata": {},
   "outputs": [
    {
     "name": "stdout",
     "output_type": "stream",
     "text": [
      "Dataframe no localizado\n",
      "     lito\n",
      "5  010489\n",
      "6  010492\n"
     ]
    }
   ],
   "source": [
    "# Unir los dataframes y filtrar las filas no localizadas\n",
    "merged = pd.merge(df_respuestas, df_identifi, on=['lito', 'tema'], how='outer', indicator=True)\n",
    "no_localizados = merged.query(\"_merge == 'right_only'\").loc[:, ['lito']]\n",
    "\n",
    "# Mostrar los resultados\n",
    "print('Dataframe no localizado')\n",
    "print(pd.DataFrame({'lito': no_localizados['lito']}))"
   ]
  }
 ],
 "metadata": {
  "kernelspec": {
   "display_name": "env",
   "language": "python",
   "name": "python3"
  },
  "language_info": {
   "codemirror_mode": {
    "name": "ipython",
    "version": 3
   },
   "file_extension": ".py",
   "mimetype": "text/x-python",
   "name": "python",
   "nbconvert_exporter": "python",
   "pygments_lexer": "ipython3",
   "version": "3.11.1"
  },
  "orig_nbformat": 4
 },
 "nbformat": 4,
 "nbformat_minor": 2
}
