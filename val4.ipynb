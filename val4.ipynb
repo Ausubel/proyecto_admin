{
 "cells": [
  {
   "cell_type": "code",
   "execution_count": 54,
   "metadata": {},
   "outputs": [],
   "source": [
    "import pandas as pd"
   ]
  },
  {
   "cell_type": "code",
   "execution_count": 55,
   "metadata": {},
   "outputs": [
    {
     "name": "stdout",
     "output_type": "stream",
     "text": [
      "     lito tema  codigo\n",
      "0  010486    C  350025\n",
      "1  010515    D  306126\n",
      "2  010484    P  326710\n",
      "3  010498    D  302174\n",
      "4  010512    B  320804\n",
      "5  010510    B  316323\n",
      "6  010487    S  318485\n",
      "7  010482    D  312488\n",
      "8  010483    Q  345033\n",
      "9  010519    Q  308296\n"
     ]
    }
   ],
   "source": [
    "try:\n",
    "    with open(\"identifi.sdf\", \"r\") as archivo:\n",
    "        df_identifi = pd.DataFrame(columns=['lito', 'tema', 'codigo'])\n",
    "        data_identifi = archivo.readlines()\n",
    "        for linea in data_identifi:\n",
    "            lito = linea[:6]\n",
    "            tema = linea[6]\n",
    "            codigo = linea[7:].replace('\\n', '')\n",
    "            df_identifi = pd.concat([df_identifi, pd.DataFrame({'lito': [lito], 'tema': [tema], 'codigo': [codigo]})], ignore_index=True)\n",
    "    print(df_identifi)\n",
    "except Exception as e:\n",
    "    print('Hubo un error: ', e)"
   ]
  },
  {
   "attachments": {},
   "cell_type": "markdown",
   "metadata": {},
   "source": [
    "Validar carnet postulante: Devuelve toda la info del postulante no identificado"
   ]
  },
  {
   "cell_type": "code",
   "execution_count": 56,
   "metadata": {},
   "outputs": [
    {
     "name": "stdout",
     "output_type": "stream",
     "text": [
      "Los siguientes códigos en df_postulantes no están presentes en df_identifi:\n",
      "    codigo tema    nombres    apellidos     escuela\n",
      "10  308295    Q  alumno_10  apellido_10  escuela_11\n",
      "No hay códigos faltantes en df_postulantes que no estén en df_identifi.\n"
     ]
    }
   ],
   "source": [
    "df_postulantes = pd.read_csv('postulantes.csv')\n",
    "df_identifi['codigo'] = df_identifi['codigo'].astype('int64')\n",
    "\n",
    "# codigos_postulantes = df_postulantes['codigo'].unique().tolist()\n",
    "# codigos_identifi = df_identifi['codigo'].unique().tolist()\n",
    "\n",
    "# codigos_faltantes_postulantes = [codigo for codigo in codigos_postulantes if codigo not in codigos_identifi]\n",
    "# codigos_faltantes_identifi = [codigo for codigo in codigos_identifi if codigo not in codigos_postulantes]\n",
    "\n",
    "# if len(codigos_faltantes_postulantes) == 0:\n",
    "#     print(\"No hay códigos faltantes en df_postulantes que no estén en df_identifi.\")\n",
    "# else:\n",
    "#     print(\"Los siguientes códigos en df_postulantes no están presentes en df_identifi:\")\n",
    "#     for codigo in codigos_faltantes_postulantes:\n",
    "#         print(codigo)\n",
    "#         faltante = df_postulantes.loc[df_postulantes['codigo'] == codigo]\n",
    "#         df_identifi = pd.concat([df_identifi, faltante], ignore_index=True)\n",
    "\n",
    "# if len(codigos_faltantes_identifi) == 0:\n",
    "#     print(\"No hay códigos faltantes en df_identifi que no estén en df_postulantes.\")\n",
    "# else:\n",
    "#     print(\"Los siguientes códigos en df_identifi no están presentes en df_postulantes:\")\n",
    "#     for codigo in codigos_faltantes_identifi:\n",
    "#         print(codigo)\n",
    "\n",
    "\n",
    "# df_identifi['codigo'] = df_identifi['codigo'].astype('int64')\n",
    "\n",
    "# cantidades_identifi = df_identifi.groupby('codigo').size()\n",
    "# cantidades_postulantes = df_postulantes.groupby('codigo').size()\n",
    "\n",
    "# df_cantidades = pd.concat([cantidades_identifi, cantidades_postulantes], axis=1)\n",
    "# print(df_cantidades)\n",
    "# df_cantidades.columns = ['identifi', 'postulantes']\n",
    "# codigos_diferentes = df_cantidades[df_cantidades['identifi'] != df_cantidades['postulantes']].index.tolist()\n",
    "# df_faltantes = pd.merge(df_identifi[df_identifi['codigo'].isin(codigos_diferentes)], df_postulantes, on='codigo', how='left')\n",
    "# faltantes = df_faltantes[df_faltantes['nombres'].isna()][['codigo', 'apellidos']].drop_duplicates().reset_index(drop=True)\n",
    "# if len(codigos_diferentes) == 0:\n",
    "#     print(\"La cantidad de postulantes en ambos DataFrames es la misma para cada código.\")\n",
    "# else:\n",
    "#     print(\"Los postulantes faltantes en df_identifi son:\")\n",
    "#     print(faltantes['codigo'].to_string(header=False))\n",
    "\n",
    "# codigos_postulantes = df_postulantes['codigo'].unique().tolist()\n",
    "# codigos_identifi = df_identifi['codigo'].unique().tolist()\n",
    "# codigos_faltantes = [codigo for codigo in codigos_postulantes if codigo not in codigos_identifi]\n",
    "\n",
    "# if len(codigos_faltantes) == 0:\n",
    "#     print(\"No hay códigos faltantes en df_postulantes que no estén en df_identifi.\")\n",
    "# else:\n",
    "#     print(\"Los siguientes códigos en df_postulantes no están presentes en df_identifi:\")\n",
    "#     print(codigos_faltantes)\n",
    "\n",
    "codigos_identifi = df_identifi['codigo'].unique()\n",
    "codigos_postulantes = df_postulantes['codigo'].unique()\n",
    "\n",
    "codigos_faltantes_identifi = set(codigos_postulantes) - set(codigos_identifi)\n",
    "codigos_faltantes_postulantes = set(codigos_identifi) - set(codigos_postulantes)\n",
    "\n",
    "if len(codigos_faltantes_identifi) == 0:\n",
    "    print(\"No hay códigos faltantes en df_identifi que no estén en df_postulantes.\")\n",
    "else:\n",
    "    print(\"Los siguientes códigos en df_postulantes no están presentes en df_identifi:\")\n",
    "    print(df_postulantes.loc[df_postulantes['codigo'].isin(codigos_faltantes_identifi)])\n",
    "\n",
    "if len(codigos_faltantes_postulantes) == 0:\n",
    "    print(\"No hay códigos faltantes en df_postulantes que no estén en df_identifi.\")\n",
    "else:\n",
    "    print(\"Los siguientes códigos en df_identifi no están presentes en df_postulantes:\")\n",
    "    print(df_identifi.loc[df_identifi['codigo'].isin(codigos_faltantes_postulantes)])\n"
   ]
  },
  {
   "cell_type": "markdown",
   "metadata": {},
   "source": []
  }
 ],
 "metadata": {
  "kernelspec": {
   "display_name": "venv",
   "language": "python",
   "name": "python3"
  },
  "language_info": {
   "codemirror_mode": {
    "name": "ipython",
    "version": 3
   },
   "file_extension": ".py",
   "mimetype": "text/x-python",
   "name": "python",
   "nbconvert_exporter": "python",
   "pygments_lexer": "ipython3",
   "version": "3.10.6"
  },
  "orig_nbformat": 4
 },
 "nbformat": 4,
 "nbformat_minor": 2
}
