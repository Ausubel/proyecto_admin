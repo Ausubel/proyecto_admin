{
 "cells": [
  {
   "attachments": {},
   "cell_type": "markdown",
   "metadata": {},
   "source": [
    "## Pruebas"
   ]
  },
  {
   "attachments": {},
   "cell_type": "markdown",
   "metadata": {},
   "source": [
    "\n",
    "### 1° Lectura"
   ]
  },
  {
   "cell_type": "code",
   "execution_count": 306,
   "metadata": {},
   "outputs": [
    {
     "name": "stdout",
     "output_type": "stream",
     "text": [
      "  lito_clave tema_clave solucion\n",
      "0     033872          A    TRRQR\n",
      "1     033871          B    TTPTR\n",
      "2     033874          C    PQQSQ\n",
      "3     033873          D    PT PR\n",
      "4     033880          P    TPPR \n",
      "5     033877          Q    PTRQP\n",
      "6     033876          R    QPTSP\n",
      "7     033875          S    QTRTS\n",
      "     lito tema    codigo\n",
      "0  010486    C  72856468\n",
      "1  010515    D  75701424\n",
      "2  010484    P  77050605\n",
      "3  010498    D  72198387\n",
      "4  010512    B  75959712\n",
      "     lito tema respuesta\n",
      "0  010486    C      QR*S\n",
      "1  010515    D     Q QRQ\n",
      "2  010484    P     *Q QS\n",
      "3  010498    D     QQRQS\n",
      "4  010512    B     QQRQS\n"
     ]
    }
   ],
   "source": [
    "import pandas as pd\n",
    "import re\n",
    "# Constantes\n",
    "TEMA = \"ABCDPQRS\"\n",
    "PATRON_CLAVES = 'TRQSP '\n",
    "PATRON_RESPUESTAS = 'TRQSP *'\n",
    "LARGO_CODIGO = 8\n",
    "LARGO_LITO = 7\n",
    "\n",
    "# Cambiar largo codigo y lito\n",
    "\n",
    "# Lectura claves\n",
    "try:\n",
    "    with open(\"sdf/cla.sdf\", \"r\") as archivo:\n",
    "        df_claves = pd.DataFrame(columns=['lito_clave', 'tema_clave', 'solucion'])    \n",
    "        data_claves = archivo.readlines()\n",
    "        for line in data_claves:\n",
    "            lito = line[:6]\n",
    "            tema = line[6]\n",
    "            solucion = line[7:].replace('\\n', '')\n",
    "            df_claves = pd.concat([df_claves, pd.DataFrame({'lito_clave': [lito], 'tema_clave': [tema], 'solucion': [solucion]})], ignore_index=True)            \n",
    "        archivo.close()\n",
    "    print(df_claves)\n",
    "except Exception as e:\n",
    "    print('Hubo un error: ', e)\n",
    "\n",
    "# Lectura identificadores\n",
    "try:\n",
    "    with open(\"sdf/iden.sdf\", \"r\") as archivo:\n",
    "        df_identifi = pd.DataFrame(columns=['lito', 'tema', 'codigo'])\n",
    "        data_identifi = archivo.readlines()\n",
    "        for linea in data_identifi:\n",
    "            lito = linea[:6]\n",
    "            tema = linea[6]\n",
    "            codigo = linea[7:].replace('\\n', '')\n",
    "            df_identifi = pd.concat([df_identifi, pd.DataFrame({'lito': [lito], 'tema': [tema], 'codigo': [codigo]})], ignore_index=True)\n",
    "        archivo.close()\n",
    "    print(df_identifi)\n",
    "except Exception as e:\n",
    "    print('Hubo un error: ', e)\n",
    "\n",
    "# Lectura respuestas\n",
    "try:\n",
    "    with open(\"sdf/res.sdf\", \"r\") as archivo:\n",
    "        df_respuestas = pd.DataFrame(columns=['lito', 'tema', 'respuesta'])\n",
    "        data_respuestas = archivo.readlines()\n",
    "        for linea in data_respuestas:\n",
    "            lito = linea[:6]\n",
    "            tema = linea[6]\n",
    "            respuesta = linea[7:].replace('\\n', '')\n",
    "            df_respuestas = pd.concat([df_respuestas, pd.DataFrame({'lito': [lito], 'tema': [tema], 'respuesta': [respuesta]})], ignore_index=True)\n",
    "        archivo.close()\n",
    "    print(df_respuestas)\n",
    "except Exception as e:\n",
    "    print('Hubo un error: ', e)\n",
    "\n"
   ]
  },
  {
   "attachments": {},
   "cell_type": "markdown",
   "metadata": {},
   "source": [
    "### 2° Pruebas de validacion"
   ]
  },
  {
   "attachments": {},
   "cell_type": "markdown",
   "metadata": {},
   "source": [
    "#### - Validacion de estructura"
   ]
  },
  {
   "cell_type": "code",
   "execution_count": 307,
   "metadata": {},
   "outputs": [],
   "source": [
    "def estructure_solution(df_claves, df_identifi, df_respuestas, tema, patron_claves, patron_respuestas, largo_codigo, largo_lito):\n",
    "    # cambia el indice\n",
    "    df_claves = df_claves.reset_index(drop=True)\n",
    "    df_claves.index += 1\n",
    "\n",
    "    df_identifi = df_identifi.reset_index(drop=True)\n",
    "    df_identifi.index += 1\n",
    "\n",
    "    df_respuestas = df_respuestas.reset_index(drop=True)\n",
    "    df_respuestas.index += 1\n",
    "\n",
    "    men = 'Verificando claves'\n",
    "    men += '\\n'\n",
    "\n",
    "    def validar_solucion_respuesta(solucion,patron):\n",
    "        if len(solucion) != 100:\n",
    "            return False\n",
    "        if re.match(r'^['+patron+' ]*$', str(solucion)) is None:\n",
    "            return False\n",
    "        return True\n",
    "\n",
    "    # Verificando lito\n",
    "    lito_clave_esnum = pd.to_numeric(df_claves['lito_clave'], errors='coerce').notnull()\n",
    "    invalid_rows = df_claves[~lito_clave_esnum]\n",
    "    if invalid_rows.empty:\n",
    "        men += 'Hecho\\n'\n",
    "    else:\n",
    "        men += 'Error en lito\\n' + invalid_rows['lito_clave'].to_string(header=False) + '\\n'\n",
    "\n",
    "    # Verificando tema\n",
    "    valid_tema = df_identifi['tema'].isin([i for i in tema])\n",
    "    invalid_rows = df_identifi[~valid_tema]\n",
    "    if invalid_rows.empty:\n",
    "        men += 'Hecho\\n'\n",
    "    else:\n",
    "        men += 'Error en lito\\n' + invalid_rows['tema'].to_string(header=False) + '\\n'\n",
    "\n",
    "    # Verificando solucion\n",
    "\n",
    "    valid_rows = df_claves['solucion'].apply(validar_solucion_respuesta, args=(patron_claves,))\n",
    "    invalid_rows = df_claves[~valid_rows]\n",
    "\n",
    "    if invalid_rows.empty:\n",
    "        men += 'Hecho\\n'\n",
    "    else:\n",
    "        men += 'Error en solucion\\n' + invalid_rows['solucion'].to_string(header=False) + '\\n'\n",
    "            \n",
    "\n",
    "    men += 'Verificando identificaciones'\n",
    "    men += '\\n'\n",
    "\n",
    "    # Verificando identificaciones\n",
    "    # Verificando lito\n",
    "    valid_lito_identifi = pd.to_numeric(df_identifi['lito'], errors='coerce').notnull()\n",
    "    invalid_rows_lito_identifi = df_identifi[~valid_lito_identifi]\n",
    "    if invalid_rows_lito_identifi.empty:\n",
    "        men += 'Hecho\\n'\n",
    "    else:\n",
    "        men += 'Error en lito\\n' + invalid_rows_lito_identifi['lito'].to_string(header=False) + '\\n'\n",
    "    \n",
    "    # Verificando tema\n",
    "    valid_tema_identifi = df_identifi['tema'].isin([i for i in tema])\n",
    "    invalid_rows_tema_identifi = df_identifi[~valid_tema_identifi]\n",
    "    if invalid_rows_tema_identifi.empty:\n",
    "        men += 'Hecho\\n'\n",
    "    else:\n",
    "        men += 'Error en tema\\n' + invalid_rows_tema_identifi['tema'].to_string(header=False) + '\\n'\n",
    "    \n",
    "    # Verificando codigo\n",
    "    valid_codigo_identifi = pd.to_numeric(df_identifi['codigo'], errors='coerce').notnull()\n",
    "    valid_codigo_identifi_len = df_identifi['codigo'].apply(lambda x: len(x) == largo_codigo)\n",
    "    invalid_codigo_identifi = df_identifi[~valid_codigo_identifi]\n",
    "    invalid_codigo_identifi_len  = df_identifi[~valid_codigo_identifi_len]\n",
    "    invalid_rows_codigo_identifi = df_identifi[~(valid_codigo_identifi & valid_codigo_identifi_len)]\n",
    "    if invalid_rows_codigo_identifi.empty:\n",
    "        men += 'Hecho\\n'\n",
    "    else:\n",
    "        men += 'Error en tema\\n' + invalid_rows_codigo_identifi['codigo'].to_string(header=False) + '\\n'\n",
    "\n",
    "    men += 'Verificando Respuestas'\n",
    "    men += '\\n'\n",
    "\n",
    "    # Verificando lito\n",
    "    valid_lito_respuestas = pd.to_numeric(df_respuestas['lito'], errors='coerce').notnull()\n",
    "    valid_codigo_identifi_len = df_identifi['lito'].apply(lambda x: len(x) == largo_lito)\n",
    "    invalid_lito_respuesta = df_respuestas[~valid_lito_respuestas]\n",
    "    if invalid_lito_respuesta.empty:\n",
    "        men += 'Hecho\\n'\n",
    "    else:\n",
    "        men += 'Error en tema\\n' + invalid_lito_respuesta['lito'].to_string(header=False) + '\\n'\n",
    "\n",
    "    # Verificando tema\n",
    "    valid_tema_respuestas = df_respuestas['tema'].isin([i for i in tema])\n",
    "    invalid_rows_tema_respuestas = df_respuestas[~valid_tema_respuestas]\n",
    "    if invalid_rows_codigo_identifi.empty:\n",
    "        men += 'Hecho\\n'\n",
    "    else:\n",
    "        men += 'Error en tema\\n' + invalid_rows_codigo_identifi['tema'].to_string(header=False) + '\\n'\n",
    "\n",
    "    # Verificando respuesta\n",
    "    valid_rows_respuestas = df_respuestas['respuesta'].apply(validar_solucion_respuesta, args=(patron_respuestas,))\n",
    "    invalid_rows_respuestas = df_respuestas[~valid_rows_respuestas]\n",
    "\n",
    "    if invalid_rows_respuestas.empty:\n",
    "        men += 'Hecho\\n'\n",
    "    else:\n",
    "        men += 'Error en respuesta\\n' + invalid_rows_respuestas['respuesta'].to_string(header=False) + '\\n'\n",
    "    return men\n"
   ]
  },
  {
   "cell_type": "code",
   "execution_count": 308,
   "metadata": {},
   "outputs": [
    {
     "name": "stdout",
     "output_type": "stream",
     "text": [
      "Verificando claves\n",
      "Hecho\n",
      "Hecho\n",
      "Error en solucion\n",
      "1    TRRQR\n",
      "2    TTPTR\n",
      "3    PQQSQ\n",
      "4    PT PR\n",
      "5    TPPR \n",
      "6    PTRQP\n",
      "7    QPTSP\n",
      "8    QTRTS\n",
      "Verificando identificaciones\n",
      "Hecho\n",
      "Hecho\n",
      "Hecho\n",
      "Verificando Respuestas\n",
      "Hecho\n",
      "Hecho\n",
      "Error en respuesta\n",
      "1     QR*S\n",
      "2    Q QRQ\n",
      "3    *Q QS\n",
      "4    QQRQS\n",
      "5    QQRQS\n",
      "\n"
     ]
    }
   ],
   "source": [
    "val1 = estructure_solution(df_claves, df_identifi, df_respuestas, TEMA, PATRON_CLAVES, PATRON_RESPUESTAS, LARGO_CODIGO, LARGO_LITO)\n",
    "print(val1)"
   ]
  },
  {
   "attachments": {},
   "cell_type": "markdown",
   "metadata": {},
   "source": [
    "#### - Validación duplicados en codigo identificador"
   ]
  },
  {
   "cell_type": "code",
   "execution_count": 309,
   "metadata": {},
   "outputs": [],
   "source": [
    "def duplicated_code_solution(df_identifi):\n",
    "    res = \"\"\n",
    "    duplicados = df_identifi.duplicated(subset=['codigo'], keep=False)\n",
    "    if duplicados.any():\n",
    "        res += \"Se encontraron codigos duplicados:\\n\\n\"\n",
    "        datos_duplicados = {}\n",
    "        for codigo, df_codigo in df_identifi[duplicados].groupby('codigo'):\n",
    "            if len(df_codigo) > 1:\n",
    "                datos_duplicados[codigo] = {'lito': [], 'tema': [], 'indices': []}\n",
    "                for idx, fila in enumerate(df_codigo.itertuples(), start=1):\n",
    "                    datos_duplicados[codigo]['lito'].append(fila.lito)\n",
    "                    datos_duplicados[codigo]['tema'].append(fila.tema)\n",
    "                    datos_duplicados[codigo]['indices'].append(fila.Index)\n",
    "                df_duplicados = pd.DataFrame({'lito': datos_duplicados[codigo]['lito'], 'tema': datos_duplicados[codigo]['tema'], 'codigo': [codigo]*len(df_codigo), 'fila': datos_duplicados[codigo]['indices']})\n",
    "                df_duplicados = df_duplicados[['lito', 'tema', 'codigo', 'fila']]\n",
    "                res += f\"{str(df_duplicados)}\\n\"\n",
    "    else:\n",
    "        res += \"No se encontraron duplicados en la columna 'codigo'\"\n",
    "    return res"
   ]
  },
  {
   "cell_type": "code",
   "execution_count": 310,
   "metadata": {},
   "outputs": [
    {
     "name": "stdout",
     "output_type": "stream",
     "text": [
      "No se encontraron duplicados en la columna 'codigo'\n"
     ]
    }
   ],
   "source": [
    "val2 = duplicated_code_solution(df_identifi)\n",
    "print(val2)"
   ]
  },
  {
   "attachments": {},
   "cell_type": "markdown",
   "metadata": {},
   "source": [
    "#### - Validación duplicado de lito en identificador y respuesta"
   ]
  },
  {
   "cell_type": "code",
   "execution_count": 311,
   "metadata": {},
   "outputs": [],
   "source": [
    "# Solo se debe devolver un resultado\n",
    "def duplicated_litio_identifi(df_identifi):\n",
    "    # cambia el indice\n",
    "    df_identifi = df_identifi.reset_index(drop=True)\n",
    "    df_identifi.index += 1\n",
    "\n",
    "    # Verifica si hay duplicados en la columna 'lito'\n",
    "    duplicados = df_identifi.duplicated(subset=['lito'], keep=False)\n",
    "\n",
    "    # Filtra las filas que contienen duplicados\n",
    "    filas_con_duplicados = df_identifi.where(duplicados).dropna()\n",
    "    \n",
    "\n",
    "    if filas_con_duplicados.empty:\n",
    "        return \"Duplicado litio identificador\\nNo hay duplicados\"\n",
    "    else:\n",
    "        return \"Duplicado litio identificador\\n{filas_con_duplicados}\"\n",
    "def duplicated_litio_solution(df_respuestas):\n",
    "    # cambia el indice\n",
    "    df_respuestas = df_respuestas.reset_index(drop=True)\n",
    "    df_respuestas.index += 1\n",
    "\n",
    "    # Verifica si hay duplicados en la columna 'lito'\n",
    "    duplicados = df_respuestas.duplicated(subset=['lito'], keep=False)\n",
    "\n",
    "    # Filtra las filas que contienen duplicados\n",
    "    filas_con_duplicados = df_respuestas.where(duplicados).dropna()\n",
    "    \n",
    "\n",
    "    if filas_con_duplicados.empty:\n",
    "        return \"Duplicado litio respuesta\\nNo hay duplicados\"\n",
    "    else:\n",
    "        return \"Duplicado litio respuesta\\n{filas_con_duplicados}\""
   ]
  },
  {
   "cell_type": "code",
   "execution_count": 312,
   "metadata": {},
   "outputs": [
    {
     "name": "stdout",
     "output_type": "stream",
     "text": [
      "Duplicado litio identificador\n",
      "No hay duplicados\n",
      "Duplicado litio respuesta\n",
      "No hay duplicados\n"
     ]
    }
   ],
   "source": [
    "val4_1 = duplicated_litio_identifi(df_identifi)\n",
    "print(val4_1)\n",
    "val4_2 = duplicated_litio_solution(df_respuestas)\n",
    "print(val4_2)"
   ]
  },
  {
   "attachments": {},
   "cell_type": "markdown",
   "metadata": {},
   "source": [
    "### - Validar lito no localizado"
   ]
  },
  {
   "cell_type": "code",
   "execution_count": 313,
   "metadata": {},
   "outputs": [],
   "source": [
    "def lito_not_located1(df_identifi, df_respuestas):\n",
    "    # Unir los dataframes y filtrar las filas no localizadas\n",
    "    merged = pd.merge(df_identifi, df_respuestas, on=['lito', 'tema'], how='outer', indicator=True)\n",
    "    no_localizados = merged.query(\"_merge == 'right_only'\").loc[:, ['lito']]\n",
    "\n",
    "    # Mostrar los resultados\n",
    "    if no_localizados.empty:\n",
    "        return \"Todos han sido localizados de identificador a respuesta\"\n",
    "    else:\n",
    "        return f\"DataFrame no localizado de identificador a respuesta\\n{pd.DataFrame({'lito': no_localizados['lito']})}\"\n",
    "\n",
    "def lito_not_located2(df_identifi, df_respuestas):\n",
    "\n",
    "    # Unir los dataframes y filtrar las filas no localizadas\n",
    "    merged = pd.merge(df_respuestas, df_identifi, on=['lito', 'tema'], how='outer', indicator=True)\n",
    "    no_localizados = merged.query(\"_merge == 'right_only'\").loc[:, ['lito']]\n",
    "\n",
    "    # Mostrar los resultados\n",
    "    if no_localizados.empty:\n",
    "        return \"Todos han sido localizados de respuestas a identificador\"\n",
    "    else:\n",
    "        return f\"DataFrame no localizado de respuestas a identificador\\n{pd.DataFrame({'lito': no_localizados['lito']})}\"\n"
   ]
  },
  {
   "cell_type": "code",
   "execution_count": 314,
   "metadata": {},
   "outputs": [
    {
     "name": "stdout",
     "output_type": "stream",
     "text": [
      "Todos han sido localizados de identificador a respuesta\n",
      "Todos han sido localizados de respuestas a identificador\n"
     ]
    }
   ],
   "source": [
    "val5_1 = lito_not_located1(df_identifi, df_respuestas)\n",
    "print(val5_1)\n",
    "val5_2 = lito_not_located2(df_identifi, df_respuestas)\n",
    "print(val5_2)"
   ]
  },
  {
   "attachments": {},
   "cell_type": "markdown",
   "metadata": {},
   "source": [
    "### - Lectura base de datos en excel"
   ]
  },
  {
   "cell_type": "code",
   "execution_count": 317,
   "metadata": {},
   "outputs": [],
   "source": [
    "df = pd.read_excel('base.xlsx', header=0)"
   ]
  },
  {
   "cell_type": "code",
   "execution_count": 320,
   "metadata": {},
   "outputs": [
    {
     "data": {
      "text/html": [
       "<div>\n",
       "<style scoped>\n",
       "    .dataframe tbody tr th:only-of-type {\n",
       "        vertical-align: middle;\n",
       "    }\n",
       "\n",
       "    .dataframe tbody tr th {\n",
       "        vertical-align: top;\n",
       "    }\n",
       "\n",
       "    .dataframe thead th {\n",
       "        text-align: right;\n",
       "    }\n",
       "</style>\n",
       "<table border=\"1\" class=\"dataframe\">\n",
       "  <thead>\n",
       "    <tr style=\"text-align: right;\">\n",
       "      <th></th>\n",
       "      <th>CODIGO</th>\n",
       "      <th>AP_PATERNO</th>\n",
       "      <th>AP_MATERNO</th>\n",
       "      <th>NOMBRE</th>\n",
       "      <th>CARRERA</th>\n",
       "    </tr>\n",
       "  </thead>\n",
       "  <tbody>\n",
       "    <tr>\n",
       "      <th>0</th>\n",
       "      <td>72856468</td>\n",
       "      <td>ANCHANTE</td>\n",
       "      <td>BONIFAZ</td>\n",
       "      <td>LUIS FELIPE</td>\n",
       "      <td>DERECHO</td>\n",
       "    </tr>\n",
       "    <tr>\n",
       "      <th>1</th>\n",
       "      <td>75959712</td>\n",
       "      <td>ANTAY</td>\n",
       "      <td>SUINEY</td>\n",
       "      <td>LUIS FELIPE</td>\n",
       "      <td>CIVIL</td>\n",
       "    </tr>\n",
       "    <tr>\n",
       "      <th>2</th>\n",
       "      <td>75701424</td>\n",
       "      <td>AQUISE</td>\n",
       "      <td>UCHUYA</td>\n",
       "      <td>LUIS FELIPE</td>\n",
       "      <td>MEDICINA</td>\n",
       "    </tr>\n",
       "    <tr>\n",
       "      <th>3</th>\n",
       "      <td>72198387</td>\n",
       "      <td>ARAOZ</td>\n",
       "      <td>MONTOYA</td>\n",
       "      <td>LUIS FELIPE</td>\n",
       "      <td>DERECHO</td>\n",
       "    </tr>\n",
       "    <tr>\n",
       "      <th>4</th>\n",
       "      <td>77050305</td>\n",
       "      <td>ARIAS</td>\n",
       "      <td>MONTOYA</td>\n",
       "      <td>LUIS FELIPE</td>\n",
       "      <td>SISTEMAS</td>\n",
       "    </tr>\n",
       "    <tr>\n",
       "      <th>5</th>\n",
       "      <td>77050605</td>\n",
       "      <td>ARIAS</td>\n",
       "      <td>MONTOYA</td>\n",
       "      <td>LUIS FELIPE2</td>\n",
       "      <td>SISTEMAS</td>\n",
       "    </tr>\n",
       "    <tr>\n",
       "      <th>6</th>\n",
       "      <td>97050805</td>\n",
       "      <td>ARIAS</td>\n",
       "      <td>MONTOYA</td>\n",
       "      <td>ALVARO</td>\n",
       "      <td>SISTEMAS</td>\n",
       "    </tr>\n",
       "  </tbody>\n",
       "</table>\n",
       "</div>"
      ],
      "text/plain": [
       "     CODIGO AP_PATERNO AP_MATERNO        NOMBRE   CARRERA\n",
       "0  72856468   ANCHANTE    BONIFAZ   LUIS FELIPE   DERECHO\n",
       "1  75959712      ANTAY     SUINEY   LUIS FELIPE     CIVIL\n",
       "2  75701424     AQUISE     UCHUYA   LUIS FELIPE  MEDICINA\n",
       "3  72198387      ARAOZ    MONTOYA   LUIS FELIPE   DERECHO\n",
       "4  77050305      ARIAS    MONTOYA   LUIS FELIPE  SISTEMAS\n",
       "5  77050605      ARIAS    MONTOYA  LUIS FELIPE2  SISTEMAS\n",
       "6  97050805      ARIAS    MONTOYA        ALVARO  SISTEMAS"
      ]
     },
     "execution_count": 320,
     "metadata": {},
     "output_type": "execute_result"
    }
   ],
   "source": [
    "df"
   ]
  },
  {
   "cell_type": "code",
   "execution_count": 319,
   "metadata": {},
   "outputs": [
    {
     "data": {
      "text/html": [
       "<div>\n",
       "<style scoped>\n",
       "    .dataframe tbody tr th:only-of-type {\n",
       "        vertical-align: middle;\n",
       "    }\n",
       "\n",
       "    .dataframe tbody tr th {\n",
       "        vertical-align: top;\n",
       "    }\n",
       "\n",
       "    .dataframe thead th {\n",
       "        text-align: right;\n",
       "    }\n",
       "</style>\n",
       "<table border=\"1\" class=\"dataframe\">\n",
       "  <thead>\n",
       "    <tr style=\"text-align: right;\">\n",
       "      <th></th>\n",
       "      <th>lito</th>\n",
       "      <th>tema</th>\n",
       "      <th>codigo</th>\n",
       "    </tr>\n",
       "  </thead>\n",
       "  <tbody>\n",
       "    <tr>\n",
       "      <th>0</th>\n",
       "      <td>010486</td>\n",
       "      <td>C</td>\n",
       "      <td>72856468</td>\n",
       "    </tr>\n",
       "    <tr>\n",
       "      <th>1</th>\n",
       "      <td>010515</td>\n",
       "      <td>D</td>\n",
       "      <td>75701424</td>\n",
       "    </tr>\n",
       "    <tr>\n",
       "      <th>2</th>\n",
       "      <td>010484</td>\n",
       "      <td>P</td>\n",
       "      <td>77050605</td>\n",
       "    </tr>\n",
       "    <tr>\n",
       "      <th>3</th>\n",
       "      <td>010498</td>\n",
       "      <td>D</td>\n",
       "      <td>72198387</td>\n",
       "    </tr>\n",
       "    <tr>\n",
       "      <th>4</th>\n",
       "      <td>010512</td>\n",
       "      <td>B</td>\n",
       "      <td>75959712</td>\n",
       "    </tr>\n",
       "  </tbody>\n",
       "</table>\n",
       "</div>"
      ],
      "text/plain": [
       "     lito tema    codigo\n",
       "0  010486    C  72856468\n",
       "1  010515    D  75701424\n",
       "2  010484    P  77050605\n",
       "3  010498    D  72198387\n",
       "4  010512    B  75959712"
      ]
     },
     "execution_count": 319,
     "metadata": {},
     "output_type": "execute_result"
    }
   ],
   "source": [
    "df_identifi"
   ]
  },
  {
   "attachments": {},
   "cell_type": "markdown",
   "metadata": {},
   "source": [
    "### OBTENER LOS REGISTROS AUSENTES"
   ]
  },
  {
   "cell_type": "code",
   "execution_count": 322,
   "metadata": {},
   "outputs": [
    {
     "name": "stdout",
     "output_type": "stream",
     "text": [
      "     CODIGO AP_PATERNO AP_MATERNO       NOMBRE   CARRERA\n",
      "4  77050305      ARIAS    MONTOYA  LUIS FELIPE  SISTEMAS\n",
      "6  97050805      ARIAS    MONTOYA       ALVARO  SISTEMAS\n"
     ]
    }
   ],
   "source": [
    "# Convertir la columna 'CODIGO' a tipo object\n",
    "df['CODIGO'] = df['CODIGO'].astype(str)\n",
    "\n",
    "# Hacer el left anti join\n",
    "merged = pd.merge(df, df_identifi[['codigo']], how='left', left_on='CODIGO', right_on='codigo', indicator=True)\n",
    "\n",
    "# Filtrar los registros que no están en df_identifi\n",
    "result = merged[merged['_merge'] == 'left_only'][df.columns]\n",
    "\n",
    "# Imprimir el resultado\n",
    "print(result)"
   ]
  },
  {
   "attachments": {},
   "cell_type": "markdown",
   "metadata": {},
   "source": [
    "### OBTENER LOS REGISTROS ANULADOS"
   ]
  },
  {
   "cell_type": "code",
   "execution_count": null,
   "metadata": {},
   "outputs": [],
   "source": []
  },
  {
   "cell_type": "code",
   "execution_count": 279,
   "metadata": {},
   "outputs": [
    {
     "name": "stdout",
     "output_type": "stream",
     "text": [
      "Hecho\n",
      "\n"
     ]
    }
   ],
   "source": [
    "# # Revisando estructura\n",
    "# men=\"\"\n",
    "# # Verificando codigo    \n",
    "# valid_codigo_identifi = pd.to_numeric(df_identifi['codigo'], errors='coerce').notnull()\n",
    "# valid_codigo_identifi_len = df_identifi['codigo'].apply(lambda x: len(x) == LARGO_CODIGO)\n",
    "# invalid_codigo_identifi = df_identifi[~valid_codigo_identifi]\n",
    "# invalid_codigo_identifi_len  = df_identifi[~valid_codigo_identifi_len]\n",
    "# invalid_rows_codigo_identifi = df_identifi[~(valid_codigo_identifi & valid_codigo_identifi_len)]\n",
    "# if invalid_rows_codigo_identifi.empty:\n",
    "#     men += 'Hecho\\n'\n",
    "# else:\n",
    "#     men += 'Error en tema\\n' + invalid_rows_codigo_identifi['codigo'].to_string(header=False) + '\\n'\n",
    "\n",
    "# print(men)\n"
   ]
  },
  {
   "attachments": {},
   "cell_type": "markdown",
   "metadata": {},
   "source": [
    "### VALIDACIONES UNITARIAS"
   ]
  },
  {
   "cell_type": "code",
   "execution_count": 230,
   "metadata": {},
   "outputs": [
    {
     "name": "stdout",
     "output_type": "stream",
     "text": [
      "Longitud lito de respuestas: 5\n",
      "Longitud tema de respuestas: 5\n",
      "Longitud respuestas de respuesta: 5\n",
      "Longitud lito de respuesta: 5\n",
      "Longitud tema de respuesta: 5\n",
      "Longitud codigo de respuesta: 5\n",
      "Longitud lito de respuesta: 8\n",
      "Longitud tema de respuesta: 8\n",
      "Longitud codigo de respuesta: 8\n",
      "Para la fila 2 del df_identificador: longitud_lito = 6, longitud_tema = 1, longitud_codigo = 8\n",
      "Para la fila 2 del df_respuesta: longitud_lito = 6, longitud_tema = 1, longitud_respuesta = 100\n",
      "Para la fila 2 del df_clave: longitud_lito_clave = 6, longitud_tema_clave = 1, longitud_solucion = 100\n"
     ]
    }
   ],
   "source": [
    "# LARGO DEL REGISTRO GENERAL\n",
    "\n",
    "## PARA DF_RESPUESTAS\n",
    "longitud_lito_respuestas = len(df_respuestas['lito'])\n",
    "longitud_tema_respuestas = len(df_respuestas['tema'])\n",
    "longitud_respuestas_respuestas = len(df_respuestas['respuesta'])\n",
    "\n",
    "print(f\"Longitud lito de respuestas: {longitud_lito_respuestas}\\nLongitud tema de respuestas: {longitud_tema_respuestas}\\nLongitud respuestas de respuesta: {longitud_respuestas_respuestas}\")\n",
    "\n",
    "## PARA DF_IDENTIFI\n",
    "longitud_lito_iden = len(df_identifi['lito'])\n",
    "longitud_tema_iden = len(df_identifi['tema'])\n",
    "longitud_codigo_iden = len(df_identifi['codigo'])\n",
    "\n",
    "print(f\"Longitud lito de respuesta: {longitud_lito_iden}\\nLongitud tema de respuesta: {longitud_tema_iden}\\nLongitud codigo de respuesta: {longitud_codigo_iden}\")\n",
    "\n",
    "\n",
    "## PARA DF_CLAVE\n",
    "longitud_lito_iden = len(df_claves['lito_clave'])\n",
    "longitud_tema_iden = len(df_claves['tema_clave'])\n",
    "longitud_codigo_iden = len(df_claves['solucion'])\n",
    "\n",
    "print(f\"Longitud lito de respuesta: {longitud_lito_iden}\\nLongitud tema de respuesta: {longitud_tema_iden}\\nLongitud codigo de respuesta: {longitud_codigo_iden}\")\n",
    "\n",
    "\n",
    "# VALIDACION POR FILA O REGISTRO\n",
    "\n",
    "## Para df_identifi\n",
    "numero_registro1= 1 # El indice empieza en 0\n",
    "\n",
    "fila = df_identifi.iloc[numero_registro1]\n",
    "longitud_lito = len(fila['lito'])\n",
    "longitud_tema = len(fila['tema'])\n",
    "longitud_codigo = len(str(fila['codigo']))\n",
    "\n",
    "# El indice se muestra apartir de 1\n",
    "print(f'Para la fila {numero_registro1 + 1} del df_identificador: longitud_lito = {longitud_lito}, longitud_tema = {longitud_tema}, longitud_codigo = {longitud_codigo}')\n",
    "\n",
    "## Para df_Respuestas\n",
    "numero_registro2= 1 # El indice empieza en 0\n",
    "\n",
    "fila = df_respuestas.iloc[numero_registro2]\n",
    "longitud_lito = len(fila['lito'])\n",
    "longitud_tema = len(fila['tema'])\n",
    "longitud_respuesta = len(str(fila['respuesta']))\n",
    "\n",
    "# El indice se muestra apartir de 1\n",
    "print(f'Para la fila {numero_registro2 + 1} del df_respuesta: longitud_lito = {longitud_lito}, longitud_tema = {longitud_tema}, longitud_respuesta = {longitud_respuesta}')\n",
    "\n",
    "\n",
    "## Para df_claves\n",
    "numero_registro3= 1 # El indice empieza en 0\n",
    "\n",
    "fila = df_claves.iloc[numero_registro3]\n",
    "longitud_lito_clave = len(fila['lito_clave'])\n",
    "longitud_tema_clave = len(fila['tema_clave'])\n",
    "longitud_solucion = len(str(fila['solucion']))\n",
    "\n",
    "# El indice se muestra apartir de 1\n",
    "print(f'Para la fila {numero_registro3 + 1} del df_clave: longitud_lito_clave = {longitud_lito_clave}, longitud_tema_clave = {longitud_tema_clave}, longitud_solucion = {longitud_solucion}')\n",
    "\n"
   ]
  },
  {
   "cell_type": "code",
   "execution_count": null,
   "metadata": {},
   "outputs": [],
   "source": [
    "# VALIDACION DE CALIFICACION\n"
   ]
  },
  {
   "attachments": {},
   "cell_type": "markdown",
   "metadata": {},
   "source": [
    "## CALIFICAR"
   ]
  },
  {
   "cell_type": "code",
   "execution_count": 303,
   "metadata": {},
   "outputs": [],
   "source": [
    "def qualify_normal(df_claves, df_identifi, df_respuestas):\n",
    "    # Constantes para calificar\n",
    "    correcta = 20\n",
    "    incorrecta = 1.250\n",
    "    nula = 0\n",
    "    puntaje = 0\n",
    "\n",
    "    # DataFrame con los resultados\n",
    "    df_result = pd.DataFrame(columns=['lito', 'tema', 'puntaje', 'correctas', 'incorrectas', 'vacias'], index=range(len(df_respuestas)))\n",
    "\n",
    "    for i in range(len(df_respuestas)):\n",
    "        var_respuesta = df_respuestas.iloc[i, 2]\n",
    "        puntaje = 0\n",
    "        \n",
    "        # Contadores de correctas, incorrectas, nulas\n",
    "        num_cor = 0\n",
    "        num_inc = 0\n",
    "        num_bla = 0\n",
    "\n",
    "        # Un bucle para comparar las respuestas con las claves\n",
    "        for j in range(len(df_claves)):\n",
    "            var_claves = df_claves.iloc[j, 2]\n",
    "            if df_respuestas.iloc[i,1] == df_claves.iloc[j,1]:\n",
    "                for k in range(len(var_respuesta)):\n",
    "                    if var_claves[k] == \" \":\n",
    "                        puntaje += correcta\n",
    "                    elif var_respuesta[k] == var_claves[k]: \n",
    "                        puntaje += correcta\n",
    "                        num_cor += 1\n",
    "                    elif var_respuesta[k] == \" \":\n",
    "                        puntaje += nula\n",
    "                        num_bla += 1\n",
    "                    else:\n",
    "                        puntaje -= incorrecta\n",
    "                        num_inc += 1\n",
    "        df_result.iloc[i] = [df_respuestas.iloc[i,0], df_respuestas.iloc[i,1], puntaje, num_cor, num_inc, num_bla]\n",
    "\n",
    "    # Se hace un merge de DataFrames -> identifi & result\n",
    "    df_final = pd.merge(df_identifi, df_result, on=['lito', 'tema'])\n",
    "    \n",
    "    # Se cambia el orden a descendente -> puntaje\n",
    "    df_final = df_final.sort_values('puntaje', ascending=False)\n",
    "\n",
    "    print(df_final)\n",
    "    # Se crean grupos de DataFrames\n",
    "    groups = df_final.groupby(df_final.tema)\n",
    "    # df_final.to_csv('General.csv', index=False, sep=\",\")\n",
    "    return df_final"
   ]
  },
  {
   "cell_type": "code",
   "execution_count": 304,
   "metadata": {},
   "outputs": [
    {
     "name": "stdout",
     "output_type": "stream",
     "text": [
      "     lito tema    codigo puntaje correctas incorrectas vacias\n",
      "0  010486    C  72856468   16.25         1           3      1\n",
      "1  010515    D  75701424   16.25         0           3      1\n",
      "2  010484    P  77050605   16.25         0           3      1\n",
      "3  010498    D  72198387    15.0         0           4      0\n",
      "4  010512    B  75959712   -6.25         0           5      0\n"
     ]
    }
   ],
   "source": [
    "resultado_general = qualify_normal(df_claves, df_identifi, df_respuestas)"
   ]
  },
  {
   "cell_type": "code",
   "execution_count": 305,
   "metadata": {},
   "outputs": [
    {
     "data": {
      "text/html": [
       "<div>\n",
       "<style scoped>\n",
       "    .dataframe tbody tr th:only-of-type {\n",
       "        vertical-align: middle;\n",
       "    }\n",
       "\n",
       "    .dataframe tbody tr th {\n",
       "        vertical-align: top;\n",
       "    }\n",
       "\n",
       "    .dataframe thead th {\n",
       "        text-align: right;\n",
       "    }\n",
       "</style>\n",
       "<table border=\"1\" class=\"dataframe\">\n",
       "  <thead>\n",
       "    <tr style=\"text-align: right;\">\n",
       "      <th></th>\n",
       "      <th>lito</th>\n",
       "      <th>tema</th>\n",
       "      <th>codigo</th>\n",
       "      <th>puntaje</th>\n",
       "      <th>correctas</th>\n",
       "      <th>incorrectas</th>\n",
       "      <th>vacias</th>\n",
       "    </tr>\n",
       "  </thead>\n",
       "  <tbody>\n",
       "    <tr>\n",
       "      <th>0</th>\n",
       "      <td>010486</td>\n",
       "      <td>C</td>\n",
       "      <td>72856468</td>\n",
       "      <td>16.25</td>\n",
       "      <td>1</td>\n",
       "      <td>3</td>\n",
       "      <td>1</td>\n",
       "    </tr>\n",
       "    <tr>\n",
       "      <th>1</th>\n",
       "      <td>010515</td>\n",
       "      <td>D</td>\n",
       "      <td>75701424</td>\n",
       "      <td>16.25</td>\n",
       "      <td>0</td>\n",
       "      <td>3</td>\n",
       "      <td>1</td>\n",
       "    </tr>\n",
       "    <tr>\n",
       "      <th>2</th>\n",
       "      <td>010484</td>\n",
       "      <td>P</td>\n",
       "      <td>77050605</td>\n",
       "      <td>16.25</td>\n",
       "      <td>0</td>\n",
       "      <td>3</td>\n",
       "      <td>1</td>\n",
       "    </tr>\n",
       "    <tr>\n",
       "      <th>3</th>\n",
       "      <td>010498</td>\n",
       "      <td>D</td>\n",
       "      <td>72198387</td>\n",
       "      <td>15.0</td>\n",
       "      <td>0</td>\n",
       "      <td>4</td>\n",
       "      <td>0</td>\n",
       "    </tr>\n",
       "    <tr>\n",
       "      <th>4</th>\n",
       "      <td>010512</td>\n",
       "      <td>B</td>\n",
       "      <td>75959712</td>\n",
       "      <td>-6.25</td>\n",
       "      <td>0</td>\n",
       "      <td>5</td>\n",
       "      <td>0</td>\n",
       "    </tr>\n",
       "  </tbody>\n",
       "</table>\n",
       "</div>"
      ],
      "text/plain": [
       "     lito tema    codigo puntaje correctas incorrectas vacias\n",
       "0  010486    C  72856468   16.25         1           3      1\n",
       "1  010515    D  75701424   16.25         0           3      1\n",
       "2  010484    P  77050605   16.25         0           3      1\n",
       "3  010498    D  72198387    15.0         0           4      0\n",
       "4  010512    B  75959712   -6.25         0           5      0"
      ]
     },
     "execution_count": 305,
     "metadata": {},
     "output_type": "execute_result"
    }
   ],
   "source": [
    "resultado_general"
   ]
  },
  {
   "attachments": {},
   "cell_type": "markdown",
   "metadata": {},
   "source": [
    "### AGREGAR POSTULANTE"
   ]
  },
  {
   "cell_type": "code",
   "execution_count": null,
   "metadata": {},
   "outputs": [],
   "source": []
  }
 ],
 "metadata": {
  "kernelspec": {
   "display_name": "env",
   "language": "python",
   "name": "python3"
  },
  "language_info": {
   "codemirror_mode": {
    "name": "ipython",
    "version": 3
   },
   "file_extension": ".py",
   "mimetype": "text/x-python",
   "name": "python",
   "nbconvert_exporter": "python",
   "pygments_lexer": "ipython3",
   "version": "3.11.1"
  },
  "orig_nbformat": 4
 },
 "nbformat": 4,
 "nbformat_minor": 2
}
